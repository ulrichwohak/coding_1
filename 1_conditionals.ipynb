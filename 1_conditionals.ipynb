{
 "cells": [
  {
   "cell_type": "markdown",
   "id": "9221d870",
   "metadata": {},
   "source": [
    "# Unit 1: Conditionals\n",
    "\n",
    "1. Logical operators\n",
    "2. Conditional statements: the `if` statement\n",
    "3. Control flows\n",
    "- `for` loops\n",
    "- `while` loops\n",
    "- `list` comprehension"
   ]
  },
  {
   "cell_type": "markdown",
   "id": "e6aeacc0",
   "metadata": {},
   "source": [
    "### Logical operators\n",
    "This is how we define conditions for `if` statements. They evaluate to `True` or `False`."
   ]
  },
  {
   "cell_type": "code",
   "execution_count": 1,
   "id": "d48ff5b2",
   "metadata": {},
   "outputs": [
    {
     "data": {
      "text/plain": [
       "False"
      ]
     },
     "execution_count": 1,
     "metadata": {},
     "output_type": "execute_result"
    }
   ],
   "source": [
    "# Testing for equality\n",
    "5 == 2"
   ]
  },
  {
   "cell_type": "code",
   "execution_count": 2,
   "id": "1203f362",
   "metadata": {},
   "outputs": [
    {
     "data": {
      "text/plain": [
       "True"
      ]
     },
     "execution_count": 2,
     "metadata": {},
     "output_type": "execute_result"
    }
   ],
   "source": [
    "2 == 2"
   ]
  },
  {
   "cell_type": "code",
   "execution_count": 3,
   "id": "0fd53750",
   "metadata": {},
   "outputs": [
    {
     "data": {
      "text/plain": [
       "False"
      ]
     },
     "execution_count": 3,
     "metadata": {},
     "output_type": "execute_result"
    }
   ],
   "source": [
    "# Compare str to int (equality)\n",
    "'2' == 2"
   ]
  },
  {
   "cell_type": "code",
   "execution_count": 4,
   "id": "d9cd38a2",
   "metadata": {},
   "outputs": [
    {
     "ename": "TypeError",
     "evalue": "'<' not supported between instances of 'str' and 'int'",
     "output_type": "error",
     "traceback": [
      "\u001b[1;31m---------------------------------------------------------------------------\u001b[0m",
      "\u001b[1;31mTypeError\u001b[0m                                 Traceback (most recent call last)",
      "\u001b[1;32m~\\AppData\\Local\\Temp/ipykernel_17760/4248783996.py\u001b[0m in \u001b[0;36m<module>\u001b[1;34m\u001b[0m\n\u001b[1;32m----> 1\u001b[1;33m \u001b[1;34m'2'\u001b[0m \u001b[1;33m<\u001b[0m \u001b[1;36m2\u001b[0m\u001b[1;33m\u001b[0m\u001b[1;33m\u001b[0m\u001b[0m\n\u001b[0m",
      "\u001b[1;31mTypeError\u001b[0m: '<' not supported between instances of 'str' and 'int'"
     ]
    }
   ],
   "source": [
    "# Compare str to int (less than)\n",
    "'2' < 2"
   ]
  },
  {
   "cell_type": "code",
   "execution_count": 5,
   "id": "7191c351",
   "metadata": {},
   "outputs": [
    {
     "data": {
      "text/plain": [
       "True"
      ]
     },
     "execution_count": 5,
     "metadata": {},
     "output_type": "execute_result"
    }
   ],
   "source": [
    "# Testing for membership\n",
    "2 in [1, 2, 3]"
   ]
  },
  {
   "cell_type": "code",
   "execution_count": 6,
   "id": "300c580d",
   "metadata": {},
   "outputs": [
    {
     "data": {
      "text/plain": [
       "False"
      ]
     },
     "execution_count": 6,
     "metadata": {},
     "output_type": "execute_result"
    }
   ],
   "source": [
    "2 not in [1, 2, 3]"
   ]
  },
  {
   "cell_type": "code",
   "execution_count": 7,
   "id": "cfa7d43e",
   "metadata": {},
   "outputs": [
    {
     "data": {
      "text/plain": [
       "True"
      ]
     },
     "execution_count": 7,
     "metadata": {},
     "output_type": "execute_result"
    }
   ],
   "source": [
    "# Testing for inequality\n",
    "2 != 5"
   ]
  },
  {
   "cell_type": "code",
   "execution_count": 8,
   "id": "3e31c9c7",
   "metadata": {},
   "outputs": [
    {
     "data": {
      "text/plain": [
       "True"
      ]
     },
     "execution_count": 8,
     "metadata": {},
     "output_type": "execute_result"
    }
   ],
   "source": [
    "# Composite logical statements: and\n",
    "2 == 2 and 5 == 5 # Returns True only if both statements are True"
   ]
  },
  {
   "cell_type": "code",
   "execution_count": 9,
   "id": "5b4d0a3e",
   "metadata": {},
   "outputs": [
    {
     "data": {
      "text/plain": [
       "False"
      ]
     },
     "execution_count": 9,
     "metadata": {},
     "output_type": "execute_result"
    }
   ],
   "source": [
    "2 == 2 and 4 == 5"
   ]
  },
  {
   "cell_type": "code",
   "execution_count": 10,
   "id": "932e463a",
   "metadata": {},
   "outputs": [
    {
     "data": {
      "text/plain": [
       "True"
      ]
     },
     "execution_count": 10,
     "metadata": {},
     "output_type": "execute_result"
    }
   ],
   "source": [
    "# Composite logical statements: or\n",
    "2 == 2 or 5 == 5"
   ]
  },
  {
   "cell_type": "code",
   "execution_count": 11,
   "id": "ad59e3bf",
   "metadata": {},
   "outputs": [
    {
     "data": {
      "text/plain": [
       "True"
      ]
     },
     "execution_count": 11,
     "metadata": {},
     "output_type": "execute_result"
    }
   ],
   "source": [
    "2 == 2 or 4 == 5"
   ]
  },
  {
   "cell_type": "markdown",
   "id": "69d12972",
   "metadata": {},
   "source": [
    "### Conditionals\n",
    "Conditionals have an `if-else` structure. The program performs an oepration (or more) if certain conditions are met."
   ]
  },
  {
   "cell_type": "code",
   "execution_count": 12,
   "id": "371c0670",
   "metadata": {},
   "outputs": [],
   "source": [
    "# Import libraries\n",
    "import random"
   ]
  },
  {
   "cell_type": "code",
   "execution_count": 20,
   "id": "9e6e95ed",
   "metadata": {},
   "outputs": [],
   "source": [
    "# Generate random numbers\n",
    "random_number = random.randint(20, 34)"
   ]
  },
  {
   "cell_type": "code",
   "execution_count": 21,
   "id": "6f1ccad4",
   "metadata": {},
   "outputs": [
    {
     "name": "stdout",
     "output_type": "stream",
     "text": [
      "The number is small.\n"
     ]
    }
   ],
   "source": [
    "# Print message depending on value of random_number\n",
    "if random_number < 25:\n",
    "    print(\"The number is small.\")\n",
    "elif random_number < 30:\n",
    "    print(\"The number is moderately high.\")\n",
    "else:\n",
    "    print(\"It's a large number.\")"
   ]
  },
  {
   "cell_type": "code",
   "execution_count": 23,
   "id": "887b2c30",
   "metadata": {},
   "outputs": [
    {
     "name": "stdout",
     "output_type": "stream",
     "text": [
      "random_number1 is large.\n"
     ]
    }
   ],
   "source": [
    "# Nesting if statements\n",
    "random_number1 = random.randint(1, 12)\n",
    "random_number2 = random.randint(1, 16)\n",
    "\n",
    "\n",
    "if random_number1 > 6:\n",
    "    print(\"random_number1 is large.\")\n",
    "    \n",
    "    if random_number2 > random_number1:\n",
    "        print(\"random_number2 is larger than random_number1.\")"
   ]
  },
  {
   "cell_type": "code",
   "execution_count": 25,
   "id": "d30475a1",
   "metadata": {},
   "outputs": [
    {
     "name": "stdout",
     "output_type": "stream",
     "text": [
      "random_number1 is large.\n",
      "random_number2 is larger than random_number1.\n"
     ]
    }
   ],
   "source": [
    "# if statements with composite logical statements\n",
    "random_number1 = random.randint(1, 12)\n",
    "random_number2 = random.randint(1, 16)\n",
    "\n",
    "if random_number1 > 6 or random_number2 > random_number1:\n",
    "    print(\"random_number1 is large.\")\n",
    "    print(\"random_number2 is larger than random_number1.\")"
   ]
  },
  {
   "cell_type": "markdown",
   "id": "20f2a862",
   "metadata": {},
   "source": [
    "### Loops: the 'for' loop\n",
    "`for` loops can operate on iterables."
   ]
  },
  {
   "cell_type": "code",
   "execution_count": 28,
   "id": "774e91a4",
   "metadata": {},
   "outputs": [],
   "source": [
    "# Define an iterable\n",
    "my_list = ['abc', 5, 19, 88]"
   ]
  },
  {
   "cell_type": "code",
   "execution_count": 29,
   "id": "eef2f3a7",
   "metadata": {},
   "outputs": [
    {
     "name": "stdout",
     "output_type": "stream",
     "text": [
      "abc\n",
      "5\n",
      "19\n",
      "88\n"
     ]
    }
   ],
   "source": [
    "# Define for loop over my_list\n",
    "for i in my_list:\n",
    "    print(i)"
   ]
  },
  {
   "cell_type": "code",
   "execution_count": 37,
   "id": "378c34eb",
   "metadata": {},
   "outputs": [
    {
     "name": "stdout",
     "output_type": "stream",
     "text": [
      "0          is even.\n",
      "1 is odd.\n",
      "2          is even.\n",
      "3 is odd.\n",
      "4          is even.\n",
      "5 is odd.\n",
      "6          is even.\n",
      "7 is odd.\n",
      "8          is even.\n",
      "9 is odd.\n",
      "10          is even.\n",
      "11 is odd.\n",
      "12          is even.\n",
      "13 is odd.\n",
      "14          is even.\n",
      "15 is odd.\n",
      "16          is even.\n",
      "17 is odd.\n",
      "18          is even.\n",
      "19 is odd.\n"
     ]
    }
   ],
   "source": [
    "# Introduce the range() function\n",
    "for i in range(20):\n",
    "    if i%2 == 0:\n",
    "        print(i, \"         is even.\")\n",
    "    else:\n",
    "        print(i, \"is odd.\")"
   ]
  },
  {
   "cell_type": "code",
   "execution_count": 39,
   "id": "7cc08435",
   "metadata": {},
   "outputs": [],
   "source": [
    "# for loop over list with strings\n",
    "for word in ['Business', 'analytics', 'with', 'Python']:\n",
    "    pass"
   ]
  },
  {
   "cell_type": "code",
   "execution_count": 1,
   "id": "46e2ff3e",
   "metadata": {},
   "outputs": [
    {
     "name": "stdout",
     "output_type": "stream",
     "text": [
      "0 a\n",
      "1 b\n",
      "2 c\n"
     ]
    }
   ],
   "source": [
    "# for loop using the enumerate() function\n",
    "for index, value in enumerate(['a', 'b', 'c', 'd']):\n",
    "    if index < 3:\n",
    "        print(index, value)"
   ]
  },
  {
   "cell_type": "code",
   "execution_count": 3,
   "id": "d484ad12",
   "metadata": {},
   "outputs": [
    {
     "name": "stdout",
     "output_type": "stream",
     "text": [
      "a\n",
      "b\n",
      "c\n"
     ]
    }
   ],
   "source": [
    "# Another way of stopping the loop at the third index:\n",
    "sample_list = ['a', 'b', 'c', 'd']\n",
    "for i in range(3):\n",
    "    print(sample_list[i])"
   ]
  },
  {
   "cell_type": "code",
   "execution_count": 50,
   "id": "ddd2a5cc",
   "metadata": {},
   "outputs": [
    {
     "name": "stdout",
     "output_type": "stream",
     "text": [
      "['A', 'B', 'C', 'D', 'E', 'F', 'G', 'H', 'I', 'J', 'K', 'L', 'M', 'N', 'O', 'P', 'Q', 'R', 'S', 'T', 'U', 'V', 'W', 'X', 'Y', 'Z']\n"
     ]
    }
   ],
   "source": [
    "# using a for loop to dynamically create a list\n",
    "capital_letters = []\n",
    "\n",
    "for i in range(65, 91):\n",
    "    capital_letters.append(chr(i))\n",
    "    \n",
    "print(capital_letters)"
   ]
  },
  {
   "cell_type": "markdown",
   "id": "2d63659e",
   "metadata": {},
   "source": [
    "### Loops: the 'while' loop\n",
    "`while` loops do not need an iterable. They use a `while` condition."
   ]
  },
  {
   "cell_type": "code",
   "execution_count": 56,
   "id": "876bd405",
   "metadata": {},
   "outputs": [
    {
     "name": "stdout",
     "output_type": "stream",
     "text": [
      "Counter is less than 5.\n",
      "Counter is less than 5.\n",
      "Counter is less than 5.\n",
      "Counter is less than 5.\n",
      "Counter is less than 5.\n"
     ]
    }
   ],
   "source": [
    "counter = 0\n",
    "\n",
    "while counter < 5:\n",
    "    print(\"Counter is less than 5.\")\n",
    "    counter += 1 # equivalently: counter = counter + 1"
   ]
  },
  {
   "cell_type": "markdown",
   "id": "8edee53f",
   "metadata": {},
   "source": [
    "### List comprehension\n",
    "They are a handy way to generate lists"
   ]
  },
  {
   "cell_type": "code",
   "execution_count": 57,
   "id": "4d149afe",
   "metadata": {},
   "outputs": [],
   "source": [
    "# First example of a list comprehension\n",
    "squares = [x**2 for x in range(0, 10)]"
   ]
  },
  {
   "cell_type": "code",
   "execution_count": 58,
   "id": "bc0cbfb5",
   "metadata": {},
   "outputs": [
    {
     "data": {
      "text/plain": [
       "[0, 1, 4, 9, 16, 25, 36, 49, 64, 81]"
      ]
     },
     "execution_count": 58,
     "metadata": {},
     "output_type": "execute_result"
    }
   ],
   "source": [
    "# Check output\n",
    "squares"
   ]
  },
  {
   "cell_type": "code",
   "execution_count": 59,
   "id": "c08815a7",
   "metadata": {},
   "outputs": [],
   "source": [
    "# Get list of even squares from 0 to 9\n",
    "even_squares = [square for square in squares if square%2 == 0]"
   ]
  },
  {
   "cell_type": "code",
   "execution_count": 60,
   "id": "136efea3",
   "metadata": {},
   "outputs": [
    {
     "data": {
      "text/plain": [
       "[0, 4, 16, 36, 64]"
      ]
     },
     "execution_count": 60,
     "metadata": {},
     "output_type": "execute_result"
    }
   ],
   "source": [
    "even_squares"
   ]
  },
  {
   "cell_type": "code",
   "execution_count": 62,
   "id": "3c4591b6",
   "metadata": {},
   "outputs": [],
   "source": [
    "# We can also use if-else statements on list comprehensions. Careful: different syntax!\n",
    "even_odd_str = ['even' if square%2 == 0 else 'odd' for square in squares]"
   ]
  },
  {
   "cell_type": "code",
   "execution_count": 63,
   "id": "2d6e8dbc",
   "metadata": {},
   "outputs": [
    {
     "data": {
      "text/plain": [
       "['even', 'odd', 'even', 'odd', 'even', 'odd', 'even', 'odd', 'even', 'odd']"
      ]
     },
     "execution_count": 63,
     "metadata": {},
     "output_type": "execute_result"
    }
   ],
   "source": [
    "even_odd_str"
   ]
  }
 ],
 "metadata": {
  "kernelspec": {
   "display_name": "Python 3 (ipykernel)",
   "language": "python",
   "name": "python3"
  },
  "language_info": {
   "codemirror_mode": {
    "name": "ipython",
    "version": 3
   },
   "file_extension": ".py",
   "mimetype": "text/x-python",
   "name": "python",
   "nbconvert_exporter": "python",
   "pygments_lexer": "ipython3",
   "version": "3.8.5"
  }
 },
 "nbformat": 4,
 "nbformat_minor": 5
}
