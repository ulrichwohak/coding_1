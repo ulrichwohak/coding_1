{
 "cells": [
  {
   "cell_type": "markdown",
   "id": "ff628650",
   "metadata": {},
   "source": [
    "# Pandas basics: Intro\n",
    "Pandas is the most frequently used data library in Python.\n",
    "\n",
    "We wanna start with the two basic objects:\n",
    "1. `pd.Series`\n",
    "2. `pd.DataFrame`"
   ]
  },
  {
   "cell_type": "code",
   "execution_count": 2,
   "id": "21accb37",
   "metadata": {},
   "outputs": [],
   "source": [
    "# Import libraries\n",
    "import pandas as pd\n",
    "import numpy as np"
   ]
  },
  {
   "cell_type": "code",
   "execution_count": 3,
   "id": "c59c7958",
   "metadata": {},
   "outputs": [],
   "source": [
    "# Let's define our first pd.Series\n",
    "ps = pd.Series([\"a\", 1, np.pi, 37])"
   ]
  },
  {
   "cell_type": "code",
   "execution_count": 4,
   "id": "ad01b92f",
   "metadata": {},
   "outputs": [
    {
     "data": {
      "text/plain": [
       "0           a\n",
       "1           1\n",
       "2    3.141593\n",
       "3          37\n",
       "dtype: object"
      ]
     },
     "execution_count": 4,
     "metadata": {},
     "output_type": "execute_result"
    }
   ],
   "source": [
    "ps"
   ]
  },
  {
   "cell_type": "code",
   "execution_count": 6,
   "id": "0f4a6a8d",
   "metadata": {},
   "outputs": [
    {
     "data": {
      "text/plain": [
       "pandas.core.series.Series"
      ]
     },
     "execution_count": 6,
     "metadata": {},
     "output_type": "execute_result"
    }
   ],
   "source": [
    "type(ps)"
   ]
  },
  {
   "cell_type": "code",
   "execution_count": 7,
   "id": "c1eb72b4",
   "metadata": {},
   "outputs": [
    {
     "name": "stdout",
     "output_type": "stream",
     "text": [
      "['a' 1 3.141592653589793 37]\n"
     ]
    }
   ],
   "source": [
    "# Access values of pd.Series only\n",
    "print(ps.values)"
   ]
  },
  {
   "cell_type": "code",
   "execution_count": 8,
   "id": "1371589b",
   "metadata": {},
   "outputs": [
    {
     "data": {
      "text/plain": [
       "numpy.ndarray"
      ]
     },
     "execution_count": 8,
     "metadata": {},
     "output_type": "execute_result"
    }
   ],
   "source": [
    "# It's a numpy.ndarray\n",
    "type(ps.values)"
   ]
  },
  {
   "cell_type": "code",
   "execution_count": 9,
   "id": "54335ab7",
   "metadata": {},
   "outputs": [
    {
     "data": {
      "text/plain": [
       "RangeIndex(start=0, stop=4, step=1)"
      ]
     },
     "execution_count": 9,
     "metadata": {},
     "output_type": "execute_result"
    }
   ],
   "source": [
    "ps.index"
   ]
  },
  {
   "cell_type": "code",
   "execution_count": 12,
   "id": "3739b1c0",
   "metadata": {},
   "outputs": [
    {
     "data": {
      "text/plain": [
       "0    a\n",
       "1    1\n",
       "dtype: object"
      ]
     },
     "execution_count": 12,
     "metadata": {},
     "output_type": "execute_result"
    }
   ],
   "source": [
    "ps[0:2]"
   ]
  },
  {
   "cell_type": "code",
   "execution_count": 13,
   "id": "f94820b2",
   "metadata": {},
   "outputs": [],
   "source": [
    "# Define series with string indexes\n",
    "ex_series = pd.Series(\n",
    "    data = [\"Mozarella Cheese\",\n",
    "           \"Wiener Schnitzel\",\n",
    "           \"Schwarzwalder Kirschtorte\",\n",
    "           \"Lemonade\",\n",
    "           \"Whiskey\"],\n",
    "    index = [\"Appetizer\",\n",
    "            \"Main course\",\n",
    "            \"Dessert\",\n",
    "            \"Beverage\",\n",
    "            \"Alcohol\"]\n",
    ")"
   ]
  },
  {
   "cell_type": "code",
   "execution_count": 14,
   "id": "3b8072bf",
   "metadata": {},
   "outputs": [
    {
     "data": {
      "text/plain": [
       "Appetizer               Mozarella Cheese\n",
       "Main course             Wiener Schnitzel\n",
       "Dessert        Schwarzwalder Kirschtorte\n",
       "Beverage                        Lemonade\n",
       "Alcohol                          Whiskey\n",
       "dtype: object"
      ]
     },
     "execution_count": 14,
     "metadata": {},
     "output_type": "execute_result"
    }
   ],
   "source": [
    "ex_series"
   ]
  },
  {
   "cell_type": "markdown",
   "id": "1dcd31d8",
   "metadata": {},
   "source": [
    "### Using `loc[]` and `iloc[]` to access elements\n",
    "1. `.loc[]`: access via index *values*\n",
    "2. `.iloc[]`: access via index *positions*"
   ]
  },
  {
   "cell_type": "code",
   "execution_count": 15,
   "id": "4373c31b",
   "metadata": {},
   "outputs": [
    {
     "data": {
      "text/plain": [
       "Appetizer      Mozarella Cheese\n",
       "Main course    Wiener Schnitzel\n",
       "dtype: object"
      ]
     },
     "execution_count": 15,
     "metadata": {},
     "output_type": "execute_result"
    }
   ],
   "source": [
    "# Locate via .loc[]\n",
    "ex_series.loc[[\"Appetizer\", \"Main course\"]]"
   ]
  },
  {
   "cell_type": "code",
   "execution_count": 18,
   "id": "757e473b",
   "metadata": {},
   "outputs": [
    {
     "data": {
      "text/plain": [
       "Appetizer      Mozarella Cheese\n",
       "Main course    Wiener Schnitzel\n",
       "dtype: object"
      ]
     },
     "execution_count": 18,
     "metadata": {},
     "output_type": "execute_result"
    }
   ],
   "source": [
    "# Locate via .iloc[]\n",
    "ex_series.iloc[[0, 1]]"
   ]
  },
  {
   "cell_type": "code",
   "execution_count": 21,
   "id": "079a54b6",
   "metadata": {},
   "outputs": [
    {
     "data": {
      "text/plain": [
       "Appetizer               Mozarella Cheese\n",
       "Main course             Wiener Schnitzel\n",
       "Dessert        Schwarzwalder Kirschtorte\n",
       "dtype: object"
      ]
     },
     "execution_count": 21,
     "metadata": {},
     "output_type": "execute_result"
    }
   ],
   "source": [
    "# We can retrieve a range of data using iloc[]\n",
    "ex_series.loc[\"Appetizer\":\"Dessert\"]"
   ]
  },
  {
   "cell_type": "markdown",
   "id": "ef414c26",
   "metadata": {},
   "source": [
    "## DataFrames\n",
    "DataFrame is just a two-dimensional, size-mutable hetergeneous tabular data. Each DataFrame is just a collection `pd.Series`."
   ]
  },
  {
   "cell_type": "code",
   "execution_count": 25,
   "id": "bdbc9869",
   "metadata": {},
   "outputs": [],
   "source": [
    "# Let's create our first DataFrame\n",
    "# Define some data\n",
    "dc_city_pop = {\n",
    "    'Tokyo': 30000,\n",
    "    'Delhi': 50000000,\n",
    "    'Shanghai': 10000000\n",
    "}"
   ]
  },
  {
   "cell_type": "code",
   "execution_count": 26,
   "id": "a84ed90a",
   "metadata": {},
   "outputs": [
    {
     "data": {
      "text/plain": [
       "{'Tokyo': 30000, 'Delhi': 50000000, 'Shanghai': 10000000}"
      ]
     },
     "execution_count": 26,
     "metadata": {},
     "output_type": "execute_result"
    }
   ],
   "source": [
    "dc_city_pop"
   ]
  },
  {
   "cell_type": "code",
   "execution_count": 27,
   "id": "a5c09fcc",
   "metadata": {},
   "outputs": [
    {
     "data": {
      "text/plain": [
       "Tokyo          30000\n",
       "Delhi       50000000\n",
       "Shanghai    10000000\n",
       "dtype: int64"
      ]
     },
     "execution_count": 27,
     "metadata": {},
     "output_type": "execute_result"
    }
   ],
   "source": [
    "ps_city_pop = pd.Series(dc_city_pop)\n",
    "ps_city_pop"
   ]
  },
  {
   "cell_type": "code",
   "execution_count": 28,
   "id": "c21fb643",
   "metadata": {},
   "outputs": [
    {
     "data": {
      "text/plain": [
       "array([   30000, 50000000, 10000000], dtype=int64)"
      ]
     },
     "execution_count": 28,
     "metadata": {},
     "output_type": "execute_result"
    }
   ],
   "source": [
    "ps_city_pop.values"
   ]
  },
  {
   "cell_type": "code",
   "execution_count": 29,
   "id": "831b3d16",
   "metadata": {},
   "outputs": [
    {
     "data": {
      "text/plain": [
       "Index(['Tokyo', 'Delhi', 'Shanghai'], dtype='object')"
      ]
     },
     "execution_count": 29,
     "metadata": {},
     "output_type": "execute_result"
    }
   ],
   "source": [
    "ps_city_pop.index"
   ]
  },
  {
   "cell_type": "code",
   "execution_count": 30,
   "id": "3d83b093",
   "metadata": {},
   "outputs": [
    {
     "data": {
      "text/plain": [
       "Tokyo       Japan\n",
       "Delhi       India\n",
       "Shanghai    China\n",
       "dtype: object"
      ]
     },
     "execution_count": 30,
     "metadata": {},
     "output_type": "execute_result"
    }
   ],
   "source": [
    "# Create mapping from countries to cities as a dictionary\n",
    "dc_city_countries = {\n",
    "    'Tokyo': 'Japan',\n",
    "    'Delhi': 'India',\n",
    "    'Shanghai': 'China'\n",
    "}\n",
    "\n",
    "# Create pd.Series\n",
    "ps_city_countries = pd.Series(dc_city_countries)\n",
    "ps_city_countries"
   ]
  },
  {
   "cell_type": "code",
   "execution_count": 31,
   "id": "c5bf8635",
   "metadata": {},
   "outputs": [
    {
     "data": {
      "text/html": [
       "<div>\n",
       "<style scoped>\n",
       "    .dataframe tbody tr th:only-of-type {\n",
       "        vertical-align: middle;\n",
       "    }\n",
       "\n",
       "    .dataframe tbody tr th {\n",
       "        vertical-align: top;\n",
       "    }\n",
       "\n",
       "    .dataframe thead th {\n",
       "        text-align: right;\n",
       "    }\n",
       "</style>\n",
       "<table border=\"1\" class=\"dataframe\">\n",
       "  <thead>\n",
       "    <tr style=\"text-align: right;\">\n",
       "      <th></th>\n",
       "      <th>0</th>\n",
       "      <th>1</th>\n",
       "    </tr>\n",
       "  </thead>\n",
       "  <tbody>\n",
       "    <tr>\n",
       "      <th>Tokyo</th>\n",
       "      <td>30000</td>\n",
       "      <td>Japan</td>\n",
       "    </tr>\n",
       "    <tr>\n",
       "      <th>Delhi</th>\n",
       "      <td>50000000</td>\n",
       "      <td>India</td>\n",
       "    </tr>\n",
       "    <tr>\n",
       "      <th>Shanghai</th>\n",
       "      <td>10000000</td>\n",
       "      <td>China</td>\n",
       "    </tr>\n",
       "  </tbody>\n",
       "</table>\n",
       "</div>"
      ],
      "text/plain": [
       "                 0      1\n",
       "Tokyo        30000  Japan\n",
       "Delhi     50000000  India\n",
       "Shanghai  10000000  China"
      ]
     },
     "execution_count": 31,
     "metadata": {},
     "output_type": "execute_result"
    }
   ],
   "source": [
    "# Concate pd.Series to create DataFrame\n",
    "df_cities = pd.concat([ps_city_pop, ps_city_countries], axis=1)\n",
    "df_cities"
   ]
  },
  {
   "cell_type": "code",
   "execution_count": 32,
   "id": "4cdc8096",
   "metadata": {},
   "outputs": [
    {
     "data": {
      "text/plain": [
       "RangeIndex(start=0, stop=2, step=1)"
      ]
     },
     "execution_count": 32,
     "metadata": {},
     "output_type": "execute_result"
    }
   ],
   "source": [
    "df_cities.columns"
   ]
  },
  {
   "cell_type": "code",
   "execution_count": 34,
   "id": "1ac0701d",
   "metadata": {},
   "outputs": [
    {
     "data": {
      "text/html": [
       "<div>\n",
       "<style scoped>\n",
       "    .dataframe tbody tr th:only-of-type {\n",
       "        vertical-align: middle;\n",
       "    }\n",
       "\n",
       "    .dataframe tbody tr th {\n",
       "        vertical-align: top;\n",
       "    }\n",
       "\n",
       "    .dataframe thead th {\n",
       "        text-align: right;\n",
       "    }\n",
       "</style>\n",
       "<table border=\"1\" class=\"dataframe\">\n",
       "  <thead>\n",
       "    <tr style=\"text-align: right;\">\n",
       "      <th></th>\n",
       "      <th>population</th>\n",
       "      <th>country</th>\n",
       "    </tr>\n",
       "  </thead>\n",
       "  <tbody>\n",
       "    <tr>\n",
       "      <th>Tokyo</th>\n",
       "      <td>30000</td>\n",
       "      <td>Japan</td>\n",
       "    </tr>\n",
       "    <tr>\n",
       "      <th>Delhi</th>\n",
       "      <td>50000000</td>\n",
       "      <td>India</td>\n",
       "    </tr>\n",
       "    <tr>\n",
       "      <th>Shanghai</th>\n",
       "      <td>10000000</td>\n",
       "      <td>China</td>\n",
       "    </tr>\n",
       "  </tbody>\n",
       "</table>\n",
       "</div>"
      ],
      "text/plain": [
       "          population country\n",
       "Tokyo          30000   Japan\n",
       "Delhi       50000000   India\n",
       "Shanghai    10000000   China"
      ]
     },
     "execution_count": 34,
     "metadata": {},
     "output_type": "execute_result"
    }
   ],
   "source": [
    "# Change column names to something more descriptive\n",
    "df_cities.columns = ['population', 'country']\n",
    "df_cities"
   ]
  },
  {
   "cell_type": "code",
   "execution_count": 37,
   "id": "33d6acf4",
   "metadata": {},
   "outputs": [
    {
     "data": {
      "text/plain": [
       "Tokyo       30000\n",
       "Delhi    50000000\n",
       "Name: population, dtype: int64"
      ]
     },
     "execution_count": 37,
     "metadata": {},
     "output_type": "execute_result"
    }
   ],
   "source": [
    "# Accessing rows/columns \n",
    "df_cities.iloc[0:2, 0]"
   ]
  },
  {
   "cell_type": "code",
   "execution_count": 38,
   "id": "faff07bd",
   "metadata": {},
   "outputs": [
    {
     "data": {
      "text/plain": [
       "50000000"
      ]
     },
     "execution_count": 38,
     "metadata": {},
     "output_type": "execute_result"
    }
   ],
   "source": [
    "# Access a single element of the DataFrame\n",
    "df_cities.iloc[1, 0]"
   ]
  },
  {
   "cell_type": "code",
   "execution_count": 39,
   "id": "d880be3d",
   "metadata": {},
   "outputs": [
    {
     "data": {
      "text/html": [
       "<div>\n",
       "<style scoped>\n",
       "    .dataframe tbody tr th:only-of-type {\n",
       "        vertical-align: middle;\n",
       "    }\n",
       "\n",
       "    .dataframe tbody tr th {\n",
       "        vertical-align: top;\n",
       "    }\n",
       "\n",
       "    .dataframe thead th {\n",
       "        text-align: right;\n",
       "    }\n",
       "</style>\n",
       "<table border=\"1\" class=\"dataframe\">\n",
       "  <thead>\n",
       "    <tr style=\"text-align: right;\">\n",
       "      <th></th>\n",
       "      <th>population</th>\n",
       "      <th>country</th>\n",
       "    </tr>\n",
       "  </thead>\n",
       "  <tbody>\n",
       "    <tr>\n",
       "      <th>Shanghai</th>\n",
       "      <td>10000000</td>\n",
       "      <td>China</td>\n",
       "    </tr>\n",
       "  </tbody>\n",
       "</table>\n",
       "</div>"
      ],
      "text/plain": [
       "          population country\n",
       "Shanghai    10000000   China"
      ]
     },
     "execution_count": 39,
     "metadata": {},
     "output_type": "execute_result"
    }
   ],
   "source": [
    "# We can also use .loc\n",
    "df_cities.loc[[\"Shanghai\"]]"
   ]
  },
  {
   "cell_type": "code",
   "execution_count": 46,
   "id": "06388343",
   "metadata": {},
   "outputs": [
    {
     "data": {
      "text/plain": [
       "Delhi    India\n",
       "Name: country, dtype: object"
      ]
     },
     "execution_count": 46,
     "metadata": {},
     "output_type": "execute_result"
    }
   ],
   "source": [
    "# Indexing based on logical conditions\n",
    "df_cities.country[df_cities.population > 20_000_000]"
   ]
  },
  {
   "cell_type": "code",
   "execution_count": 48,
   "id": "b77187f0",
   "metadata": {},
   "outputs": [
    {
     "data": {
      "text/html": [
       "<div>\n",
       "<style scoped>\n",
       "    .dataframe tbody tr th:only-of-type {\n",
       "        vertical-align: middle;\n",
       "    }\n",
       "\n",
       "    .dataframe tbody tr th {\n",
       "        vertical-align: top;\n",
       "    }\n",
       "\n",
       "    .dataframe thead th {\n",
       "        text-align: right;\n",
       "    }\n",
       "</style>\n",
       "<table border=\"1\" class=\"dataframe\">\n",
       "  <thead>\n",
       "    <tr style=\"text-align: right;\">\n",
       "      <th></th>\n",
       "      <th>population</th>\n",
       "      <th>country</th>\n",
       "    </tr>\n",
       "  </thead>\n",
       "  <tbody>\n",
       "    <tr>\n",
       "      <th>Delhi</th>\n",
       "      <td>50000000</td>\n",
       "      <td>India</td>\n",
       "    </tr>\n",
       "    <tr>\n",
       "      <th>Shanghai</th>\n",
       "      <td>10000000</td>\n",
       "      <td>China</td>\n",
       "    </tr>\n",
       "  </tbody>\n",
       "</table>\n",
       "</div>"
      ],
      "text/plain": [
       "          population country\n",
       "Delhi       50000000   India\n",
       "Shanghai    10000000   China"
      ]
     },
     "execution_count": 48,
     "metadata": {},
     "output_type": "execute_result"
    }
   ],
   "source": [
    "# Get all cities located in China\n",
    "df_cities[df_cities.country.isin([\"China\", \"India\"])]"
   ]
  },
  {
   "cell_type": "code",
   "execution_count": 51,
   "id": "938a9838",
   "metadata": {},
   "outputs": [
    {
     "data": {
      "text/html": [
       "<div>\n",
       "<style scoped>\n",
       "    .dataframe tbody tr th:only-of-type {\n",
       "        vertical-align: middle;\n",
       "    }\n",
       "\n",
       "    .dataframe tbody tr th {\n",
       "        vertical-align: top;\n",
       "    }\n",
       "\n",
       "    .dataframe thead th {\n",
       "        text-align: right;\n",
       "    }\n",
       "</style>\n",
       "<table border=\"1\" class=\"dataframe\">\n",
       "  <thead>\n",
       "    <tr style=\"text-align: right;\">\n",
       "      <th></th>\n",
       "      <th>population</th>\n",
       "      <th>country</th>\n",
       "    </tr>\n",
       "  </thead>\n",
       "  <tbody>\n",
       "    <tr>\n",
       "      <th>Tokyo</th>\n",
       "      <td>30000</td>\n",
       "      <td>Japan</td>\n",
       "    </tr>\n",
       "  </tbody>\n",
       "</table>\n",
       "</div>"
      ],
      "text/plain": [
       "       population country\n",
       "Tokyo       30000   Japan"
      ]
     },
     "execution_count": 51,
     "metadata": {},
     "output_type": "execute_result"
    }
   ],
   "source": [
    "df_cities[~df_cities.country.isin([\"China\", \"India\"])]"
   ]
  },
  {
   "cell_type": "code",
   "execution_count": 52,
   "id": "18976128",
   "metadata": {},
   "outputs": [
    {
     "data": {
      "text/html": [
       "<div>\n",
       "<style scoped>\n",
       "    .dataframe tbody tr th:only-of-type {\n",
       "        vertical-align: middle;\n",
       "    }\n",
       "\n",
       "    .dataframe tbody tr th {\n",
       "        vertical-align: top;\n",
       "    }\n",
       "\n",
       "    .dataframe thead th {\n",
       "        text-align: right;\n",
       "    }\n",
       "</style>\n",
       "<table border=\"1\" class=\"dataframe\">\n",
       "  <thead>\n",
       "    <tr style=\"text-align: right;\">\n",
       "      <th></th>\n",
       "      <th>population</th>\n",
       "      <th>country</th>\n",
       "    </tr>\n",
       "  </thead>\n",
       "  <tbody>\n",
       "    <tr>\n",
       "      <th>Tokyo</th>\n",
       "      <td>30000</td>\n",
       "      <td>Japan</td>\n",
       "    </tr>\n",
       "    <tr>\n",
       "      <th>Delhi</th>\n",
       "      <td>50000000</td>\n",
       "      <td>India</td>\n",
       "    </tr>\n",
       "    <tr>\n",
       "      <th>Shanghai</th>\n",
       "      <td>10000000</td>\n",
       "      <td>China</td>\n",
       "    </tr>\n",
       "  </tbody>\n",
       "</table>\n",
       "</div>"
      ],
      "text/plain": [
       "          population country\n",
       "Tokyo          30000   Japan\n",
       "Delhi       50000000   India\n",
       "Shanghai    10000000   China"
      ]
     },
     "execution_count": 52,
     "metadata": {},
     "output_type": "execute_result"
    }
   ],
   "source": [
    "df_cities"
   ]
  },
  {
   "cell_type": "code",
   "execution_count": 55,
   "id": "5b474987",
   "metadata": {},
   "outputs": [],
   "source": [
    "# Create column from index and generate new index\n",
    "df_cities.reset_index(drop=False, inplace=True)"
   ]
  },
  {
   "cell_type": "code",
   "execution_count": 56,
   "id": "417fc611",
   "metadata": {},
   "outputs": [
    {
     "data": {
      "text/html": [
       "<div>\n",
       "<style scoped>\n",
       "    .dataframe tbody tr th:only-of-type {\n",
       "        vertical-align: middle;\n",
       "    }\n",
       "\n",
       "    .dataframe tbody tr th {\n",
       "        vertical-align: top;\n",
       "    }\n",
       "\n",
       "    .dataframe thead th {\n",
       "        text-align: right;\n",
       "    }\n",
       "</style>\n",
       "<table border=\"1\" class=\"dataframe\">\n",
       "  <thead>\n",
       "    <tr style=\"text-align: right;\">\n",
       "      <th></th>\n",
       "      <th>index</th>\n",
       "      <th>population</th>\n",
       "      <th>country</th>\n",
       "    </tr>\n",
       "  </thead>\n",
       "  <tbody>\n",
       "    <tr>\n",
       "      <th>0</th>\n",
       "      <td>Tokyo</td>\n",
       "      <td>30000</td>\n",
       "      <td>Japan</td>\n",
       "    </tr>\n",
       "    <tr>\n",
       "      <th>1</th>\n",
       "      <td>Delhi</td>\n",
       "      <td>50000000</td>\n",
       "      <td>India</td>\n",
       "    </tr>\n",
       "    <tr>\n",
       "      <th>2</th>\n",
       "      <td>Shanghai</td>\n",
       "      <td>10000000</td>\n",
       "      <td>China</td>\n",
       "    </tr>\n",
       "  </tbody>\n",
       "</table>\n",
       "</div>"
      ],
      "text/plain": [
       "      index  population country\n",
       "0     Tokyo       30000   Japan\n",
       "1     Delhi    50000000   India\n",
       "2  Shanghai    10000000   China"
      ]
     },
     "execution_count": 56,
     "metadata": {},
     "output_type": "execute_result"
    }
   ],
   "source": [
    "df_cities"
   ]
  },
  {
   "cell_type": "code",
   "execution_count": 59,
   "id": "68ccc253",
   "metadata": {},
   "outputs": [
    {
     "data": {
      "text/html": [
       "<div>\n",
       "<style scoped>\n",
       "    .dataframe tbody tr th:only-of-type {\n",
       "        vertical-align: middle;\n",
       "    }\n",
       "\n",
       "    .dataframe tbody tr th {\n",
       "        vertical-align: top;\n",
       "    }\n",
       "\n",
       "    .dataframe thead th {\n",
       "        text-align: right;\n",
       "    }\n",
       "</style>\n",
       "<table border=\"1\" class=\"dataframe\">\n",
       "  <thead>\n",
       "    <tr style=\"text-align: right;\">\n",
       "      <th></th>\n",
       "      <th>city</th>\n",
       "      <th>population</th>\n",
       "      <th>country</th>\n",
       "    </tr>\n",
       "  </thead>\n",
       "  <tbody>\n",
       "    <tr>\n",
       "      <th>0</th>\n",
       "      <td>Tokyo</td>\n",
       "      <td>30000</td>\n",
       "      <td>Japan</td>\n",
       "    </tr>\n",
       "    <tr>\n",
       "      <th>1</th>\n",
       "      <td>Delhi</td>\n",
       "      <td>50000000</td>\n",
       "      <td>India</td>\n",
       "    </tr>\n",
       "    <tr>\n",
       "      <th>2</th>\n",
       "      <td>Shanghai</td>\n",
       "      <td>10000000</td>\n",
       "      <td>China</td>\n",
       "    </tr>\n",
       "  </tbody>\n",
       "</table>\n",
       "</div>"
      ],
      "text/plain": [
       "       city  population country\n",
       "0     Tokyo       30000   Japan\n",
       "1     Delhi    50000000   India\n",
       "2  Shanghai    10000000   China"
      ]
     },
     "execution_count": 59,
     "metadata": {},
     "output_type": "execute_result"
    }
   ],
   "source": [
    "df_cities.rename({'cities': 'city'}, axis=\"columns\", inplace=True)\n",
    "df_cities"
   ]
  },
  {
   "cell_type": "code",
   "execution_count": 63,
   "id": "30896f5c",
   "metadata": {},
   "outputs": [
    {
     "data": {
      "text/plain": [
       "(3, 3)"
      ]
     },
     "execution_count": 63,
     "metadata": {},
     "output_type": "execute_result"
    }
   ],
   "source": [
    "# Metadata\n",
    "df_cities.shape"
   ]
  },
  {
   "cell_type": "code",
   "execution_count": 64,
   "id": "2cdb2228",
   "metadata": {},
   "outputs": [
    {
     "name": "stdout",
     "output_type": "stream",
     "text": [
      "<class 'pandas.core.frame.DataFrame'>\n",
      "RangeIndex: 3 entries, 0 to 2\n",
      "Data columns (total 3 columns):\n",
      " #   Column      Non-Null Count  Dtype \n",
      "---  ------      --------------  ----- \n",
      " 0   city        3 non-null      object\n",
      " 1   population  3 non-null      int64 \n",
      " 2   country     3 non-null      object\n",
      "dtypes: int64(1), object(2)\n",
      "memory usage: 200.0+ bytes\n"
     ]
    }
   ],
   "source": [
    "df_cities.info()"
   ]
  },
  {
   "cell_type": "code",
   "execution_count": 66,
   "id": "3eec60e6",
   "metadata": {},
   "outputs": [
    {
     "data": {
      "text/plain": [
       "0       Tokyo\n",
       "1       Delhi\n",
       "2    Shanghai\n",
       "Name: city, dtype: object"
      ]
     },
     "execution_count": 66,
     "metadata": {},
     "output_type": "execute_result"
    }
   ],
   "source": [
    "df_cities.city"
   ]
  }
 ],
 "metadata": {
  "kernelspec": {
   "display_name": "Python 3 (ipykernel)",
   "language": "python",
   "name": "python3"
  },
  "language_info": {
   "codemirror_mode": {
    "name": "ipython",
    "version": 3
   },
   "file_extension": ".py",
   "mimetype": "text/x-python",
   "name": "python",
   "nbconvert_exporter": "python",
   "pygments_lexer": "ipython3",
   "version": "3.8.5"
  }
 },
 "nbformat": 4,
 "nbformat_minor": 5
}
