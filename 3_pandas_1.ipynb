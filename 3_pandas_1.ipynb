{
 "cells": [
  {
   "cell_type": "markdown",
   "id": "93c8c789",
   "metadata": {},
   "source": [
    "# Pandas basic\n",
    "\n",
    "- `pd.Series` and `pd.DataFrame`"
   ]
  },
  {
   "cell_type": "code",
   "execution_count": 1,
   "id": "20d4bd69",
   "metadata": {},
   "outputs": [],
   "source": [
    "import pandas as pd\n",
    "import numpy as np"
   ]
  },
  {
   "cell_type": "code",
   "execution_count": 2,
   "id": "6c67b6fe",
   "metadata": {},
   "outputs": [
    {
     "name": "stdout",
     "output_type": "stream",
     "text": [
      "0           a\n",
      "1           2\n",
      "2    3.141593\n",
      "3          36\n",
      "dtype: object\n"
     ]
    }
   ],
   "source": [
    "# Create our first series\n",
    "ex_series = pd.Series([\"a\", 2, np.pi, 36])\n",
    "print(ex_series)"
   ]
  },
  {
   "cell_type": "code",
   "execution_count": 17,
   "id": "5dcd226d",
   "metadata": {},
   "outputs": [
    {
     "data": {
      "text/plain": [
       "numpy.ndarray"
      ]
     },
     "execution_count": 17,
     "metadata": {},
     "output_type": "execute_result"
    }
   ],
   "source": [
    "# We can print out values only\n",
    "type(ex_series.values)"
   ]
  },
  {
   "cell_type": "code",
   "execution_count": 4,
   "id": "62d5c7cc",
   "metadata": {},
   "outputs": [
    {
     "name": "stdout",
     "output_type": "stream",
     "text": [
      "RangeIndex(start=0, stop=4, step=1)\n"
     ]
    }
   ],
   "source": [
    "# Retrieve index\n",
    "print(ex_series.index)"
   ]
  },
  {
   "cell_type": "code",
   "execution_count": 8,
   "id": "0a5e337e",
   "metadata": {},
   "outputs": [
    {
     "name": "stdout",
     "output_type": "stream",
     "text": [
      "0    a\n",
      "1    2\n",
      "dtype: object\n"
     ]
    }
   ],
   "source": [
    "# We can use slicing syntax to access particular items\n",
    "print(ex_series[0:2])"
   ]
  },
  {
   "cell_type": "markdown",
   "id": "bedfb775",
   "metadata": {},
   "source": [
    "There are two other syntax options:\n",
    "- `.loc[]`: access via index *values*\n",
    "- `.iloc[]`: access via index *positions*"
   ]
  },
  {
   "cell_type": "code",
   "execution_count": 11,
   "id": "816b52a7",
   "metadata": {},
   "outputs": [],
   "source": [
    "# Let's create a new Series to showcase .loc vs .iloc\n",
    "ex_series = pd.Series(\n",
    "    data = [\n",
    "        \"Mozzarella Caprese\",\n",
    "        \"Wiener Schnitzel\",\n",
    "        \"Schwarzwalder Kirschtorte\",\n",
    "        \"Lemonade\",\n",
    "        \"Whiskey\"\n",
    "    ],\n",
    "    index = [\"appetizer\", \"main course\", \"dessert\", \"beverage\", \"alcohol\"]\n",
    ")"
   ]
  },
  {
   "cell_type": "code",
   "execution_count": 12,
   "id": "5276d3e2",
   "metadata": {},
   "outputs": [
    {
     "name": "stdout",
     "output_type": "stream",
     "text": [
      "appetizer             Mozzarella Caprese\n",
      "main course             Wiener Schnitzel\n",
      "dessert        Schwarzwalder Kirschtorte\n",
      "beverage                        Lemonade\n",
      "alcohol                          Whiskey\n",
      "dtype: object\n"
     ]
    }
   ],
   "source": [
    "print(ex_series)"
   ]
  },
  {
   "cell_type": "code",
   "execution_count": 18,
   "id": "7db84b21",
   "metadata": {},
   "outputs": [
    {
     "data": {
      "text/plain": [
       "appetizer             Mozzarella Caprese\n",
       "main course             Wiener Schnitzel\n",
       "dessert        Schwarzwalder Kirschtorte\n",
       "beverage                        Lemonade\n",
       "alcohol                          Whiskey\n",
       "dtype: object"
      ]
     },
     "execution_count": 18,
     "metadata": {},
     "output_type": "execute_result"
    }
   ],
   "source": [
    "ex_series"
   ]
  },
  {
   "cell_type": "code",
   "execution_count": 19,
   "id": "5cec022d",
   "metadata": {},
   "outputs": [
    {
     "data": {
      "text/plain": [
       "appetizer           Mozzarella Caprese\n",
       "dessert      Schwarzwalder Kirschtorte\n",
       "dtype: object"
      ]
     },
     "execution_count": 19,
     "metadata": {},
     "output_type": "execute_result"
    }
   ],
   "source": [
    "ex_series.loc[[\"appetizer\", \"dessert\"]]"
   ]
  },
  {
   "cell_type": "code",
   "execution_count": 22,
   "id": "f85e5b0c",
   "metadata": {},
   "outputs": [
    {
     "data": {
      "text/plain": [
       "main course             Wiener Schnitzel\n",
       "dessert        Schwarzwalder Kirschtorte\n",
       "dtype: object"
      ]
     },
     "execution_count": 22,
     "metadata": {},
     "output_type": "execute_result"
    }
   ],
   "source": [
    "ex_series.iloc[[1, 2]]"
   ]
  },
  {
   "cell_type": "code",
   "execution_count": 23,
   "id": "f7286abf",
   "metadata": {},
   "outputs": [
    {
     "data": {
      "text/plain": [
       "main course             Wiener Schnitzel\n",
       "dessert        Schwarzwalder Kirschtorte\n",
       "dtype: object"
      ]
     },
     "execution_count": 23,
     "metadata": {},
     "output_type": "execute_result"
    }
   ],
   "source": [
    "ex_series.iloc[1:3]"
   ]
  },
  {
   "cell_type": "markdown",
   "id": "2091296d",
   "metadata": {},
   "source": [
    "### DataFrame\n",
    "DataFrames are 'two-dimensional, size-mutable, potentially heterogeneous tabular data'. Each DataFrame is eventually a collection of Pandas Series.\n",
    "\n",
    "There are mupltiple ways to create Pandas dataframes."
   ]
  },
  {
   "cell_type": "code",
   "execution_count": 24,
   "id": "376fe596",
   "metadata": {},
   "outputs": [],
   "source": [
    "# First, create dict to store some data: city population\n",
    "dc_city_pop = {\n",
    "    'Tokyo': 37339804,\n",
    "    'Delhi': 31181376,\n",
    "    'Shanghai': 27795702,\n",
    "    'Sao Paulo': 22237472,\n",
    "    'Mexico City': 21918936,\n",
    "    'Dhaka': 21741090,\n",
    "    'Cairo': 21322750,\n",
    "    'Beijing': 20896820,\n",
    "    'Mumbai': 20667656,\n",
    "    'Osaka': 19110616\n",
    "}"
   ]
  },
  {
   "cell_type": "code",
   "execution_count": 26,
   "id": "29b66b92",
   "metadata": {},
   "outputs": [
    {
     "data": {
      "text/plain": [
       "Tokyo          37339804\n",
       "Delhi          31181376\n",
       "Shanghai       27795702\n",
       "Sao Paulo      22237472\n",
       "Mexico City    21918936\n",
       "Dhaka          21741090\n",
       "Cairo          21322750\n",
       "Beijing        20896820\n",
       "Mumbai         20667656\n",
       "Osaka          19110616\n",
       "dtype: int64"
      ]
     },
     "execution_count": 26,
     "metadata": {},
     "output_type": "execute_result"
    }
   ],
   "source": [
    "# Cast to pd.Series\n",
    "ps_city_pop = pd.Series(dc_city_pop)\n",
    "ps_city_pop"
   ]
  },
  {
   "cell_type": "code",
   "execution_count": 27,
   "id": "8f2d793e",
   "metadata": {},
   "outputs": [
    {
     "name": "stdout",
     "output_type": "stream",
     "text": [
      "Index(['Tokyo', 'Delhi', 'Shanghai', 'Sao Paulo', 'Mexico City', 'Dhaka',\n",
      "       'Cairo', 'Beijing', 'Mumbai', 'Osaka'],\n",
      "      dtype='object')\n",
      "[37339804 31181376 27795702 22237472 21918936 21741090 21322750 20896820\n",
      " 20667656 19110616]\n"
     ]
    }
   ],
   "source": [
    "print(ps_city_pop.index)\n",
    "print(ps_city_pop.values)"
   ]
  },
  {
   "cell_type": "code",
   "execution_count": 28,
   "id": "2fe02046",
   "metadata": {},
   "outputs": [],
   "source": [
    "# Second data dict: City-country correspondence\n",
    "dc_city_countries = {\n",
    "    \"Tokyo\": \"Japan\",\n",
    "    \"Delhi\": \"India\",\n",
    "    \"Shanghai\": \"China\",\n",
    "    \"Sao Paulo\": \"Brazil\",\n",
    "    \"Mexico City\": \"Mexico\",\n",
    "    \"Dhaka\": \"Bangladesh\",\n",
    "    \"Cairo\": \"Egypt\",\n",
    "    \"Beijing\": \"China\",\n",
    "    \"Mumbai\": \"India\",\n",
    "    \"Osaka\": \"Japan\",\n",
    "}"
   ]
  },
  {
   "cell_type": "code",
   "execution_count": 29,
   "id": "9fe48722",
   "metadata": {},
   "outputs": [
    {
     "data": {
      "text/plain": [
       "Tokyo               Japan\n",
       "Delhi               India\n",
       "Shanghai            China\n",
       "Sao Paulo          Brazil\n",
       "Mexico City        Mexico\n",
       "Dhaka          Bangladesh\n",
       "Cairo               Egypt\n",
       "Beijing             China\n",
       "Mumbai              India\n",
       "Osaka               Japan\n",
       "dtype: object"
      ]
     },
     "execution_count": 29,
     "metadata": {},
     "output_type": "execute_result"
    }
   ],
   "source": [
    "ps_city_countries = pd.Series(dc_city_countries)\n",
    "ps_city_countries"
   ]
  },
  {
   "cell_type": "code",
   "execution_count": 30,
   "id": "cf4ed45e",
   "metadata": {},
   "outputs": [
    {
     "data": {
      "text/html": [
       "<div>\n",
       "<style scoped>\n",
       "    .dataframe tbody tr th:only-of-type {\n",
       "        vertical-align: middle;\n",
       "    }\n",
       "\n",
       "    .dataframe tbody tr th {\n",
       "        vertical-align: top;\n",
       "    }\n",
       "\n",
       "    .dataframe thead th {\n",
       "        text-align: right;\n",
       "    }\n",
       "</style>\n",
       "<table border=\"1\" class=\"dataframe\">\n",
       "  <thead>\n",
       "    <tr style=\"text-align: right;\">\n",
       "      <th></th>\n",
       "      <th>0</th>\n",
       "      <th>1</th>\n",
       "    </tr>\n",
       "  </thead>\n",
       "  <tbody>\n",
       "    <tr>\n",
       "      <th>Tokyo</th>\n",
       "      <td>37339804</td>\n",
       "      <td>Japan</td>\n",
       "    </tr>\n",
       "    <tr>\n",
       "      <th>Delhi</th>\n",
       "      <td>31181376</td>\n",
       "      <td>India</td>\n",
       "    </tr>\n",
       "    <tr>\n",
       "      <th>Shanghai</th>\n",
       "      <td>27795702</td>\n",
       "      <td>China</td>\n",
       "    </tr>\n",
       "    <tr>\n",
       "      <th>Sao Paulo</th>\n",
       "      <td>22237472</td>\n",
       "      <td>Brazil</td>\n",
       "    </tr>\n",
       "    <tr>\n",
       "      <th>Mexico City</th>\n",
       "      <td>21918936</td>\n",
       "      <td>Mexico</td>\n",
       "    </tr>\n",
       "    <tr>\n",
       "      <th>Dhaka</th>\n",
       "      <td>21741090</td>\n",
       "      <td>Bangladesh</td>\n",
       "    </tr>\n",
       "    <tr>\n",
       "      <th>Cairo</th>\n",
       "      <td>21322750</td>\n",
       "      <td>Egypt</td>\n",
       "    </tr>\n",
       "    <tr>\n",
       "      <th>Beijing</th>\n",
       "      <td>20896820</td>\n",
       "      <td>China</td>\n",
       "    </tr>\n",
       "    <tr>\n",
       "      <th>Mumbai</th>\n",
       "      <td>20667656</td>\n",
       "      <td>India</td>\n",
       "    </tr>\n",
       "    <tr>\n",
       "      <th>Osaka</th>\n",
       "      <td>19110616</td>\n",
       "      <td>Japan</td>\n",
       "    </tr>\n",
       "  </tbody>\n",
       "</table>\n",
       "</div>"
      ],
      "text/plain": [
       "                    0           1\n",
       "Tokyo        37339804       Japan\n",
       "Delhi        31181376       India\n",
       "Shanghai     27795702       China\n",
       "Sao Paulo    22237472      Brazil\n",
       "Mexico City  21918936      Mexico\n",
       "Dhaka        21741090  Bangladesh\n",
       "Cairo        21322750       Egypt\n",
       "Beijing      20896820       China\n",
       "Mumbai       20667656       India\n",
       "Osaka        19110616       Japan"
      ]
     },
     "execution_count": 30,
     "metadata": {},
     "output_type": "execute_result"
    }
   ],
   "source": [
    "# Create our first DataFrame by concatenating two pd.Series\n",
    "df_cities = pd.concat([ps_city_pop, ps_city_countries], axis=1) # How does pd.concat work?\n",
    "df_cities"
   ]
  },
  {
   "cell_type": "code",
   "execution_count": 33,
   "id": "c71d2918",
   "metadata": {},
   "outputs": [
    {
     "data": {
      "text/plain": [
       "RangeIndex(start=0, stop=2, step=1)"
      ]
     },
     "execution_count": 33,
     "metadata": {},
     "output_type": "execute_result"
    }
   ],
   "source": [
    "# Columns don't have proper name. Name them.\n",
    "df_cities.columns"
   ]
  },
  {
   "cell_type": "code",
   "execution_count": 35,
   "id": "ba4d15f8",
   "metadata": {},
   "outputs": [
    {
     "data": {
      "text/html": [
       "<div>\n",
       "<style scoped>\n",
       "    .dataframe tbody tr th:only-of-type {\n",
       "        vertical-align: middle;\n",
       "    }\n",
       "\n",
       "    .dataframe tbody tr th {\n",
       "        vertical-align: top;\n",
       "    }\n",
       "\n",
       "    .dataframe thead th {\n",
       "        text-align: right;\n",
       "    }\n",
       "</style>\n",
       "<table border=\"1\" class=\"dataframe\">\n",
       "  <thead>\n",
       "    <tr style=\"text-align: right;\">\n",
       "      <th></th>\n",
       "      <th>population</th>\n",
       "      <th>country</th>\n",
       "    </tr>\n",
       "  </thead>\n",
       "  <tbody>\n",
       "    <tr>\n",
       "      <th>Tokyo</th>\n",
       "      <td>37339804</td>\n",
       "      <td>Japan</td>\n",
       "    </tr>\n",
       "    <tr>\n",
       "      <th>Delhi</th>\n",
       "      <td>31181376</td>\n",
       "      <td>India</td>\n",
       "    </tr>\n",
       "    <tr>\n",
       "      <th>Shanghai</th>\n",
       "      <td>27795702</td>\n",
       "      <td>China</td>\n",
       "    </tr>\n",
       "    <tr>\n",
       "      <th>Sao Paulo</th>\n",
       "      <td>22237472</td>\n",
       "      <td>Brazil</td>\n",
       "    </tr>\n",
       "    <tr>\n",
       "      <th>Mexico City</th>\n",
       "      <td>21918936</td>\n",
       "      <td>Mexico</td>\n",
       "    </tr>\n",
       "    <tr>\n",
       "      <th>Dhaka</th>\n",
       "      <td>21741090</td>\n",
       "      <td>Bangladesh</td>\n",
       "    </tr>\n",
       "    <tr>\n",
       "      <th>Cairo</th>\n",
       "      <td>21322750</td>\n",
       "      <td>Egypt</td>\n",
       "    </tr>\n",
       "    <tr>\n",
       "      <th>Beijing</th>\n",
       "      <td>20896820</td>\n",
       "      <td>China</td>\n",
       "    </tr>\n",
       "    <tr>\n",
       "      <th>Mumbai</th>\n",
       "      <td>20667656</td>\n",
       "      <td>India</td>\n",
       "    </tr>\n",
       "    <tr>\n",
       "      <th>Osaka</th>\n",
       "      <td>19110616</td>\n",
       "      <td>Japan</td>\n",
       "    </tr>\n",
       "  </tbody>\n",
       "</table>\n",
       "</div>"
      ],
      "text/plain": [
       "             population     country\n",
       "Tokyo          37339804       Japan\n",
       "Delhi          31181376       India\n",
       "Shanghai       27795702       China\n",
       "Sao Paulo      22237472      Brazil\n",
       "Mexico City    21918936      Mexico\n",
       "Dhaka          21741090  Bangladesh\n",
       "Cairo          21322750       Egypt\n",
       "Beijing        20896820       China\n",
       "Mumbai         20667656       India\n",
       "Osaka          19110616       Japan"
      ]
     },
     "execution_count": 35,
     "metadata": {},
     "output_type": "execute_result"
    }
   ],
   "source": [
    "df_cities.columns = [\"population\", \"country\"]\n",
    "df_cities"
   ]
  },
  {
   "cell_type": "code",
   "execution_count": 37,
   "id": "9fbee302",
   "metadata": {},
   "outputs": [
    {
     "data": {
      "text/html": [
       "<div>\n",
       "<style scoped>\n",
       "    .dataframe tbody tr th:only-of-type {\n",
       "        vertical-align: middle;\n",
       "    }\n",
       "\n",
       "    .dataframe tbody tr th {\n",
       "        vertical-align: top;\n",
       "    }\n",
       "\n",
       "    .dataframe thead th {\n",
       "        text-align: right;\n",
       "    }\n",
       "</style>\n",
       "<table border=\"1\" class=\"dataframe\">\n",
       "  <thead>\n",
       "    <tr style=\"text-align: right;\">\n",
       "      <th></th>\n",
       "      <th>population</th>\n",
       "      <th>country</th>\n",
       "    </tr>\n",
       "  </thead>\n",
       "  <tbody>\n",
       "    <tr>\n",
       "      <th>Shanghai</th>\n",
       "      <td>27795702</td>\n",
       "      <td>China</td>\n",
       "    </tr>\n",
       "    <tr>\n",
       "      <th>Sao Paulo</th>\n",
       "      <td>22237472</td>\n",
       "      <td>Brazil</td>\n",
       "    </tr>\n",
       "    <tr>\n",
       "      <th>Mexico City</th>\n",
       "      <td>21918936</td>\n",
       "      <td>Mexico</td>\n",
       "    </tr>\n",
       "  </tbody>\n",
       "</table>\n",
       "</div>"
      ],
      "text/plain": [
       "             population country\n",
       "Shanghai       27795702   China\n",
       "Sao Paulo      22237472  Brazil\n",
       "Mexico City    21918936  Mexico"
      ]
     },
     "execution_count": 37,
     "metadata": {},
     "output_type": "execute_result"
    }
   ],
   "source": [
    "# Accessing rows/columns via .iloc[]\n",
    "# Note that our array is now two-dimensional!\n",
    "df_cities.iloc[2:5] # Rows"
   ]
  },
  {
   "cell_type": "code",
   "execution_count": 42,
   "id": "6b35665d",
   "metadata": {},
   "outputs": [
    {
     "data": {
      "text/plain": [
       "Shanghai        China\n",
       "Sao Paulo      Brazil\n",
       "Mexico City    Mexico\n",
       "Name: country, dtype: object"
      ]
     },
     "execution_count": 42,
     "metadata": {},
     "output_type": "execute_result"
    }
   ],
   "source": [
    "# Cols\n",
    "df_cities.iloc[2:5, 1]"
   ]
  },
  {
   "cell_type": "code",
   "execution_count": 43,
   "id": "bcb8d9a6",
   "metadata": {},
   "outputs": [
    {
     "data": {
      "text/html": [
       "<div>\n",
       "<style scoped>\n",
       "    .dataframe tbody tr th:only-of-type {\n",
       "        vertical-align: middle;\n",
       "    }\n",
       "\n",
       "    .dataframe tbody tr th {\n",
       "        vertical-align: top;\n",
       "    }\n",
       "\n",
       "    .dataframe thead th {\n",
       "        text-align: right;\n",
       "    }\n",
       "</style>\n",
       "<table border=\"1\" class=\"dataframe\">\n",
       "  <thead>\n",
       "    <tr style=\"text-align: right;\">\n",
       "      <th></th>\n",
       "      <th>population</th>\n",
       "      <th>country</th>\n",
       "    </tr>\n",
       "  </thead>\n",
       "  <tbody>\n",
       "    <tr>\n",
       "      <th>Shanghai</th>\n",
       "      <td>27795702</td>\n",
       "      <td>China</td>\n",
       "    </tr>\n",
       "    <tr>\n",
       "      <th>Dhaka</th>\n",
       "      <td>21741090</td>\n",
       "      <td>Bangladesh</td>\n",
       "    </tr>\n",
       "    <tr>\n",
       "      <th>Osaka</th>\n",
       "      <td>19110616</td>\n",
       "      <td>Japan</td>\n",
       "    </tr>\n",
       "  </tbody>\n",
       "</table>\n",
       "</div>"
      ],
      "text/plain": [
       "          population     country\n",
       "Shanghai    27795702       China\n",
       "Dhaka       21741090  Bangladesh\n",
       "Osaka       19110616       Japan"
      ]
     },
     "execution_count": 43,
     "metadata": {},
     "output_type": "execute_result"
    }
   ],
   "source": [
    "# Using .loc\n",
    "# list of cities (note the double squared brackets)\n",
    "df_cities.loc[[\"Shanghai\", \"Dhaka\", \"Osaka\"]]"
   ]
  },
  {
   "cell_type": "code",
   "execution_count": 44,
   "id": "5111b315",
   "metadata": {},
   "outputs": [
    {
     "data": {
      "text/plain": [
       "Shanghai         China\n",
       "Dhaka       Bangladesh\n",
       "Osaka            Japan\n",
       "Name: country, dtype: object"
      ]
     },
     "execution_count": 44,
     "metadata": {},
     "output_type": "execute_result"
    }
   ],
   "source": [
    "# list of cities + a column\n",
    "df_cities.loc[[\"Shanghai\", \"Dhaka\", \"Osaka\"], \"country\"]"
   ]
  },
  {
   "cell_type": "code",
   "execution_count": 46,
   "id": "075fdba8",
   "metadata": {},
   "outputs": [
    {
     "data": {
      "text/html": [
       "<div>\n",
       "<style scoped>\n",
       "    .dataframe tbody tr th:only-of-type {\n",
       "        vertical-align: middle;\n",
       "    }\n",
       "\n",
       "    .dataframe tbody tr th {\n",
       "        vertical-align: top;\n",
       "    }\n",
       "\n",
       "    .dataframe thead th {\n",
       "        text-align: right;\n",
       "    }\n",
       "</style>\n",
       "<table border=\"1\" class=\"dataframe\">\n",
       "  <thead>\n",
       "    <tr style=\"text-align: right;\">\n",
       "      <th></th>\n",
       "      <th>population</th>\n",
       "      <th>country</th>\n",
       "    </tr>\n",
       "  </thead>\n",
       "  <tbody>\n",
       "    <tr>\n",
       "      <th>Tokyo</th>\n",
       "      <td>37339804</td>\n",
       "      <td>Japan</td>\n",
       "    </tr>\n",
       "    <tr>\n",
       "      <th>Delhi</th>\n",
       "      <td>31181376</td>\n",
       "      <td>India</td>\n",
       "    </tr>\n",
       "    <tr>\n",
       "      <th>Shanghai</th>\n",
       "      <td>27795702</td>\n",
       "      <td>China</td>\n",
       "    </tr>\n",
       "    <tr>\n",
       "      <th>Sao Paulo</th>\n",
       "      <td>22237472</td>\n",
       "      <td>Brazil</td>\n",
       "    </tr>\n",
       "  </tbody>\n",
       "</table>\n",
       "</div>"
      ],
      "text/plain": [
       "           population country\n",
       "Tokyo        37339804   Japan\n",
       "Delhi        31181376   India\n",
       "Shanghai     27795702   China\n",
       "Sao Paulo    22237472  Brazil"
      ]
     },
     "execution_count": 46,
     "metadata": {},
     "output_type": "execute_result"
    }
   ],
   "source": [
    "# a range of cities from the index\n",
    "df_cities.loc[\"Tokyo\":\"Sao Paulo\"]"
   ]
  },
  {
   "cell_type": "markdown",
   "id": "a4530ded",
   "metadata": {},
   "source": [
    "### Slicing based on condition"
   ]
  },
  {
   "cell_type": "code",
   "execution_count": 47,
   "id": "3a2cdca3",
   "metadata": {},
   "outputs": [
    {
     "data": {
      "text/html": [
       "<div>\n",
       "<style scoped>\n",
       "    .dataframe tbody tr th:only-of-type {\n",
       "        vertical-align: middle;\n",
       "    }\n",
       "\n",
       "    .dataframe tbody tr th {\n",
       "        vertical-align: top;\n",
       "    }\n",
       "\n",
       "    .dataframe thead th {\n",
       "        text-align: right;\n",
       "    }\n",
       "</style>\n",
       "<table border=\"1\" class=\"dataframe\">\n",
       "  <thead>\n",
       "    <tr style=\"text-align: right;\">\n",
       "      <th></th>\n",
       "      <th>population</th>\n",
       "      <th>country</th>\n",
       "    </tr>\n",
       "  </thead>\n",
       "  <tbody>\n",
       "    <tr>\n",
       "      <th>Tokyo</th>\n",
       "      <td>37339804</td>\n",
       "      <td>Japan</td>\n",
       "    </tr>\n",
       "    <tr>\n",
       "      <th>Delhi</th>\n",
       "      <td>31181376</td>\n",
       "      <td>India</td>\n",
       "    </tr>\n",
       "  </tbody>\n",
       "</table>\n",
       "</div>"
      ],
      "text/plain": [
       "       population country\n",
       "Tokyo    37339804   Japan\n",
       "Delhi    31181376   India"
      ]
     },
     "execution_count": 47,
     "metadata": {},
     "output_type": "execute_result"
    }
   ],
   "source": [
    "df_cities[df_cities.population > 30_000_000] # for human readibility you can use underscore as thousand separator"
   ]
  },
  {
   "cell_type": "code",
   "execution_count": 48,
   "id": "9ab212d2",
   "metadata": {},
   "outputs": [
    {
     "data": {
      "text/html": [
       "<div>\n",
       "<style scoped>\n",
       "    .dataframe tbody tr th:only-of-type {\n",
       "        vertical-align: middle;\n",
       "    }\n",
       "\n",
       "    .dataframe tbody tr th {\n",
       "        vertical-align: top;\n",
       "    }\n",
       "\n",
       "    .dataframe thead th {\n",
       "        text-align: right;\n",
       "    }\n",
       "</style>\n",
       "<table border=\"1\" class=\"dataframe\">\n",
       "  <thead>\n",
       "    <tr style=\"text-align: right;\">\n",
       "      <th></th>\n",
       "      <th>population</th>\n",
       "      <th>country</th>\n",
       "    </tr>\n",
       "  </thead>\n",
       "  <tbody>\n",
       "    <tr>\n",
       "      <th>Tokyo</th>\n",
       "      <td>37339804</td>\n",
       "      <td>Japan</td>\n",
       "    </tr>\n",
       "    <tr>\n",
       "      <th>Delhi</th>\n",
       "      <td>31181376</td>\n",
       "      <td>India</td>\n",
       "    </tr>\n",
       "    <tr>\n",
       "      <th>Sao Paulo</th>\n",
       "      <td>22237472</td>\n",
       "      <td>Brazil</td>\n",
       "    </tr>\n",
       "    <tr>\n",
       "      <th>Mumbai</th>\n",
       "      <td>20667656</td>\n",
       "      <td>India</td>\n",
       "    </tr>\n",
       "    <tr>\n",
       "      <th>Osaka</th>\n",
       "      <td>19110616</td>\n",
       "      <td>Japan</td>\n",
       "    </tr>\n",
       "  </tbody>\n",
       "</table>\n",
       "</div>"
      ],
      "text/plain": [
       "           population country\n",
       "Tokyo        37339804   Japan\n",
       "Delhi        31181376   India\n",
       "Sao Paulo    22237472  Brazil\n",
       "Mumbai       20667656   India\n",
       "Osaka        19110616   Japan"
      ]
     },
     "execution_count": 48,
     "metadata": {},
     "output_type": "execute_result"
    }
   ],
   "source": [
    "df_cities[df_cities.country.isin([\"Japan\", \"India\", \"Brazil\"])] # Show Boolean indexing"
   ]
  },
  {
   "cell_type": "code",
   "execution_count": 53,
   "id": "26685111",
   "metadata": {},
   "outputs": [
    {
     "data": {
      "text/html": [
       "<div>\n",
       "<style scoped>\n",
       "    .dataframe tbody tr th:only-of-type {\n",
       "        vertical-align: middle;\n",
       "    }\n",
       "\n",
       "    .dataframe tbody tr th {\n",
       "        vertical-align: top;\n",
       "    }\n",
       "\n",
       "    .dataframe thead th {\n",
       "        text-align: right;\n",
       "    }\n",
       "</style>\n",
       "<table border=\"1\" class=\"dataframe\">\n",
       "  <thead>\n",
       "    <tr style=\"text-align: right;\">\n",
       "      <th></th>\n",
       "      <th>population</th>\n",
       "      <th>country</th>\n",
       "    </tr>\n",
       "  </thead>\n",
       "  <tbody>\n",
       "    <tr>\n",
       "      <th>Shanghai</th>\n",
       "      <td>27795702</td>\n",
       "      <td>China</td>\n",
       "    </tr>\n",
       "    <tr>\n",
       "      <th>Mexico City</th>\n",
       "      <td>21918936</td>\n",
       "      <td>Mexico</td>\n",
       "    </tr>\n",
       "    <tr>\n",
       "      <th>Dhaka</th>\n",
       "      <td>21741090</td>\n",
       "      <td>Bangladesh</td>\n",
       "    </tr>\n",
       "    <tr>\n",
       "      <th>Cairo</th>\n",
       "      <td>21322750</td>\n",
       "      <td>Egypt</td>\n",
       "    </tr>\n",
       "    <tr>\n",
       "      <th>Beijing</th>\n",
       "      <td>20896820</td>\n",
       "      <td>China</td>\n",
       "    </tr>\n",
       "  </tbody>\n",
       "</table>\n",
       "</div>"
      ],
      "text/plain": [
       "             population     country\n",
       "Shanghai       27795702       China\n",
       "Mexico City    21918936      Mexico\n",
       "Dhaka          21741090  Bangladesh\n",
       "Cairo          21322750       Egypt\n",
       "Beijing        20896820       China"
      ]
     },
     "execution_count": 53,
     "metadata": {},
     "output_type": "execute_result"
    }
   ],
   "source": [
    "df_cities[\n",
    "    ~df_cities.country.isin([\"Japan\", \"India\", \"Brazil\"])\n",
    "]  # tilde (~) for 'not in'"
   ]
  },
  {
   "cell_type": "code",
   "execution_count": 56,
   "id": "6c6a27c7",
   "metadata": {},
   "outputs": [
    {
     "data": {
      "text/html": [
       "<div>\n",
       "<style scoped>\n",
       "    .dataframe tbody tr th:only-of-type {\n",
       "        vertical-align: middle;\n",
       "    }\n",
       "\n",
       "    .dataframe tbody tr th {\n",
       "        vertical-align: top;\n",
       "    }\n",
       "\n",
       "    .dataframe thead th {\n",
       "        text-align: right;\n",
       "    }\n",
       "</style>\n",
       "<table border=\"1\" class=\"dataframe\">\n",
       "  <thead>\n",
       "    <tr style=\"text-align: right;\">\n",
       "      <th></th>\n",
       "      <th>index</th>\n",
       "      <th>population</th>\n",
       "      <th>country</th>\n",
       "    </tr>\n",
       "  </thead>\n",
       "  <tbody>\n",
       "    <tr>\n",
       "      <th>0</th>\n",
       "      <td>Tokyo</td>\n",
       "      <td>37339804</td>\n",
       "      <td>Japan</td>\n",
       "    </tr>\n",
       "    <tr>\n",
       "      <th>1</th>\n",
       "      <td>Delhi</td>\n",
       "      <td>31181376</td>\n",
       "      <td>India</td>\n",
       "    </tr>\n",
       "    <tr>\n",
       "      <th>2</th>\n",
       "      <td>Shanghai</td>\n",
       "      <td>27795702</td>\n",
       "      <td>China</td>\n",
       "    </tr>\n",
       "    <tr>\n",
       "      <th>3</th>\n",
       "      <td>Sao Paulo</td>\n",
       "      <td>22237472</td>\n",
       "      <td>Brazil</td>\n",
       "    </tr>\n",
       "    <tr>\n",
       "      <th>4</th>\n",
       "      <td>Mexico City</td>\n",
       "      <td>21918936</td>\n",
       "      <td>Mexico</td>\n",
       "    </tr>\n",
       "    <tr>\n",
       "      <th>5</th>\n",
       "      <td>Dhaka</td>\n",
       "      <td>21741090</td>\n",
       "      <td>Bangladesh</td>\n",
       "    </tr>\n",
       "    <tr>\n",
       "      <th>6</th>\n",
       "      <td>Cairo</td>\n",
       "      <td>21322750</td>\n",
       "      <td>Egypt</td>\n",
       "    </tr>\n",
       "    <tr>\n",
       "      <th>7</th>\n",
       "      <td>Beijing</td>\n",
       "      <td>20896820</td>\n",
       "      <td>China</td>\n",
       "    </tr>\n",
       "    <tr>\n",
       "      <th>8</th>\n",
       "      <td>Mumbai</td>\n",
       "      <td>20667656</td>\n",
       "      <td>India</td>\n",
       "    </tr>\n",
       "    <tr>\n",
       "      <th>9</th>\n",
       "      <td>Osaka</td>\n",
       "      <td>19110616</td>\n",
       "      <td>Japan</td>\n",
       "    </tr>\n",
       "  </tbody>\n",
       "</table>\n",
       "</div>"
      ],
      "text/plain": [
       "         index  population     country\n",
       "0        Tokyo    37339804       Japan\n",
       "1        Delhi    31181376       India\n",
       "2     Shanghai    27795702       China\n",
       "3    Sao Paulo    22237472      Brazil\n",
       "4  Mexico City    21918936      Mexico\n",
       "5        Dhaka    21741090  Bangladesh\n",
       "6        Cairo    21322750       Egypt\n",
       "7      Beijing    20896820       China\n",
       "8       Mumbai    20667656       India\n",
       "9        Osaka    19110616       Japan"
      ]
     },
     "execution_count": 56,
     "metadata": {},
     "output_type": "execute_result"
    }
   ],
   "source": [
    "# Index looks useful; move to DataFrame\n",
    "df_cities.reset_index(drop=False, inplace=True)\n",
    "df_cities # \"index\" not a good col name"
   ]
  },
  {
   "cell_type": "markdown",
   "id": "bfc4bd27",
   "metadata": {},
   "source": [
    "You can rename certain columns using a dictionary with old name as key and new name as value."
   ]
  },
  {
   "cell_type": "code",
   "execution_count": 57,
   "id": "e870afab",
   "metadata": {},
   "outputs": [
    {
     "data": {
      "text/html": [
       "<div>\n",
       "<style scoped>\n",
       "    .dataframe tbody tr th:only-of-type {\n",
       "        vertical-align: middle;\n",
       "    }\n",
       "\n",
       "    .dataframe tbody tr th {\n",
       "        vertical-align: top;\n",
       "    }\n",
       "\n",
       "    .dataframe thead th {\n",
       "        text-align: right;\n",
       "    }\n",
       "</style>\n",
       "<table border=\"1\" class=\"dataframe\">\n",
       "  <thead>\n",
       "    <tr style=\"text-align: right;\">\n",
       "      <th></th>\n",
       "      <th>city</th>\n",
       "      <th>population</th>\n",
       "      <th>country</th>\n",
       "    </tr>\n",
       "  </thead>\n",
       "  <tbody>\n",
       "    <tr>\n",
       "      <th>0</th>\n",
       "      <td>Tokyo</td>\n",
       "      <td>37339804</td>\n",
       "      <td>Japan</td>\n",
       "    </tr>\n",
       "    <tr>\n",
       "      <th>1</th>\n",
       "      <td>Delhi</td>\n",
       "      <td>31181376</td>\n",
       "      <td>India</td>\n",
       "    </tr>\n",
       "    <tr>\n",
       "      <th>2</th>\n",
       "      <td>Shanghai</td>\n",
       "      <td>27795702</td>\n",
       "      <td>China</td>\n",
       "    </tr>\n",
       "    <tr>\n",
       "      <th>3</th>\n",
       "      <td>Sao Paulo</td>\n",
       "      <td>22237472</td>\n",
       "      <td>Brazil</td>\n",
       "    </tr>\n",
       "    <tr>\n",
       "      <th>4</th>\n",
       "      <td>Mexico City</td>\n",
       "      <td>21918936</td>\n",
       "      <td>Mexico</td>\n",
       "    </tr>\n",
       "    <tr>\n",
       "      <th>5</th>\n",
       "      <td>Dhaka</td>\n",
       "      <td>21741090</td>\n",
       "      <td>Bangladesh</td>\n",
       "    </tr>\n",
       "    <tr>\n",
       "      <th>6</th>\n",
       "      <td>Cairo</td>\n",
       "      <td>21322750</td>\n",
       "      <td>Egypt</td>\n",
       "    </tr>\n",
       "    <tr>\n",
       "      <th>7</th>\n",
       "      <td>Beijing</td>\n",
       "      <td>20896820</td>\n",
       "      <td>China</td>\n",
       "    </tr>\n",
       "    <tr>\n",
       "      <th>8</th>\n",
       "      <td>Mumbai</td>\n",
       "      <td>20667656</td>\n",
       "      <td>India</td>\n",
       "    </tr>\n",
       "    <tr>\n",
       "      <th>9</th>\n",
       "      <td>Osaka</td>\n",
       "      <td>19110616</td>\n",
       "      <td>Japan</td>\n",
       "    </tr>\n",
       "  </tbody>\n",
       "</table>\n",
       "</div>"
      ],
      "text/plain": [
       "          city  population     country\n",
       "0        Tokyo    37339804       Japan\n",
       "1        Delhi    31181376       India\n",
       "2     Shanghai    27795702       China\n",
       "3    Sao Paulo    22237472      Brazil\n",
       "4  Mexico City    21918936      Mexico\n",
       "5        Dhaka    21741090  Bangladesh\n",
       "6        Cairo    21322750       Egypt\n",
       "7      Beijing    20896820       China\n",
       "8       Mumbai    20667656       India\n",
       "9        Osaka    19110616       Japan"
      ]
     },
     "execution_count": 57,
     "metadata": {},
     "output_type": "execute_result"
    }
   ],
   "source": [
    "df_cities.rename({\"index\": \"city\"}, axis=\"columns\", inplace=True)\n",
    "df_cities"
   ]
  },
  {
   "cell_type": "code",
   "execution_count": 58,
   "id": "13058c83",
   "metadata": {},
   "outputs": [],
   "source": [
    "data = []\n",
    "data.append([\"Tokyo\", 37339804, \"Japan\"])\n",
    "data.append([\"Delhi\", 31181376, \"India\"])\n",
    "data.append([\"Shanghai\", 27795702, \"China\"])"
   ]
  },
  {
   "cell_type": "code",
   "execution_count": 59,
   "id": "ec1f2e5b",
   "metadata": {},
   "outputs": [
    {
     "data": {
      "text/plain": [
       "[['Tokyo', 37339804, 'Japan'],\n",
       " ['Delhi', 31181376, 'India'],\n",
       " ['Shanghai', 27795702, 'China']]"
      ]
     },
     "execution_count": 59,
     "metadata": {},
     "output_type": "execute_result"
    }
   ],
   "source": [
    "data"
   ]
  },
  {
   "cell_type": "code",
   "execution_count": 60,
   "id": "cac4ab2f",
   "metadata": {},
   "outputs": [
    {
     "data": {
      "text/html": [
       "<div>\n",
       "<style scoped>\n",
       "    .dataframe tbody tr th:only-of-type {\n",
       "        vertical-align: middle;\n",
       "    }\n",
       "\n",
       "    .dataframe tbody tr th {\n",
       "        vertical-align: top;\n",
       "    }\n",
       "\n",
       "    .dataframe thead th {\n",
       "        text-align: right;\n",
       "    }\n",
       "</style>\n",
       "<table border=\"1\" class=\"dataframe\">\n",
       "  <thead>\n",
       "    <tr style=\"text-align: right;\">\n",
       "      <th></th>\n",
       "      <th>city</th>\n",
       "      <th>population</th>\n",
       "      <th>country</th>\n",
       "    </tr>\n",
       "  </thead>\n",
       "  <tbody>\n",
       "    <tr>\n",
       "      <th>0</th>\n",
       "      <td>Tokyo</td>\n",
       "      <td>37339804</td>\n",
       "      <td>Japan</td>\n",
       "    </tr>\n",
       "    <tr>\n",
       "      <th>1</th>\n",
       "      <td>Delhi</td>\n",
       "      <td>31181376</td>\n",
       "      <td>India</td>\n",
       "    </tr>\n",
       "    <tr>\n",
       "      <th>2</th>\n",
       "      <td>Shanghai</td>\n",
       "      <td>27795702</td>\n",
       "      <td>China</td>\n",
       "    </tr>\n",
       "  </tbody>\n",
       "</table>\n",
       "</div>"
      ],
      "text/plain": [
       "       city  population country\n",
       "0     Tokyo    37339804   Japan\n",
       "1     Delhi    31181376   India\n",
       "2  Shanghai    27795702   China"
      ]
     },
     "execution_count": 60,
     "metadata": {},
     "output_type": "execute_result"
    }
   ],
   "source": [
    "df_cities_ = pd.DataFrame(data=data, columns=[\"city\", \"population\", \"country\"])\n",
    "df_cities_"
   ]
  },
  {
   "cell_type": "code",
   "execution_count": 62,
   "id": "c01d2460",
   "metadata": {},
   "outputs": [
    {
     "data": {
      "text/html": [
       "<div>\n",
       "<style scoped>\n",
       "    .dataframe tbody tr th:only-of-type {\n",
       "        vertical-align: middle;\n",
       "    }\n",
       "\n",
       "    .dataframe tbody tr th {\n",
       "        vertical-align: top;\n",
       "    }\n",
       "\n",
       "    .dataframe thead th {\n",
       "        text-align: right;\n",
       "    }\n",
       "</style>\n",
       "<table border=\"1\" class=\"dataframe\">\n",
       "  <thead>\n",
       "    <tr style=\"text-align: right;\">\n",
       "      <th></th>\n",
       "      <th>city</th>\n",
       "      <th>country</th>\n",
       "      <th>population</th>\n",
       "    </tr>\n",
       "  </thead>\n",
       "  <tbody>\n",
       "    <tr>\n",
       "      <th>0</th>\n",
       "      <td>Tokyo</td>\n",
       "      <td>Japan</td>\n",
       "      <td>37339804</td>\n",
       "    </tr>\n",
       "    <tr>\n",
       "      <th>1</th>\n",
       "      <td>Delhi</td>\n",
       "      <td>India</td>\n",
       "      <td>31181376</td>\n",
       "    </tr>\n",
       "    <tr>\n",
       "      <th>2</th>\n",
       "      <td>Shanghai</td>\n",
       "      <td>China</td>\n",
       "      <td>27795702</td>\n",
       "    </tr>\n",
       "  </tbody>\n",
       "</table>\n",
       "</div>"
      ],
      "text/plain": [
       "       city country  population\n",
       "0     Tokyo   Japan    37339804\n",
       "1     Delhi   India    31181376\n",
       "2  Shanghai   China    27795702"
      ]
     },
     "execution_count": 62,
     "metadata": {},
     "output_type": "execute_result"
    }
   ],
   "source": [
    "# Reorder cols\n",
    "df_cities_ = df_cities_[[\"city\", \"country\", \"population\"]]\n",
    "df_cities_"
   ]
  },
  {
   "cell_type": "code",
   "execution_count": 63,
   "id": "8893717c",
   "metadata": {},
   "outputs": [
    {
     "name": "stdout",
     "output_type": "stream",
     "text": [
      "<class 'pandas.core.frame.DataFrame'>\n",
      "RangeIndex: 10 entries, 0 to 9\n",
      "Data columns (total 3 columns):\n",
      " #   Column      Non-Null Count  Dtype \n",
      "---  ------      --------------  ----- \n",
      " 0   city        10 non-null     object\n",
      " 1   population  10 non-null     int64 \n",
      " 2   country     10 non-null     object\n",
      "dtypes: int64(1), object(2)\n",
      "memory usage: 368.0+ bytes\n"
     ]
    }
   ],
   "source": [
    "# Metadata\n",
    "df_cities.info()"
   ]
  },
  {
   "cell_type": "code",
   "execution_count": 64,
   "id": "225a4d97",
   "metadata": {},
   "outputs": [
    {
     "data": {
      "text/plain": [
       "(10, 3)"
      ]
     },
     "execution_count": 64,
     "metadata": {},
     "output_type": "execute_result"
    }
   ],
   "source": [
    "df_cities.shape"
   ]
  },
  {
   "cell_type": "code",
   "execution_count": 65,
   "id": "74975c75",
   "metadata": {},
   "outputs": [
    {
     "data": {
      "text/plain": [
       "10"
      ]
     },
     "execution_count": 65,
     "metadata": {},
     "output_type": "execute_result"
    }
   ],
   "source": [
    "df_cities.shape[0]"
   ]
  }
 ],
 "metadata": {
  "kernelspec": {
   "display_name": "Python 3 (ipykernel)",
   "language": "python",
   "name": "python3"
  },
  "language_info": {
   "codemirror_mode": {
    "name": "ipython",
    "version": 3
   },
   "file_extension": ".py",
   "mimetype": "text/x-python",
   "name": "python",
   "nbconvert_exporter": "python",
   "pygments_lexer": "ipython3",
   "version": "3.8.5"
  }
 },
 "nbformat": 4,
 "nbformat_minor": 5
}
