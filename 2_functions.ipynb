{
 "cells": [
  {
   "cell_type": "markdown",
   "id": "9d313358",
   "metadata": {},
   "source": [
    "# Functions"
   ]
  },
  {
   "cell_type": "code",
   "execution_count": 1,
   "id": "cfc65d3f",
   "metadata": {},
   "outputs": [],
   "source": [
    "# Let's define our first function that takes a number and adds one.\n",
    "def add_one(number):\n",
    "    \n",
    "    # Add one to number\n",
    "    number_plus_one = number + 1\n",
    "    \n",
    "    # Return result\n",
    "    return number_plus_one    "
   ]
  },
  {
   "cell_type": "code",
   "execution_count": 4,
   "id": "b02c4234",
   "metadata": {},
   "outputs": [],
   "source": [
    "# Let's define another function\n",
    "def add_one_str(number):\n",
    "    \n",
    "    # Add one to nmber\n",
    "    number_plus_one = number + 1\n",
    "    \n",
    "    # Print results\n",
    "    print(number_plus_one)"
   ]
  },
  {
   "cell_type": "code",
   "execution_count": 9,
   "id": "c5d2fbda",
   "metadata": {},
   "outputs": [],
   "source": [
    "x = add_one(5)"
   ]
  },
  {
   "cell_type": "code",
   "execution_count": 10,
   "id": "58629726",
   "metadata": {},
   "outputs": [
    {
     "name": "stdout",
     "output_type": "stream",
     "text": [
      "6\n"
     ]
    }
   ],
   "source": [
    "y = add_one_str(5)"
   ]
  },
  {
   "cell_type": "code",
   "execution_count": 11,
   "id": "24080f62",
   "metadata": {},
   "outputs": [
    {
     "name": "stdout",
     "output_type": "stream",
     "text": [
      "6 None\n"
     ]
    }
   ],
   "source": [
    "print(x, y)"
   ]
  },
  {
   "cell_type": "code",
   "execution_count": 12,
   "id": "bce23b45",
   "metadata": {},
   "outputs": [],
   "source": [
    "# Functions return more than one output\n",
    "def add_one_return_both(num1):\n",
    "    \n",
    "    # Add one to num1\n",
    "    num2 = num1 + 1\n",
    "    \n",
    "    return num1, num2"
   ]
  },
  {
   "cell_type": "code",
   "execution_count": 13,
   "id": "231212fe",
   "metadata": {},
   "outputs": [
    {
     "name": "stdout",
     "output_type": "stream",
     "text": [
      "5 6\n"
     ]
    }
   ],
   "source": [
    "x, y = add_one_return_both(5)\n",
    "\n",
    "print(x, y)"
   ]
  },
  {
   "cell_type": "code",
   "execution_count": 14,
   "id": "4e0e397d",
   "metadata": {},
   "outputs": [],
   "source": [
    "# Functions can have two inputs and default values!\n",
    "def num_pow(num, exponent=2):\n",
    "    \n",
    "    return num ** exponent"
   ]
  },
  {
   "cell_type": "code",
   "execution_count": 15,
   "id": "0523ee98",
   "metadata": {},
   "outputs": [
    {
     "data": {
      "text/plain": [
       "4"
      ]
     },
     "execution_count": 15,
     "metadata": {},
     "output_type": "execute_result"
    }
   ],
   "source": [
    "num_pow(2)"
   ]
  },
  {
   "cell_type": "code",
   "execution_count": 16,
   "id": "e447e6d9",
   "metadata": {},
   "outputs": [
    {
     "data": {
      "text/plain": [
       "8"
      ]
     },
     "execution_count": 16,
     "metadata": {},
     "output_type": "execute_result"
    }
   ],
   "source": [
    "num_pow(2, 3)"
   ]
  },
  {
   "cell_type": "code",
   "execution_count": 19,
   "id": "cef78c96",
   "metadata": {},
   "outputs": [],
   "source": [
    "# Positional arguments vs keyword arguments\n",
    "def subtract(num1, num2):\n",
    "    return num1 - num2"
   ]
  },
  {
   "cell_type": "code",
   "execution_count": 20,
   "id": "540f696e",
   "metadata": {},
   "outputs": [
    {
     "data": {
      "text/plain": [
       "3"
      ]
     },
     "execution_count": 20,
     "metadata": {},
     "output_type": "execute_result"
    }
   ],
   "source": [
    "# Use positional arguments\n",
    "subtract(5, 2)"
   ]
  },
  {
   "cell_type": "code",
   "execution_count": 21,
   "id": "18bf4399",
   "metadata": {},
   "outputs": [
    {
     "data": {
      "text/plain": [
       "-3"
      ]
     },
     "execution_count": 21,
     "metadata": {},
     "output_type": "execute_result"
    }
   ],
   "source": [
    "subtract(2, 5)"
   ]
  },
  {
   "cell_type": "code",
   "execution_count": 22,
   "id": "dbd71d1a",
   "metadata": {},
   "outputs": [
    {
     "data": {
      "text/plain": [
       "True"
      ]
     },
     "execution_count": 22,
     "metadata": {},
     "output_type": "execute_result"
    }
   ],
   "source": [
    "# I can swap arguments if I use the parameter names\n",
    "subtract(num2=2, num1=5) == subtract(5, 2)"
   ]
  },
  {
   "cell_type": "code",
   "execution_count": 39,
   "id": "ea1f46f9",
   "metadata": {},
   "outputs": [],
   "source": [
    "# Functions can take a variable number of arguments\n",
    "def add_all_numbers(*numbers):\n",
    "    \n",
    "    # What is the object type of *numbers?\n",
    "    #print(type(numbers))\n",
    "    \n",
    "    # Initialize counter that collect sum of numbers\n",
    "    total = 0\n",
    "    \n",
    "    #print(numbers)\n",
    "    # Add up all numbers (without knowing exactly how many numbers there are)\n",
    "    for nr in numbers:\n",
    "        total += nr\n",
    "        \n",
    "    return total\n",
    "    "
   ]
  },
  {
   "cell_type": "code",
   "execution_count": 41,
   "id": "b2c1dd39",
   "metadata": {},
   "outputs": [
    {
     "name": "stdout",
     "output_type": "stream",
     "text": [
      "6\n",
      "21\n"
     ]
    }
   ],
   "source": [
    "print(add_all_numbers(1, 2, 3))\n",
    "print(add_all_numbers(1, 2, 3, 4, 5, 6))"
   ]
  },
  {
   "cell_type": "code",
   "execution_count": 1,
   "id": "753af666",
   "metadata": {},
   "outputs": [],
   "source": [
    "# Define function without parameters\n",
    "def msg():\n",
    "    print(\"Hello world!\")"
   ]
  },
  {
   "cell_type": "code",
   "execution_count": 3,
   "id": "b711b822",
   "metadata": {},
   "outputs": [
    {
     "name": "stdout",
     "output_type": "stream",
     "text": [
      "Hello world!\n"
     ]
    }
   ],
   "source": [
    "msg()"
   ]
  },
  {
   "cell_type": "code",
   "execution_count": 7,
   "id": "eeba09bd",
   "metadata": {},
   "outputs": [],
   "source": [
    "# Define a function and write docstring\n",
    "def cast_lastitems_to_string(list_of_objects):\n",
    "    \"\"\"\n",
    "    Casts a list of various elements to string.\n",
    "    \n",
    "    The function that casts elements in a list to a list of strings,\n",
    "    whatever their original type is.\n",
    "    \n",
    "    Parameters\n",
    "    -------------------\n",
    "    list: A list of various data types.\n",
    "    \n",
    "    Returns\n",
    "    -------------------\n",
    "    list: A list of strings\n",
    "    \"\"\"\n",
    "    for i in range(len(list_of_objects)):\n",
    "        list_of_objects[i] = str(list_of_objects[i])\n",
    "        \n",
    "    # return\n",
    "    return list_of_objects "
   ]
  },
  {
   "cell_type": "code",
   "execution_count": 5,
   "id": "9ab46b0a",
   "metadata": {},
   "outputs": [
    {
     "name": "stdout",
     "output_type": "stream",
     "text": [
      "Help on function cast_lastitems_to_string in module __main__:\n",
      "\n",
      "cast_lastitems_to_string(list_of_objects)\n",
      "    Casts a list of various elements to string.\n",
      "    \n",
      "    The function that casts elements in a list to a list of strings,\n",
      "    whatever their original type is.\n",
      "    \n",
      "    Parameters\n",
      "    -------------------\n",
      "    list: A list of various data types.\n",
      "    \n",
      "    Returns\n",
      "    -------------------\n",
      "    list: A list of strings\n",
      "\n"
     ]
    }
   ],
   "source": [
    "help(cast_lastitems_to_string)"
   ]
  },
  {
   "cell_type": "code",
   "execution_count": 8,
   "id": "dcd384b5",
   "metadata": {},
   "outputs": [
    {
     "data": {
      "text/plain": [
       "['1', 'a', '2842', 'abcdef']"
      ]
     },
     "execution_count": 8,
     "metadata": {},
     "output_type": "execute_result"
    }
   ],
   "source": [
    "# Let's try out the function\n",
    "test_list = [1, 'a', 2842, \"abcdef\"]\n",
    "\n",
    "cast_lastitems_to_string(test_list)"
   ]
  },
  {
   "cell_type": "markdown",
   "id": "fe48e2f9",
   "metadata": {},
   "source": [
    "### Lambda functions\n",
    "Are anonynomous functions that can be useful. They use the `lambda` keyword."
   ]
  },
  {
   "cell_type": "code",
   "execution_count": 9,
   "id": "1f24db85",
   "metadata": {},
   "outputs": [],
   "source": [
    "# For comparison define function that returns the square of a number\n",
    "def square(num):\n",
    "    \"\"\"\n",
    "    Returns the square of a number.\n",
    "    \n",
    "    Parameters\n",
    "    ---------------\n",
    "    num: (real) number\n",
    "    \n",
    "    Returns\n",
    "    ---------------\n",
    "    num2: square of (real) number\n",
    "    \"\"\"\n",
    "    \n",
    "    return num**2"
   ]
  },
  {
   "cell_type": "code",
   "execution_count": 10,
   "id": "c6f80099",
   "metadata": {},
   "outputs": [],
   "source": [
    "# Analogous lambda function\n",
    "square_lambda = lambda x: x**2"
   ]
  },
  {
   "cell_type": "code",
   "execution_count": 11,
   "id": "7d16dd02",
   "metadata": {},
   "outputs": [
    {
     "data": {
      "text/plain": [
       "4"
      ]
     },
     "execution_count": 11,
     "metadata": {},
     "output_type": "execute_result"
    }
   ],
   "source": [
    "square_lambda(2)"
   ]
  },
  {
   "cell_type": "code",
   "execution_count": 12,
   "id": "ef8bcbfa",
   "metadata": {},
   "outputs": [],
   "source": [
    "# Can you combine lambda functions with list comprehensions\n",
    "ls_numbers = list(range(10))"
   ]
  },
  {
   "cell_type": "code",
   "execution_count": 13,
   "id": "ccd3773f",
   "metadata": {},
   "outputs": [
    {
     "data": {
      "text/plain": [
       "[0, 1, 2, 3, 4, 5, 6, 7, 8, 9]"
      ]
     },
     "execution_count": 13,
     "metadata": {},
     "output_type": "execute_result"
    }
   ],
   "source": [
    "ls_numbers"
   ]
  },
  {
   "cell_type": "code",
   "execution_count": 17,
   "id": "f571684f",
   "metadata": {},
   "outputs": [
    {
     "data": {
      "text/plain": [
       "[1, 2, 5, 10, 17, 26, 37, 50, 65, 82]"
      ]
     },
     "execution_count": 17,
     "metadata": {},
     "output_type": "execute_result"
    }
   ],
   "source": [
    "# Let's use a list comprehension with our lambda function\n",
    "sq_one = lambda x: x**2 + 1\n",
    "[sq_one(x) for x in ls_numbers]"
   ]
  },
  {
   "cell_type": "code",
   "execution_count": 19,
   "id": "df93ff60",
   "metadata": {},
   "outputs": [
    {
     "data": {
      "text/plain": [
       "[1, 5, 17, 37, 65]"
      ]
     },
     "execution_count": 19,
     "metadata": {},
     "output_type": "execute_result"
    }
   ],
   "source": [
    "# Can also use if statements here\n",
    "[sq_one(x) for x in ls_numbers if x%2 == 0]"
   ]
  },
  {
   "cell_type": "code",
   "execution_count": 22,
   "id": "b7e8c0ec",
   "metadata": {},
   "outputs": [
    {
     "data": {
      "text/plain": [
       "[1, 5, 17, 37, 65]"
      ]
     },
     "execution_count": 22,
     "metadata": {},
     "output_type": "execute_result"
    }
   ],
   "source": [
    "# Analogous for loop to list comprehension in cell above\n",
    "test_list = []\n",
    "for x in ls_numbers:\n",
    "    if x%2 == 0:\n",
    "        test_list.append(sq_one(x))\n",
    "        \n",
    "test_list"
   ]
  }
 ],
 "metadata": {
  "kernelspec": {
   "display_name": "Python 3 (ipykernel)",
   "language": "python",
   "name": "python3"
  },
  "language_info": {
   "codemirror_mode": {
    "name": "ipython",
    "version": 3
   },
   "file_extension": ".py",
   "mimetype": "text/x-python",
   "name": "python",
   "nbconvert_exporter": "python",
   "pygments_lexer": "ipython3",
   "version": "3.8.5"
  }
 },
 "nbformat": 4,
 "nbformat_minor": 5
}
