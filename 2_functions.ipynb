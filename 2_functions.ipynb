{
 "cells": [
  {
   "cell_type": "markdown",
   "id": "9d313358",
   "metadata": {},
   "source": [
    "# Functions"
   ]
  },
  {
   "cell_type": "code",
   "execution_count": 1,
   "id": "cfc65d3f",
   "metadata": {},
   "outputs": [],
   "source": [
    "# Let's define our first function that takes a number and adds one.\n",
    "def add_one(number):\n",
    "    \n",
    "    # Add one to number\n",
    "    number_plus_one = number + 1\n",
    "    \n",
    "    # Return result\n",
    "    return number_plus_one    "
   ]
  },
  {
   "cell_type": "code",
   "execution_count": 4,
   "id": "b02c4234",
   "metadata": {},
   "outputs": [],
   "source": [
    "# Let's define another function\n",
    "def add_one_str(number):\n",
    "    \n",
    "    # Add one to nmber\n",
    "    number_plus_one = number + 1\n",
    "    \n",
    "    # Print results\n",
    "    print(number_plus_one)"
   ]
  },
  {
   "cell_type": "code",
   "execution_count": 9,
   "id": "c5d2fbda",
   "metadata": {},
   "outputs": [],
   "source": [
    "x = add_one(5)"
   ]
  },
  {
   "cell_type": "code",
   "execution_count": 10,
   "id": "58629726",
   "metadata": {},
   "outputs": [
    {
     "name": "stdout",
     "output_type": "stream",
     "text": [
      "6\n"
     ]
    }
   ],
   "source": [
    "y = add_one_str(5)"
   ]
  },
  {
   "cell_type": "code",
   "execution_count": 11,
   "id": "24080f62",
   "metadata": {},
   "outputs": [
    {
     "name": "stdout",
     "output_type": "stream",
     "text": [
      "6 None\n"
     ]
    }
   ],
   "source": [
    "print(x, y)"
   ]
  },
  {
   "cell_type": "code",
   "execution_count": 12,
   "id": "bce23b45",
   "metadata": {},
   "outputs": [],
   "source": [
    "# Functions return more than one output\n",
    "def add_one_return_both(num1):\n",
    "    \n",
    "    # Add one to num1\n",
    "    num2 = num1 + 1\n",
    "    \n",
    "    return num1, num2"
   ]
  },
  {
   "cell_type": "code",
   "execution_count": 13,
   "id": "231212fe",
   "metadata": {},
   "outputs": [
    {
     "name": "stdout",
     "output_type": "stream",
     "text": [
      "5 6\n"
     ]
    }
   ],
   "source": [
    "x, y = add_one_return_both(5)\n",
    "\n",
    "print(x, y)"
   ]
  },
  {
   "cell_type": "code",
   "execution_count": 14,
   "id": "4e0e397d",
   "metadata": {},
   "outputs": [],
   "source": [
    "# Functions can have two inputs and default values!\n",
    "def num_pow(num, exponent=2):\n",
    "    \n",
    "    return num ** exponent"
   ]
  },
  {
   "cell_type": "code",
   "execution_count": 15,
   "id": "0523ee98",
   "metadata": {},
   "outputs": [
    {
     "data": {
      "text/plain": [
       "4"
      ]
     },
     "execution_count": 15,
     "metadata": {},
     "output_type": "execute_result"
    }
   ],
   "source": [
    "num_pow(2)"
   ]
  },
  {
   "cell_type": "code",
   "execution_count": 16,
   "id": "e447e6d9",
   "metadata": {},
   "outputs": [
    {
     "data": {
      "text/plain": [
       "8"
      ]
     },
     "execution_count": 16,
     "metadata": {},
     "output_type": "execute_result"
    }
   ],
   "source": [
    "num_pow(2, 3)"
   ]
  },
  {
   "cell_type": "code",
   "execution_count": 19,
   "id": "cef78c96",
   "metadata": {},
   "outputs": [],
   "source": [
    "# Positional arguments vs keyword arguments\n",
    "def subtract(num1, num2):\n",
    "    return num1 - num2"
   ]
  },
  {
   "cell_type": "code",
   "execution_count": 20,
   "id": "540f696e",
   "metadata": {},
   "outputs": [
    {
     "data": {
      "text/plain": [
       "3"
      ]
     },
     "execution_count": 20,
     "metadata": {},
     "output_type": "execute_result"
    }
   ],
   "source": [
    "# Use positional arguments\n",
    "subtract(5, 2)"
   ]
  },
  {
   "cell_type": "code",
   "execution_count": 21,
   "id": "18bf4399",
   "metadata": {},
   "outputs": [
    {
     "data": {
      "text/plain": [
       "-3"
      ]
     },
     "execution_count": 21,
     "metadata": {},
     "output_type": "execute_result"
    }
   ],
   "source": [
    "subtract(2, 5)"
   ]
  },
  {
   "cell_type": "code",
   "execution_count": 22,
   "id": "dbd71d1a",
   "metadata": {},
   "outputs": [
    {
     "data": {
      "text/plain": [
       "True"
      ]
     },
     "execution_count": 22,
     "metadata": {},
     "output_type": "execute_result"
    }
   ],
   "source": [
    "# I can swap arguments if I use the parameter names\n",
    "subtract(num2=2, num1=5) == subtract(5, 2)"
   ]
  },
  {
   "cell_type": "code",
   "execution_count": 39,
   "id": "ea1f46f9",
   "metadata": {},
   "outputs": [],
   "source": [
    "# Functions can take a variable number of arguments\n",
    "def add_all_numbers(*numbers):\n",
    "    \n",
    "    # What is the object type of *numbers?\n",
    "    #print(type(numbers))\n",
    "    \n",
    "    # Initialize counter that collect sum of numbers\n",
    "    total = 0\n",
    "    \n",
    "    #print(numbers)\n",
    "    # Add up all numbers (without knowing exactly how many numbers there are)\n",
    "    for nr in numbers:\n",
    "        total += nr\n",
    "        \n",
    "    return total\n",
    "    "
   ]
  },
  {
   "cell_type": "code",
   "execution_count": 41,
   "id": "b2c1dd39",
   "metadata": {},
   "outputs": [
    {
     "name": "stdout",
     "output_type": "stream",
     "text": [
      "6\n",
      "21\n"
     ]
    }
   ],
   "source": [
    "print(add_all_numbers(1, 2, 3))\n",
    "print(add_all_numbers(1, 2, 3, 4, 5, 6))"
   ]
  },
  {
   "cell_type": "code",
   "execution_count": null,
   "id": "753af666",
   "metadata": {},
   "outputs": [],
   "source": []
  }
 ],
 "metadata": {
  "kernelspec": {
   "display_name": "Python 3 (ipykernel)",
   "language": "python",
   "name": "python3"
  },
  "language_info": {
   "codemirror_mode": {
    "name": "ipython",
    "version": 3
   },
   "file_extension": ".py",
   "mimetype": "text/x-python",
   "name": "python",
   "nbconvert_exporter": "python",
   "pygments_lexer": "ipython3",
   "version": "3.8.5"
  }
 },
 "nbformat": 4,
 "nbformat_minor": 5
}
