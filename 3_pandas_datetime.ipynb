{
 "cells": [
  {
   "cell_type": "markdown",
   "id": "466aa227",
   "metadata": {},
   "source": [
    "# Datetime"
   ]
  },
  {
   "cell_type": "code",
   "execution_count": 1,
   "id": "8d3a0d9b",
   "metadata": {},
   "outputs": [],
   "source": [
    "import datetime"
   ]
  },
  {
   "cell_type": "code",
   "execution_count": 2,
   "id": "0e8d9b3e",
   "metadata": {},
   "outputs": [],
   "source": [
    "D = datetime.date(2022, 9, 1)\n",
    "T = datetime.time(12,0,0) # noon\n",
    "DT= datetime.datetime(2022, 9, 1, 14, 32, 23)"
   ]
  },
  {
   "cell_type": "code",
   "execution_count": 3,
   "id": "10fb82e9",
   "metadata": {},
   "outputs": [
    {
     "name": "stdout",
     "output_type": "stream",
     "text": [
      "D: 2022-09-01\n",
      "T: 12:00:00\n",
      "DT: 2022-09-01 14:32:23\n"
     ]
    }
   ],
   "source": [
    "print('D:', D)\n",
    "print('T:', T)\n",
    "print('DT:', DT)"
   ]
  },
  {
   "cell_type": "code",
   "execution_count": 20,
   "id": "0a586c99",
   "metadata": {},
   "outputs": [
    {
     "name": "stdout",
     "output_type": "stream",
     "text": [
      "D: <class 'datetime.date'>\n",
      "T: <class 'datetime.time'>\n",
      "DT: <class 'datetime.datetime'>\n"
     ]
    }
   ],
   "source": [
    "print('D:', type(D))\n",
    "print('T:', type(T))\n",
    "print('DT:', type(DT))"
   ]
  },
  {
   "cell_type": "markdown",
   "id": "f4367fbd",
   "metadata": {},
   "source": [
    "To make things simple you can always use the `datetime()` function by giving only the date parts as inputs. Hour, minute, and second default to zero."
   ]
  },
  {
   "cell_type": "code",
   "execution_count": 5,
   "id": "6136d338",
   "metadata": {},
   "outputs": [
    {
     "name": "stdout",
     "output_type": "stream",
     "text": [
      "DT: 2022-09-01 00:00:00\n"
     ]
    }
   ],
   "source": [
    "DT = datetime.datetime(2022, 9, 1)\n",
    "print('DT:', DT)"
   ]
  },
  {
   "cell_type": "code",
   "execution_count": 21,
   "id": "fc7c3a89",
   "metadata": {},
   "outputs": [
    {
     "name": "stdout",
     "output_type": "stream",
     "text": [
      "2023\n",
      "10\n",
      "2\n",
      "8\n",
      "2\n",
      "38\n"
     ]
    }
   ],
   "source": [
    "# datetime objects have useful attributes\n",
    "DN = datetime.datetime.now()\n",
    "print(DN.year)\n",
    "print(DN.month)\n",
    "print(DN.day)\n",
    "print(DN.hour)\n",
    "print(DN.minute)\n",
    "print(DN.second)"
   ]
  },
  {
   "cell_type": "code",
   "execution_count": 22,
   "id": "852e6eab",
   "metadata": {},
   "outputs": [
    {
     "name": "stdout",
     "output_type": "stream",
     "text": [
      "0\n"
     ]
    }
   ],
   "source": [
    "print(DN.weekday()) # Starts counting at zero (Monday)"
   ]
  },
  {
   "cell_type": "code",
   "execution_count": 23,
   "id": "d71ed444",
   "metadata": {},
   "outputs": [
    {
     "name": "stdout",
     "output_type": "stream",
     "text": [
      "4678 days, 17:30:30.333914\n"
     ]
    }
   ],
   "source": [
    "# Math operations are meaningful with datetime objects\n",
    "D1 = datetime.datetime(2010, 12, 10, 14, 32, 23)\n",
    "DN = datetime.datetime.now()\n",
    "dt = DN - D1\n",
    "print(dt)"
   ]
  },
  {
   "cell_type": "code",
   "execution_count": 9,
   "id": "51f26931",
   "metadata": {},
   "outputs": [
    {
     "data": {
      "text/plain": [
       "datetime.timedelta"
      ]
     },
     "execution_count": 9,
     "metadata": {},
     "output_type": "execute_result"
    }
   ],
   "source": [
    "# Yields timedelta objects\n",
    "type(dt)"
   ]
  },
  {
   "cell_type": "code",
   "execution_count": 10,
   "id": "56cc18dd",
   "metadata": {},
   "outputs": [
    {
     "name": "stdout",
     "output_type": "stream",
     "text": [
      "4678\n"
     ]
    }
   ],
   "source": [
    "# How many days have passed?\n",
    "print(dt.days)"
   ]
  },
  {
   "cell_type": "code",
   "execution_count": 24,
   "id": "f59a2b3f",
   "metadata": {},
   "outputs": [],
   "source": [
    "import time # two useful methods: time.time() and time.sleep()"
   ]
  },
  {
   "cell_type": "code",
   "execution_count": 25,
   "id": "5af8966c",
   "metadata": {},
   "outputs": [
    {
     "name": "stdout",
     "output_type": "stream",
     "text": [
      "1696226610.6993809\n"
     ]
    }
   ],
   "source": [
    "# Returns current time in seconds since 1 January 1970\n",
    "print(time.time())"
   ]
  },
  {
   "cell_type": "code",
   "execution_count": 26,
   "id": "e92710b6",
   "metadata": {},
   "outputs": [
    {
     "name": "stdout",
     "output_type": "stream",
     "text": [
      "1696226611.1170502\n",
      "1696226613.1180778\n",
      "1696226615.1294537\n",
      "1696226617.1348093\n",
      "1696226619.1421416\n"
     ]
    }
   ],
   "source": [
    "n = 0\n",
    "\n",
    "while n < 5:\n",
    "    print(time.time())\n",
    "    time.sleep(2)\n",
    "    n += 1"
   ]
  },
  {
   "cell_type": "markdown",
   "id": "9d1189bb",
   "metadata": {},
   "source": [
    "## Pandas and datetime objects"
   ]
  },
  {
   "cell_type": "code",
   "execution_count": 27,
   "id": "c7839565",
   "metadata": {},
   "outputs": [],
   "source": [
    "import pandas as pd"
   ]
  },
  {
   "cell_type": "code",
   "execution_count": 28,
   "id": "bba71599",
   "metadata": {},
   "outputs": [],
   "source": [
    "# Create some data\n",
    "df = pd.DataFrame(\n",
    "    {\n",
    "        'year': [2022, 2022, 2021],\n",
    "        'month': [12, 11, 9],\n",
    "        'day': [15, 14, 9],\n",
    "        'hour': [23, 20, 6],\n",
    "        'data': ['a', 'b', 'b']\n",
    "    }\n",
    ")"
   ]
  },
  {
   "cell_type": "code",
   "execution_count": 29,
   "id": "85c024c2",
   "metadata": {},
   "outputs": [
    {
     "data": {
      "text/html": [
       "<div>\n",
       "<style scoped>\n",
       "    .dataframe tbody tr th:only-of-type {\n",
       "        vertical-align: middle;\n",
       "    }\n",
       "\n",
       "    .dataframe tbody tr th {\n",
       "        vertical-align: top;\n",
       "    }\n",
       "\n",
       "    .dataframe thead th {\n",
       "        text-align: right;\n",
       "    }\n",
       "</style>\n",
       "<table border=\"1\" class=\"dataframe\">\n",
       "  <thead>\n",
       "    <tr style=\"text-align: right;\">\n",
       "      <th></th>\n",
       "      <th>year</th>\n",
       "      <th>month</th>\n",
       "      <th>day</th>\n",
       "      <th>hour</th>\n",
       "      <th>data</th>\n",
       "    </tr>\n",
       "  </thead>\n",
       "  <tbody>\n",
       "    <tr>\n",
       "      <th>0</th>\n",
       "      <td>2022</td>\n",
       "      <td>12</td>\n",
       "      <td>15</td>\n",
       "      <td>23</td>\n",
       "      <td>a</td>\n",
       "    </tr>\n",
       "    <tr>\n",
       "      <th>1</th>\n",
       "      <td>2022</td>\n",
       "      <td>11</td>\n",
       "      <td>14</td>\n",
       "      <td>20</td>\n",
       "      <td>b</td>\n",
       "    </tr>\n",
       "    <tr>\n",
       "      <th>2</th>\n",
       "      <td>2021</td>\n",
       "      <td>9</td>\n",
       "      <td>9</td>\n",
       "      <td>6</td>\n",
       "      <td>b</td>\n",
       "    </tr>\n",
       "  </tbody>\n",
       "</table>\n",
       "</div>"
      ],
      "text/plain": [
       "   year  month  day  hour data\n",
       "0  2022     12   15    23    a\n",
       "1  2022     11   14    20    b\n",
       "2  2021      9    9     6    b"
      ]
     },
     "execution_count": 29,
     "metadata": {},
     "output_type": "execute_result"
    }
   ],
   "source": [
    "df"
   ]
  },
  {
   "cell_type": "code",
   "execution_count": 30,
   "id": "f0acb6a4",
   "metadata": {},
   "outputs": [],
   "source": [
    "df['date'] = pd.to_datetime(df[['year', 'month', 'day']])"
   ]
  },
  {
   "cell_type": "code",
   "execution_count": 31,
   "id": "1a6e4b89",
   "metadata": {},
   "outputs": [
    {
     "data": {
      "text/plain": [
       "0   2022-12-15\n",
       "1   2022-11-14\n",
       "2   2021-09-09\n",
       "Name: date, dtype: datetime64[ns]"
      ]
     },
     "execution_count": 31,
     "metadata": {},
     "output_type": "execute_result"
    }
   ],
   "source": [
    "df.date"
   ]
  },
  {
   "cell_type": "code",
   "execution_count": 32,
   "id": "41b11845",
   "metadata": {},
   "outputs": [
    {
     "data": {
      "text/plain": [
       "pandas._libs.tslibs.timestamps.Timestamp"
      ]
     },
     "execution_count": 32,
     "metadata": {},
     "output_type": "execute_result"
    }
   ],
   "source": [
    "# New col is a pandas timestamp\n",
    "type(df.date.iloc[0])"
   ]
  }
 ],
 "metadata": {
  "kernelspec": {
   "display_name": "Python 3 (ipykernel)",
   "language": "python",
   "name": "python3"
  },
  "language_info": {
   "codemirror_mode": {
    "name": "ipython",
    "version": 3
   },
   "file_extension": ".py",
   "mimetype": "text/x-python",
   "name": "python",
   "nbconvert_exporter": "python",
   "pygments_lexer": "ipython3",
   "version": "3.8.5"
  }
 },
 "nbformat": 4,
 "nbformat_minor": 5
}
