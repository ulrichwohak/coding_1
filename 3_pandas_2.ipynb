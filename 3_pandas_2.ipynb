{
 "cells": [
  {
   "cell_type": "markdown",
   "id": "5bc42fec",
   "metadata": {},
   "source": [
    "# Data manipulation\n",
    "\n",
    "Plan:\n",
    "- Add new variables\n",
    "- Separate based on a character\n",
    "- Convert variables to numeric\n",
    "- String manipulation\n",
    "- Rename variables\n",
    "- Filter observations\n",
    "- Sorting data"
   ]
  },
  {
   "cell_type": "code",
   "execution_count": 1,
   "id": "7c612e7b",
   "metadata": {},
   "outputs": [],
   "source": [
    "# Import libraries\n",
    "import pandas as pd\n",
    "import numpy as np"
   ]
  },
  {
   "cell_type": "code",
   "execution_count": 2,
   "id": "3418ee03",
   "metadata": {},
   "outputs": [],
   "source": [
    "raw_df = pd.read_csv(\"https://osf.io/yzntm/download\")\n",
    "# raw_df = pd.read_csv(\"hotel_vienna_restricted.csv\")"
   ]
  },
  {
   "cell_type": "code",
   "execution_count": 5,
   "id": "460df276",
   "metadata": {},
   "outputs": [
    {
     "data": {
      "text/html": [
       "<div>\n",
       "<style scoped>\n",
       "    .dataframe tbody tr th:only-of-type {\n",
       "        vertical-align: middle;\n",
       "    }\n",
       "\n",
       "    .dataframe tbody tr th {\n",
       "        vertical-align: top;\n",
       "    }\n",
       "\n",
       "    .dataframe thead th {\n",
       "        text-align: right;\n",
       "    }\n",
       "</style>\n",
       "<table border=\"1\" class=\"dataframe\">\n",
       "  <thead>\n",
       "    <tr style=\"text-align: right;\">\n",
       "      <th></th>\n",
       "      <th>addresscountryname</th>\n",
       "      <th>city_actual</th>\n",
       "      <th>rating_reviewcount</th>\n",
       "      <th>center1distance</th>\n",
       "      <th>center1label</th>\n",
       "      <th>center2distance</th>\n",
       "      <th>center2label</th>\n",
       "      <th>neighbourhood</th>\n",
       "      <th>price</th>\n",
       "      <th>price_night</th>\n",
       "      <th>...</th>\n",
       "      <th>accommodationtype</th>\n",
       "      <th>guestreviewsrating</th>\n",
       "      <th>scarce_room</th>\n",
       "      <th>hotel_id</th>\n",
       "      <th>offer</th>\n",
       "      <th>offer_cat</th>\n",
       "      <th>year</th>\n",
       "      <th>month</th>\n",
       "      <th>weekend</th>\n",
       "      <th>holiday</th>\n",
       "    </tr>\n",
       "  </thead>\n",
       "  <tbody>\n",
       "    <tr>\n",
       "      <th>0</th>\n",
       "      <td>Netherlands</td>\n",
       "      <td>Amsterdam</td>\n",
       "      <td>1030.0</td>\n",
       "      <td>3.1 miles</td>\n",
       "      <td>City centre</td>\n",
       "      <td>3.6 miles</td>\n",
       "      <td>Montelbaanstoren</td>\n",
       "      <td>Amsterdam</td>\n",
       "      <td>172</td>\n",
       "      <td>price for 1 night</td>\n",
       "      <td>...</td>\n",
       "      <td>_ACCOM_TYPE@Hotel</td>\n",
       "      <td>4.3 /5</td>\n",
       "      <td>0</td>\n",
       "      <td>1.0</td>\n",
       "      <td>0</td>\n",
       "      <td>0% no offer</td>\n",
       "      <td>2017</td>\n",
       "      <td>11</td>\n",
       "      <td>1</td>\n",
       "      <td>0</td>\n",
       "    </tr>\n",
       "    <tr>\n",
       "      <th>1</th>\n",
       "      <td>Netherlands</td>\n",
       "      <td>Amsterdam</td>\n",
       "      <td>1030.0</td>\n",
       "      <td>3.1 miles</td>\n",
       "      <td>City centre</td>\n",
       "      <td>3.6 miles</td>\n",
       "      <td>Montelbaanstoren</td>\n",
       "      <td>Amsterdam</td>\n",
       "      <td>122</td>\n",
       "      <td>price for 1 night</td>\n",
       "      <td>...</td>\n",
       "      <td>_ACCOM_TYPE@Hotel</td>\n",
       "      <td>4.3 /5</td>\n",
       "      <td>0</td>\n",
       "      <td>1.0</td>\n",
       "      <td>1</td>\n",
       "      <td>15-50% offer</td>\n",
       "      <td>2018</td>\n",
       "      <td>1</td>\n",
       "      <td>1</td>\n",
       "      <td>0</td>\n",
       "    </tr>\n",
       "    <tr>\n",
       "      <th>2</th>\n",
       "      <td>Netherlands</td>\n",
       "      <td>Amsterdam</td>\n",
       "      <td>1030.0</td>\n",
       "      <td>3.1 miles</td>\n",
       "      <td>City centre</td>\n",
       "      <td>3.6 miles</td>\n",
       "      <td>Montelbaanstoren</td>\n",
       "      <td>Amsterdam</td>\n",
       "      <td>122</td>\n",
       "      <td>price for 1 night</td>\n",
       "      <td>...</td>\n",
       "      <td>_ACCOM_TYPE@Hotel</td>\n",
       "      <td>4.3 /5</td>\n",
       "      <td>0</td>\n",
       "      <td>1.0</td>\n",
       "      <td>1</td>\n",
       "      <td>15-50% offer</td>\n",
       "      <td>2017</td>\n",
       "      <td>12</td>\n",
       "      <td>0</td>\n",
       "      <td>1</td>\n",
       "    </tr>\n",
       "    <tr>\n",
       "      <th>3</th>\n",
       "      <td>Netherlands</td>\n",
       "      <td>Amsterdam</td>\n",
       "      <td>1030.0</td>\n",
       "      <td>3.1 miles</td>\n",
       "      <td>City centre</td>\n",
       "      <td>3.6 miles</td>\n",
       "      <td>Montelbaanstoren</td>\n",
       "      <td>Amsterdam</td>\n",
       "      <td>552</td>\n",
       "      <td>price for 4 nights</td>\n",
       "      <td>...</td>\n",
       "      <td>_ACCOM_TYPE@Hotel</td>\n",
       "      <td>4.3 /5</td>\n",
       "      <td>0</td>\n",
       "      <td>1.0</td>\n",
       "      <td>1</td>\n",
       "      <td>1-15% offer</td>\n",
       "      <td>2017</td>\n",
       "      <td>12</td>\n",
       "      <td>0</td>\n",
       "      <td>1</td>\n",
       "    </tr>\n",
       "    <tr>\n",
       "      <th>4</th>\n",
       "      <td>Netherlands</td>\n",
       "      <td>Amsterdam</td>\n",
       "      <td>1030.0</td>\n",
       "      <td>3.1 miles</td>\n",
       "      <td>City centre</td>\n",
       "      <td>3.6 miles</td>\n",
       "      <td>Montelbaanstoren</td>\n",
       "      <td>Amsterdam</td>\n",
       "      <td>122</td>\n",
       "      <td>price for 1 night</td>\n",
       "      <td>...</td>\n",
       "      <td>_ACCOM_TYPE@Hotel</td>\n",
       "      <td>4.3 /5</td>\n",
       "      <td>0</td>\n",
       "      <td>1.0</td>\n",
       "      <td>1</td>\n",
       "      <td>15-50% offer</td>\n",
       "      <td>2018</td>\n",
       "      <td>2</td>\n",
       "      <td>1</td>\n",
       "      <td>0</td>\n",
       "    </tr>\n",
       "  </tbody>\n",
       "</table>\n",
       "<p>5 rows × 24 columns</p>\n",
       "</div>"
      ],
      "text/plain": [
       "  addresscountryname city_actual  rating_reviewcount center1distance   \n",
       "0        Netherlands   Amsterdam              1030.0       3.1 miles  \\\n",
       "1        Netherlands   Amsterdam              1030.0       3.1 miles   \n",
       "2        Netherlands   Amsterdam              1030.0       3.1 miles   \n",
       "3        Netherlands   Amsterdam              1030.0       3.1 miles   \n",
       "4        Netherlands   Amsterdam              1030.0       3.1 miles   \n",
       "\n",
       "  center1label center2distance      center2label neighbourhood  price   \n",
       "0  City centre       3.6 miles  Montelbaanstoren     Amsterdam    172  \\\n",
       "1  City centre       3.6 miles  Montelbaanstoren     Amsterdam    122   \n",
       "2  City centre       3.6 miles  Montelbaanstoren     Amsterdam    122   \n",
       "3  City centre       3.6 miles  Montelbaanstoren     Amsterdam    552   \n",
       "4  City centre       3.6 miles  Montelbaanstoren     Amsterdam    122   \n",
       "\n",
       "          price_night  ...  accommodationtype  guestreviewsrating   \n",
       "0   price for 1 night  ...  _ACCOM_TYPE@Hotel              4.3 /5  \\\n",
       "1   price for 1 night  ...  _ACCOM_TYPE@Hotel              4.3 /5   \n",
       "2   price for 1 night  ...  _ACCOM_TYPE@Hotel              4.3 /5   \n",
       "3  price for 4 nights  ...  _ACCOM_TYPE@Hotel              4.3 /5   \n",
       "4   price for 1 night  ...  _ACCOM_TYPE@Hotel              4.3 /5   \n",
       "\n",
       "   scarce_room  hotel_id offer     offer_cat  year  month  weekend holiday  \n",
       "0            0       1.0     0   0% no offer  2017     11        1       0  \n",
       "1            0       1.0     1  15-50% offer  2018      1        1       0  \n",
       "2            0       1.0     1  15-50% offer  2017     12        0       1  \n",
       "3            0       1.0     1   1-15% offer  2017     12        0       1  \n",
       "4            0       1.0     1  15-50% offer  2018      2        1       0  \n",
       "\n",
       "[5 rows x 24 columns]"
      ]
     },
     "execution_count": 5,
     "metadata": {},
     "output_type": "execute_result"
    }
   ],
   "source": [
    "raw_df.head()"
   ]
  },
  {
   "cell_type": "code",
   "execution_count": 8,
   "id": "cb6b991f",
   "metadata": {},
   "outputs": [
    {
     "data": {
      "text/plain": [
       "(149966, 24)"
      ]
     },
     "execution_count": 8,
     "metadata": {},
     "output_type": "execute_result"
    }
   ],
   "source": [
    "raw_df.shape"
   ]
  },
  {
   "cell_type": "code",
   "execution_count": 10,
   "id": "804d1235",
   "metadata": {},
   "outputs": [
    {
     "data": {
      "text/plain": [
       "Index(['addresscountryname', 'city_actual', 'rating_reviewcount',\n",
       "       'center1distance', 'center1label', 'center2distance', 'center2label',\n",
       "       'neighbourhood', 'price', 'price_night', 's_city', 'starrating',\n",
       "       'rating2_ta', 'rating2_ta_reviewcount', 'accommodationtype',\n",
       "       'guestreviewsrating', 'scarce_room', 'hotel_id', 'offer', 'offer_cat',\n",
       "       'year', 'month', 'weekend', 'holiday'],\n",
       "      dtype='object')"
      ]
     },
     "execution_count": 10,
     "metadata": {},
     "output_type": "execute_result"
    }
   ],
   "source": [
    "raw_df.columns"
   ]
  },
  {
   "cell_type": "code",
   "execution_count": 11,
   "id": "d5fed3e7",
   "metadata": {},
   "outputs": [
    {
     "data": {
      "text/plain": [
       "0         1\n",
       "1         1\n",
       "2         1\n",
       "3         1\n",
       "4         1\n",
       "         ..\n",
       "149961    1\n",
       "149962    1\n",
       "149963    1\n",
       "149964    1\n",
       "149965    1\n",
       "Name: nnights, Length: 149966, dtype: int64"
      ]
     },
     "execution_count": 11,
     "metadata": {},
     "output_type": "execute_result"
    }
   ],
   "source": [
    "# Goal: find number of nights per accomodation type\n",
    "# Create a new variable equal to 1 for each observation\n",
    "raw_df[\"nnights\"] = 1\n",
    "raw_df.nnights"
   ]
  },
  {
   "cell_type": "code",
   "execution_count": 12,
   "id": "d14c1182",
   "metadata": {},
   "outputs": [],
   "source": [
    "# Second option of creating new varible; also assign to new object \"df\"\n",
    "df = raw_df.assign(nnights=1)"
   ]
  },
  {
   "cell_type": "code",
   "execution_count": 14,
   "id": "d6f2562b",
   "metadata": {},
   "outputs": [],
   "source": [
    "# We don't need raw_df anymore; delete\n",
    "del raw_df"
   ]
  },
  {
   "cell_type": "code",
   "execution_count": 17,
   "id": "31ec80dd",
   "metadata": {},
   "outputs": [
    {
     "data": {
      "text/plain": [
       "0         _ACCOM_TYPE@Hotel\n",
       "1         _ACCOM_TYPE@Hotel\n",
       "2         _ACCOM_TYPE@Hotel\n",
       "3         _ACCOM_TYPE@Hotel\n",
       "4         _ACCOM_TYPE@Hotel\n",
       "                ...        \n",
       "149961    _ACCOM_TYPE@Hotel\n",
       "149962    _ACCOM_TYPE@Hotel\n",
       "149963    _ACCOM_TYPE@Hotel\n",
       "149964    _ACCOM_TYPE@Hotel\n",
       "149965    _ACCOM_TYPE@Hotel\n",
       "Name: accommodationtype, Length: 149966, dtype: object"
      ]
     },
     "execution_count": 17,
     "metadata": {},
     "output_type": "execute_result"
    }
   ],
   "source": [
    "# Looking at accomodationtype variable: seems dirty. let's clean it.\n",
    "df.accommodationtype"
   ]
  },
  {
   "cell_type": "code",
   "execution_count": 18,
   "id": "b27a718d",
   "metadata": {},
   "outputs": [
    {
     "data": {
      "text/plain": [
       "0         [_ACCOM_TYPE, Hotel]\n",
       "1         [_ACCOM_TYPE, Hotel]\n",
       "2         [_ACCOM_TYPE, Hotel]\n",
       "3         [_ACCOM_TYPE, Hotel]\n",
       "4         [_ACCOM_TYPE, Hotel]\n",
       "                  ...         \n",
       "149961    [_ACCOM_TYPE, Hotel]\n",
       "149962    [_ACCOM_TYPE, Hotel]\n",
       "149963    [_ACCOM_TYPE, Hotel]\n",
       "149964    [_ACCOM_TYPE, Hotel]\n",
       "149965    [_ACCOM_TYPE, Hotel]\n",
       "Name: accommodationtype, Length: 149966, dtype: object"
      ]
     },
     "execution_count": 18,
     "metadata": {},
     "output_type": "execute_result"
    }
   ],
   "source": [
    "# We want to split strings at @ sign\n",
    "df.accommodationtype.str.split(\"@\")"
   ]
  },
  {
   "cell_type": "code",
   "execution_count": 19,
   "id": "3b0b631d",
   "metadata": {},
   "outputs": [
    {
     "data": {
      "text/plain": [
       "0         Hotel\n",
       "1         Hotel\n",
       "2         Hotel\n",
       "3         Hotel\n",
       "4         Hotel\n",
       "          ...  \n",
       "149961    Hotel\n",
       "149962    Hotel\n",
       "149963    Hotel\n",
       "149964    Hotel\n",
       "149965    Hotel\n",
       "Name: accommodationtype, Length: 149966, dtype: object"
      ]
     },
     "execution_count": 19,
     "metadata": {},
     "output_type": "execute_result"
    }
   ],
   "source": [
    "# Grab the second element in each observation\n",
    "df.accommodationtype.str.split(\"@\").str[1]"
   ]
  },
  {
   "cell_type": "code",
   "execution_count": 22,
   "id": "f9f17c3a",
   "metadata": {},
   "outputs": [],
   "source": [
    "# Now we want to assign it to our df\n",
    "df[\"acc_type\"] = df.accommodationtype.str.split(\"@\").str[1]"
   ]
  },
  {
   "cell_type": "code",
   "execution_count": 23,
   "id": "cfb851b4",
   "metadata": {},
   "outputs": [
    {
     "data": {
      "text/plain": [
       "acc_type\n",
       "Hotel                  102234\n",
       "Apartment               17113\n",
       "Guest House             10080\n",
       "Bed and breakfast        6395\n",
       "Hostel                   6232\n",
       "Apart-hotel              3693\n",
       "Vacation home Condo      1576\n",
       "Pension                  1085\n",
       "Inn                      1020\n",
       "Country House              89\n",
       "Palace                     68\n",
       "                           65\n",
       "Villa                      64\n",
       "Resort                     60\n",
       "Caravan Park               60\n",
       "House boat                 31\n",
       "Pousada                    28\n",
       "Motel                      25\n",
       "Cabin / Lodge              14\n",
       "Cottage                    13\n",
       "Chalet                     11\n",
       "Castle                      5\n",
       "All inclusive               5\n",
       "Name: count, dtype: int64"
      ]
     },
     "execution_count": 23,
     "metadata": {},
     "output_type": "execute_result"
    }
   ],
   "source": [
    "# Finally we can check nr of nights per acc type\n",
    "df[\"acc_type\"].value_counts()"
   ]
  },
  {
   "cell_type": "code",
   "execution_count": 26,
   "id": "2aad5f98",
   "metadata": {},
   "outputs": [],
   "source": [
    "# Replace the missing category with something meaningful\n",
    "df.acc_type.replace(\"Bed and breakfast\", \"BnB\", inplace=True)"
   ]
  },
  {
   "cell_type": "code",
   "execution_count": 27,
   "id": "464f2ee4",
   "metadata": {},
   "outputs": [
    {
     "data": {
      "text/plain": [
       "acc_type\n",
       "Hotel                  102234\n",
       "Apartment               17113\n",
       "Guest House             10080\n",
       "BnB                      6395\n",
       "Hostel                   6232\n",
       "Apart-hotel              3693\n",
       "Vacation home Condo      1576\n",
       "Pension                  1085\n",
       "Inn                      1020\n",
       "Country House              89\n",
       "Palace                     68\n",
       "Unknown                    65\n",
       "Villa                      64\n",
       "Resort                     60\n",
       "Caravan Park               60\n",
       "House boat                 31\n",
       "Pousada                    28\n",
       "Motel                      25\n",
       "Cabin / Lodge              14\n",
       "Cottage                    13\n",
       "Chalet                     11\n",
       "Castle                      5\n",
       "All inclusive               5\n",
       "Name: count, dtype: int64"
      ]
     },
     "execution_count": 27,
     "metadata": {},
     "output_type": "execute_result"
    }
   ],
   "source": [
    "df.acc_type.value_counts()"
   ]
  },
  {
   "cell_type": "markdown",
   "id": "5d730c96",
   "metadata": {},
   "source": [
    "### Convert string to numeric columns\n",
    "- Correct *guestreviewsrating*\n",
    "- Check w the `dtypes` property\n",
    "- Convert to numeric"
   ]
  },
  {
   "cell_type": "code",
   "execution_count": 28,
   "id": "4c112a91",
   "metadata": {},
   "outputs": [
    {
     "data": {
      "text/plain": [
       "0    4.3 /5\n",
       "1    4.3 /5\n",
       "2    4.3 /5\n",
       "3    4.3 /5\n",
       "4    4.3 /5\n",
       "Name: guestreviewsrating, dtype: object"
      ]
     },
     "execution_count": 28,
     "metadata": {},
     "output_type": "execute_result"
    }
   ],
   "source": [
    "# Let's check out the variable\n",
    "df.guestreviewsrating.head()"
   ]
  },
  {
   "cell_type": "code",
   "execution_count": 30,
   "id": "4ad949fb",
   "metadata": {},
   "outputs": [
    {
     "data": {
      "text/plain": [
       "guestreviewsrating\n",
       "1.1 /5       10\n",
       "1.3 /5       41\n",
       "1.2 /5       48\n",
       "1.6 /5       54\n",
       "1.5 /5       91\n",
       "1.8 /5      112\n",
       "1.7 /5      143\n",
       "2.4 /5      472\n",
       "1 /5        679\n",
       "2.2 /5      976\n",
       "2 /5        976\n",
       "4.9 /5     1157\n",
       "2.9 /5     1213\n",
       "2.5 /5     1557\n",
       "2.7 /5     2337\n",
       "5 /5       2646\n",
       "4.8 /5     3095\n",
       "3.4 /5     3727\n",
       "4.6 /5     4417\n",
       "3 /5       4838\n",
       "3.2 /5     6112\n",
       "3.9 /5     8853\n",
       "4.4 /5     9079\n",
       "3.5 /5    11145\n",
       "4.1 /5    11190\n",
       "4.3 /5    11268\n",
       "4.5 /5    14952\n",
       "3.7 /5    15031\n",
       "4 /5      23160\n",
       "Name: count, dtype: int64"
      ]
     },
     "execution_count": 30,
     "metadata": {},
     "output_type": "execute_result"
    }
   ],
   "source": [
    "df.guestreviewsrating.value_counts(ascending=True)"
   ]
  },
  {
   "cell_type": "code",
   "execution_count": 34,
   "id": "3aa523a2",
   "metadata": {},
   "outputs": [],
   "source": [
    "# Clear structure: separate at /\n",
    "df[\"ratings\"] = df[\"guestreviewsrating\"].str.split(\"/\").str[0].str.strip()"
   ]
  },
  {
   "cell_type": "code",
   "execution_count": 32,
   "id": "c15a7272",
   "metadata": {},
   "outputs": [
    {
     "data": {
      "text/plain": [
       "0    4.3\n",
       "1    4.3\n",
       "2    4.3\n",
       "3    4.3\n",
       "4    4.3\n",
       "Name: ratings, dtype: object"
      ]
     },
     "execution_count": 32,
     "metadata": {},
     "output_type": "execute_result"
    }
   ],
   "source": [
    "df.ratings.head()"
   ]
  },
  {
   "cell_type": "code",
   "execution_count": 33,
   "id": "879d239b",
   "metadata": {},
   "outputs": [
    {
     "data": {
      "text/plain": [
       "dtype('O')"
      ]
     },
     "execution_count": 33,
     "metadata": {},
     "output_type": "execute_result"
    }
   ],
   "source": [
    "# Whats' the data type of our newly created column?\n",
    "df.ratings.dtype"
   ]
  },
  {
   "cell_type": "code",
   "execution_count": 39,
   "id": "1784792c",
   "metadata": {},
   "outputs": [],
   "source": [
    "# Not good. It's not numeric.\n",
    "# Let's convert to some numeric data format.\n",
    "df[\"ratings\"] = df[\"ratings\"].astype(float)"
   ]
  },
  {
   "cell_type": "code",
   "execution_count": 40,
   "id": "bb06b1d7",
   "metadata": {},
   "outputs": [
    {
     "data": {
      "text/plain": [
       "dtype('float64')"
      ]
     },
     "execution_count": 40,
     "metadata": {},
     "output_type": "execute_result"
    }
   ],
   "source": [
    "df.ratings.dtype"
   ]
  },
  {
   "cell_type": "code",
   "execution_count": 41,
   "id": "96c6a4ac",
   "metadata": {},
   "outputs": [
    {
     "data": {
      "text/plain": [
       "3.9072614956342058"
      ]
     },
     "execution_count": 41,
     "metadata": {},
     "output_type": "execute_result"
    }
   ],
   "source": [
    "df.ratings.mean()"
   ]
  },
  {
   "cell_type": "code",
   "execution_count": 42,
   "id": "8b3b3f79",
   "metadata": {},
   "outputs": [
    {
     "data": {
      "text/plain": [
       "<AxesSubplot:>"
      ]
     },
     "execution_count": 42,
     "metadata": {},
     "output_type": "execute_result"
    },
    {
     "data": {
      "image/png": "[encoded data removed]",
      "text/plain": [
       "<Figure size 432x288 with 1 Axes>"
      ]
     },
     "metadata": {
      "needs_background": "light"
     },
     "output_type": "display_data"
    }
   ],
   "source": [
    "df.ratings.hist()"
   ]
  },
  {
   "cell_type": "markdown",
   "id": "4f6c0b8c",
   "metadata": {},
   "source": [
    "## Task:\n",
    "Create numeric variables for `center1distance` and `center2distance`."
   ]
  },
  {
   "cell_type": "code",
   "execution_count": 44,
   "id": "a8d4d343",
   "metadata": {},
   "outputs": [
    {
     "data": {
      "text/plain": [
       "0    3.1 miles\n",
       "1    3.1 miles\n",
       "2    3.1 miles\n",
       "3    3.1 miles\n",
       "4    3.1 miles\n",
       "Name: center1distance, dtype: object"
      ]
     },
     "execution_count": 44,
     "metadata": {},
     "output_type": "execute_result"
    }
   ],
   "source": [
    "df[\"center1distance\"].head() # Maybe good idea to separate at whitespace \" \"."
   ]
  },
  {
   "cell_type": "code",
   "execution_count": 45,
   "id": "99d980ab",
   "metadata": {},
   "outputs": [
    {
     "data": {
      "text/plain": [
       "0         [3.1, miles]\n",
       "1         [3.1, miles]\n",
       "2         [3.1, miles]\n",
       "3         [3.1, miles]\n",
       "4         [3.1, miles]\n",
       "              ...     \n",
       "149961    [1.1, miles]\n",
       "149962    [1.1, miles]\n",
       "149963    [1.1, miles]\n",
       "149964    [1.1, miles]\n",
       "149965    [1.1, miles]\n",
       "Name: center1distance, Length: 149966, dtype: object"
      ]
     },
     "execution_count": 45,
     "metadata": {},
     "output_type": "execute_result"
    }
   ],
   "source": [
    "df[\"center1distance\"].str.split(\" \")"
   ]
  },
  {
   "cell_type": "code",
   "execution_count": 48,
   "id": "28e313f1",
   "metadata": {},
   "outputs": [],
   "source": [
    "df[\"distance_miles\"] = df[\"center1distance\"].str.split(\" \").str[0].astype(float)"
   ]
  },
  {
   "cell_type": "code",
   "execution_count": 49,
   "id": "27bdd9a6",
   "metadata": {},
   "outputs": [
    {
     "data": {
      "text/plain": [
       "0         3.1\n",
       "1         3.1\n",
       "2         3.1\n",
       "3         3.1\n",
       "4         3.1\n",
       "         ... \n",
       "149961    1.1\n",
       "149962    1.1\n",
       "149963    1.1\n",
       "149964    1.1\n",
       "149965    1.1\n",
       "Name: distance_miles, Length: 149966, dtype: float64"
      ]
     },
     "execution_count": 49,
     "metadata": {},
     "output_type": "execute_result"
    }
   ],
   "source": [
    "df.distance_miles"
   ]
  },
  {
   "cell_type": "code",
   "execution_count": 50,
   "id": "057c4a30",
   "metadata": {},
   "outputs": [
    {
     "data": {
      "text/plain": [
       "2.839012176093248"
      ]
     },
     "execution_count": 50,
     "metadata": {},
     "output_type": "execute_result"
    }
   ],
   "source": [
    "df.distance_miles.mean()"
   ]
  },
  {
   "cell_type": "code",
   "execution_count": 52,
   "id": "30df1f13",
   "metadata": {},
   "outputs": [
    {
     "data": {
      "text/plain": [
       "<AxesSubplot:>"
      ]
     },
     "execution_count": 52,
     "metadata": {},
     "output_type": "execute_result"
    },
    {
     "data": {
      "image/png": "[encoded data removed]",
      "text/plain": [
       "<Figure size 432x288 with 1 Axes>"
      ]
     },
     "metadata": {
      "needs_background": "light"
     },
     "output_type": "display_data"
    }
   ],
   "source": [
    "df.distance_miles.hist(bins=20)"
   ]
  },
  {
   "cell_type": "code",
   "execution_count": 53,
   "id": "79090f53",
   "metadata": {},
   "outputs": [
    {
     "data": {
      "text/plain": [
       "Index(['addresscountryname', 'city_actual', 'rating_reviewcount',\n",
       "       'center1distance', 'center1label', 'center2distance', 'center2label',\n",
       "       'neighbourhood', 'price', 'price_night', 's_city', 'starrating',\n",
       "       'rating2_ta', 'rating2_ta_reviewcount', 'accommodationtype',\n",
       "       'guestreviewsrating', 'scarce_room', 'hotel_id', 'offer', 'offer_cat',\n",
       "       'year', 'month', 'weekend', 'holiday', 'nnights', 'acc_type', 'ratings',\n",
       "       'distance_miles'],\n",
       "      dtype='object')"
      ]
     },
     "execution_count": 53,
     "metadata": {},
     "output_type": "execute_result"
    }
   ],
   "source": [
    "df.columns"
   ]
  },
  {
   "cell_type": "code",
   "execution_count": 54,
   "id": "2e4186d0",
   "metadata": {},
   "outputs": [
    {
     "data": {
      "text/html": [
       "<div>\n",
       "<style scoped>\n",
       "    .dataframe tbody tr th:only-of-type {\n",
       "        vertical-align: middle;\n",
       "    }\n",
       "\n",
       "    .dataframe tbody tr th {\n",
       "        vertical-align: top;\n",
       "    }\n",
       "\n",
       "    .dataframe thead th {\n",
       "        text-align: right;\n",
       "    }\n",
       "</style>\n",
       "<table border=\"1\" class=\"dataframe\">\n",
       "  <thead>\n",
       "    <tr style=\"text-align: right;\">\n",
       "      <th></th>\n",
       "      <th>rating_reviewcount</th>\n",
       "      <th>starrating</th>\n",
       "      <th>rating2_ta</th>\n",
       "      <th>rating2_ta_reviewcount</th>\n",
       "      <th>guestreviewsrating</th>\n",
       "      <th>ratings</th>\n",
       "    </tr>\n",
       "  </thead>\n",
       "  <tbody>\n",
       "    <tr>\n",
       "      <th>0</th>\n",
       "      <td>1030.0</td>\n",
       "      <td>4.0</td>\n",
       "      <td>4.0</td>\n",
       "      <td>1115.0</td>\n",
       "      <td>4.3 /5</td>\n",
       "      <td>4.3</td>\n",
       "    </tr>\n",
       "    <tr>\n",
       "      <th>1</th>\n",
       "      <td>1030.0</td>\n",
       "      <td>4.0</td>\n",
       "      <td>4.0</td>\n",
       "      <td>1115.0</td>\n",
       "      <td>4.3 /5</td>\n",
       "      <td>4.3</td>\n",
       "    </tr>\n",
       "    <tr>\n",
       "      <th>2</th>\n",
       "      <td>1030.0</td>\n",
       "      <td>4.0</td>\n",
       "      <td>4.0</td>\n",
       "      <td>1115.0</td>\n",
       "      <td>4.3 /5</td>\n",
       "      <td>4.3</td>\n",
       "    </tr>\n",
       "    <tr>\n",
       "      <th>3</th>\n",
       "      <td>1030.0</td>\n",
       "      <td>4.0</td>\n",
       "      <td>4.0</td>\n",
       "      <td>1115.0</td>\n",
       "      <td>4.3 /5</td>\n",
       "      <td>4.3</td>\n",
       "    </tr>\n",
       "    <tr>\n",
       "      <th>4</th>\n",
       "      <td>1030.0</td>\n",
       "      <td>4.0</td>\n",
       "      <td>4.0</td>\n",
       "      <td>1115.0</td>\n",
       "      <td>4.3 /5</td>\n",
       "      <td>4.3</td>\n",
       "    </tr>\n",
       "    <tr>\n",
       "      <th>...</th>\n",
       "      <td>...</td>\n",
       "      <td>...</td>\n",
       "      <td>...</td>\n",
       "      <td>...</td>\n",
       "      <td>...</td>\n",
       "      <td>...</td>\n",
       "    </tr>\n",
       "    <tr>\n",
       "      <th>149961</th>\n",
       "      <td>48.0</td>\n",
       "      <td>4.0</td>\n",
       "      <td>4.5</td>\n",
       "      <td>86.0</td>\n",
       "      <td>4.5 /5</td>\n",
       "      <td>4.5</td>\n",
       "    </tr>\n",
       "    <tr>\n",
       "      <th>149962</th>\n",
       "      <td>48.0</td>\n",
       "      <td>4.0</td>\n",
       "      <td>4.5</td>\n",
       "      <td>86.0</td>\n",
       "      <td>4.5 /5</td>\n",
       "      <td>4.5</td>\n",
       "    </tr>\n",
       "    <tr>\n",
       "      <th>149963</th>\n",
       "      <td>48.0</td>\n",
       "      <td>4.0</td>\n",
       "      <td>4.5</td>\n",
       "      <td>86.0</td>\n",
       "      <td>4.5 /5</td>\n",
       "      <td>4.5</td>\n",
       "    </tr>\n",
       "    <tr>\n",
       "      <th>149964</th>\n",
       "      <td>48.0</td>\n",
       "      <td>4.0</td>\n",
       "      <td>4.5</td>\n",
       "      <td>86.0</td>\n",
       "      <td>4.5 /5</td>\n",
       "      <td>4.5</td>\n",
       "    </tr>\n",
       "    <tr>\n",
       "      <th>149965</th>\n",
       "      <td>48.0</td>\n",
       "      <td>4.0</td>\n",
       "      <td>4.5</td>\n",
       "      <td>86.0</td>\n",
       "      <td>4.5 /5</td>\n",
       "      <td>4.5</td>\n",
       "    </tr>\n",
       "  </tbody>\n",
       "</table>\n",
       "<p>149966 rows × 6 columns</p>\n",
       "</div>"
      ],
      "text/plain": [
       "        rating_reviewcount  starrating  rating2_ta  rating2_ta_reviewcount   \n",
       "0                   1030.0         4.0         4.0                  1115.0  \\\n",
       "1                   1030.0         4.0         4.0                  1115.0   \n",
       "2                   1030.0         4.0         4.0                  1115.0   \n",
       "3                   1030.0         4.0         4.0                  1115.0   \n",
       "4                   1030.0         4.0         4.0                  1115.0   \n",
       "...                    ...         ...         ...                     ...   \n",
       "149961                48.0         4.0         4.5                    86.0   \n",
       "149962                48.0         4.0         4.5                    86.0   \n",
       "149963                48.0         4.0         4.5                    86.0   \n",
       "149964                48.0         4.0         4.5                    86.0   \n",
       "149965                48.0         4.0         4.5                    86.0   \n",
       "\n",
       "       guestreviewsrating  ratings  \n",
       "0                  4.3 /5      4.3  \n",
       "1                  4.3 /5      4.3  \n",
       "2                  4.3 /5      4.3  \n",
       "3                  4.3 /5      4.3  \n",
       "4                  4.3 /5      4.3  \n",
       "...                   ...      ...  \n",
       "149961             4.5 /5      4.5  \n",
       "149962             4.5 /5      4.5  \n",
       "149963             4.5 /5      4.5  \n",
       "149964             4.5 /5      4.5  \n",
       "149965             4.5 /5      4.5  \n",
       "\n",
       "[149966 rows x 6 columns]"
      ]
     },
     "execution_count": 54,
     "metadata": {},
     "output_type": "execute_result"
    }
   ],
   "source": [
    "# Check out all the ratings variables\n",
    "# using the filter()\n",
    "df.filter(regex='rating')"
   ]
  },
  {
   "cell_type": "code",
   "execution_count": 55,
   "id": "bba393ee",
   "metadata": {},
   "outputs": [],
   "source": [
    "# Let's rename a few of those\n",
    "df.rename(columns={'rating_reviewcount': 'rating_count',\n",
    "                  'rating2_ta': 'ratingta'}, inplace=True)"
   ]
  },
  {
   "cell_type": "code",
   "execution_count": 56,
   "id": "499fe862",
   "metadata": {},
   "outputs": [
    {
     "data": {
      "text/plain": [
       "Index(['addresscountryname', 'city_actual', 'rating_count', 'center1distance',\n",
       "       'center1label', 'center2distance', 'center2label', 'neighbourhood',\n",
       "       'price', 'price_night', 's_city', 'starrating', 'ratingta',\n",
       "       'rating2_ta_reviewcount', 'accommodationtype', 'guestreviewsrating',\n",
       "       'scarce_room', 'hotel_id', 'offer', 'offer_cat', 'year', 'month',\n",
       "       'weekend', 'holiday', 'nnights', 'acc_type', 'ratings',\n",
       "       'distance_miles'],\n",
       "      dtype='object')"
      ]
     },
     "execution_count": 56,
     "metadata": {},
     "output_type": "execute_result"
    }
   ],
   "source": [
    "# equivalently\n",
    "df = df.rename(columns={'rating_reviewcount': 'rating_count',\n",
    "                  'rating2_ta': 'ratingta'})"
   ]
  },
  {
   "cell_type": "code",
   "execution_count": null,
   "id": "78d5e6a3",
   "metadata": {},
   "outputs": [],
   "source": []
  }
 ],
 "metadata": {
  "kernelspec": {
   "display_name": "Python 3 (ipykernel)",
   "language": "python",
   "name": "python3"
  },
  "language_info": {
   "codemirror_mode": {
    "name": "ipython",
    "version": 3
   },
   "file_extension": ".py",
   "mimetype": "text/x-python",
   "name": "python",
   "nbconvert_exporter": "python",
   "pygments_lexer": "ipython3",
   "version": "3.8.5"
  }
 },
 "nbformat": 4,
 "nbformat_minor": 5
}
