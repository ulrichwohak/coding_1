{
 "cells": [
  {
   "cell_type": "markdown",
   "id": "5bc42fec",
   "metadata": {},
   "source": [
    "# Data manipulation\n",
    "\n",
    "Plan:\n",
    "- Add new variables\n",
    "- Separate based on a character\n",
    "- Convert variables to numeric\n",
    "- String manipulation\n",
    "- Rename variables\n",
    "- Filter observations\n",
    "- Sorting data"
   ]
  },
  {
   "cell_type": "code",
   "execution_count": 1,
   "id": "7c612e7b",
   "metadata": {},
   "outputs": [],
   "source": [
    "# Import libraries\n",
    "import pandas as pd\n",
    "import numpy as np"
   ]
  },
  {
   "cell_type": "code",
   "execution_count": 2,
   "id": "3418ee03",
   "metadata": {},
   "outputs": [],
   "source": [
    "raw_df = pd.read_csv(\"https://osf.io/yzntm/download\")\n",
    "# raw_df = pd.read_csv(\"hotel_vienna_restricted.csv\")"
   ]
  },
  {
   "cell_type": "code",
   "execution_count": 3,
   "id": "460df276",
   "metadata": {},
   "outputs": [
    {
     "data": {
      "text/html": [
       "<div>\n",
       "<style scoped>\n",
       "    .dataframe tbody tr th:only-of-type {\n",
       "        vertical-align: middle;\n",
       "    }\n",
       "\n",
       "    .dataframe tbody tr th {\n",
       "        vertical-align: top;\n",
       "    }\n",
       "\n",
       "    .dataframe thead th {\n",
       "        text-align: right;\n",
       "    }\n",
       "</style>\n",
       "<table border=\"1\" class=\"dataframe\">\n",
       "  <thead>\n",
       "    <tr style=\"text-align: right;\">\n",
       "      <th></th>\n",
       "      <th>addresscountryname</th>\n",
       "      <th>city_actual</th>\n",
       "      <th>rating_reviewcount</th>\n",
       "      <th>center1distance</th>\n",
       "      <th>center1label</th>\n",
       "      <th>center2distance</th>\n",
       "      <th>center2label</th>\n",
       "      <th>neighbourhood</th>\n",
       "      <th>price</th>\n",
       "      <th>price_night</th>\n",
       "      <th>...</th>\n",
       "      <th>accommodationtype</th>\n",
       "      <th>guestreviewsrating</th>\n",
       "      <th>scarce_room</th>\n",
       "      <th>hotel_id</th>\n",
       "      <th>offer</th>\n",
       "      <th>offer_cat</th>\n",
       "      <th>year</th>\n",
       "      <th>month</th>\n",
       "      <th>weekend</th>\n",
       "      <th>holiday</th>\n",
       "    </tr>\n",
       "  </thead>\n",
       "  <tbody>\n",
       "    <tr>\n",
       "      <th>0</th>\n",
       "      <td>Netherlands</td>\n",
       "      <td>Amsterdam</td>\n",
       "      <td>1030.0</td>\n",
       "      <td>3.1 miles</td>\n",
       "      <td>City centre</td>\n",
       "      <td>3.6 miles</td>\n",
       "      <td>Montelbaanstoren</td>\n",
       "      <td>Amsterdam</td>\n",
       "      <td>172</td>\n",
       "      <td>price for 1 night</td>\n",
       "      <td>...</td>\n",
       "      <td>_ACCOM_TYPE@Hotel</td>\n",
       "      <td>4.3 /5</td>\n",
       "      <td>0</td>\n",
       "      <td>1.0</td>\n",
       "      <td>0</td>\n",
       "      <td>0% no offer</td>\n",
       "      <td>2017</td>\n",
       "      <td>11</td>\n",
       "      <td>1</td>\n",
       "      <td>0</td>\n",
       "    </tr>\n",
       "    <tr>\n",
       "      <th>1</th>\n",
       "      <td>Netherlands</td>\n",
       "      <td>Amsterdam</td>\n",
       "      <td>1030.0</td>\n",
       "      <td>3.1 miles</td>\n",
       "      <td>City centre</td>\n",
       "      <td>3.6 miles</td>\n",
       "      <td>Montelbaanstoren</td>\n",
       "      <td>Amsterdam</td>\n",
       "      <td>122</td>\n",
       "      <td>price for 1 night</td>\n",
       "      <td>...</td>\n",
       "      <td>_ACCOM_TYPE@Hotel</td>\n",
       "      <td>4.3 /5</td>\n",
       "      <td>0</td>\n",
       "      <td>1.0</td>\n",
       "      <td>1</td>\n",
       "      <td>15-50% offer</td>\n",
       "      <td>2018</td>\n",
       "      <td>1</td>\n",
       "      <td>1</td>\n",
       "      <td>0</td>\n",
       "    </tr>\n",
       "    <tr>\n",
       "      <th>2</th>\n",
       "      <td>Netherlands</td>\n",
       "      <td>Amsterdam</td>\n",
       "      <td>1030.0</td>\n",
       "      <td>3.1 miles</td>\n",
       "      <td>City centre</td>\n",
       "      <td>3.6 miles</td>\n",
       "      <td>Montelbaanstoren</td>\n",
       "      <td>Amsterdam</td>\n",
       "      <td>122</td>\n",
       "      <td>price for 1 night</td>\n",
       "      <td>...</td>\n",
       "      <td>_ACCOM_TYPE@Hotel</td>\n",
       "      <td>4.3 /5</td>\n",
       "      <td>0</td>\n",
       "      <td>1.0</td>\n",
       "      <td>1</td>\n",
       "      <td>15-50% offer</td>\n",
       "      <td>2017</td>\n",
       "      <td>12</td>\n",
       "      <td>0</td>\n",
       "      <td>1</td>\n",
       "    </tr>\n",
       "    <tr>\n",
       "      <th>3</th>\n",
       "      <td>Netherlands</td>\n",
       "      <td>Amsterdam</td>\n",
       "      <td>1030.0</td>\n",
       "      <td>3.1 miles</td>\n",
       "      <td>City centre</td>\n",
       "      <td>3.6 miles</td>\n",
       "      <td>Montelbaanstoren</td>\n",
       "      <td>Amsterdam</td>\n",
       "      <td>552</td>\n",
       "      <td>price for 4 nights</td>\n",
       "      <td>...</td>\n",
       "      <td>_ACCOM_TYPE@Hotel</td>\n",
       "      <td>4.3 /5</td>\n",
       "      <td>0</td>\n",
       "      <td>1.0</td>\n",
       "      <td>1</td>\n",
       "      <td>1-15% offer</td>\n",
       "      <td>2017</td>\n",
       "      <td>12</td>\n",
       "      <td>0</td>\n",
       "      <td>1</td>\n",
       "    </tr>\n",
       "    <tr>\n",
       "      <th>4</th>\n",
       "      <td>Netherlands</td>\n",
       "      <td>Amsterdam</td>\n",
       "      <td>1030.0</td>\n",
       "      <td>3.1 miles</td>\n",
       "      <td>City centre</td>\n",
       "      <td>3.6 miles</td>\n",
       "      <td>Montelbaanstoren</td>\n",
       "      <td>Amsterdam</td>\n",
       "      <td>122</td>\n",
       "      <td>price for 1 night</td>\n",
       "      <td>...</td>\n",
       "      <td>_ACCOM_TYPE@Hotel</td>\n",
       "      <td>4.3 /5</td>\n",
       "      <td>0</td>\n",
       "      <td>1.0</td>\n",
       "      <td>1</td>\n",
       "      <td>15-50% offer</td>\n",
       "      <td>2018</td>\n",
       "      <td>2</td>\n",
       "      <td>1</td>\n",
       "      <td>0</td>\n",
       "    </tr>\n",
       "  </tbody>\n",
       "</table>\n",
       "<p>5 rows × 24 columns</p>\n",
       "</div>"
      ],
      "text/plain": [
       "  addresscountryname city_actual  rating_reviewcount center1distance  \\\n",
       "0        Netherlands   Amsterdam              1030.0       3.1 miles   \n",
       "1        Netherlands   Amsterdam              1030.0       3.1 miles   \n",
       "2        Netherlands   Amsterdam              1030.0       3.1 miles   \n",
       "3        Netherlands   Amsterdam              1030.0       3.1 miles   \n",
       "4        Netherlands   Amsterdam              1030.0       3.1 miles   \n",
       "\n",
       "  center1label center2distance      center2label neighbourhood  price  \\\n",
       "0  City centre       3.6 miles  Montelbaanstoren     Amsterdam    172   \n",
       "1  City centre       3.6 miles  Montelbaanstoren     Amsterdam    122   \n",
       "2  City centre       3.6 miles  Montelbaanstoren     Amsterdam    122   \n",
       "3  City centre       3.6 miles  Montelbaanstoren     Amsterdam    552   \n",
       "4  City centre       3.6 miles  Montelbaanstoren     Amsterdam    122   \n",
       "\n",
       "          price_night  ...  accommodationtype  guestreviewsrating  \\\n",
       "0   price for 1 night  ...  _ACCOM_TYPE@Hotel              4.3 /5   \n",
       "1   price for 1 night  ...  _ACCOM_TYPE@Hotel              4.3 /5   \n",
       "2   price for 1 night  ...  _ACCOM_TYPE@Hotel              4.3 /5   \n",
       "3  price for 4 nights  ...  _ACCOM_TYPE@Hotel              4.3 /5   \n",
       "4   price for 1 night  ...  _ACCOM_TYPE@Hotel              4.3 /5   \n",
       "\n",
       "   scarce_room  hotel_id offer     offer_cat  year  month  weekend holiday  \n",
       "0            0       1.0     0   0% no offer  2017     11        1       0  \n",
       "1            0       1.0     1  15-50% offer  2018      1        1       0  \n",
       "2            0       1.0     1  15-50% offer  2017     12        0       1  \n",
       "3            0       1.0     1   1-15% offer  2017     12        0       1  \n",
       "4            0       1.0     1  15-50% offer  2018      2        1       0  \n",
       "\n",
       "[5 rows x 24 columns]"
      ]
     },
     "execution_count": 3,
     "metadata": {},
     "output_type": "execute_result"
    }
   ],
   "source": [
    "raw_df.head()"
   ]
  },
  {
   "cell_type": "code",
   "execution_count": 4,
   "id": "cb6b991f",
   "metadata": {},
   "outputs": [
    {
     "data": {
      "text/plain": [
       "(149966, 24)"
      ]
     },
     "execution_count": 4,
     "metadata": {},
     "output_type": "execute_result"
    }
   ],
   "source": [
    "raw_df.shape"
   ]
  },
  {
   "cell_type": "code",
   "execution_count": 5,
   "id": "804d1235",
   "metadata": {},
   "outputs": [
    {
     "data": {
      "text/plain": [
       "Index(['addresscountryname', 'city_actual', 'rating_reviewcount',\n",
       "       'center1distance', 'center1label', 'center2distance', 'center2label',\n",
       "       'neighbourhood', 'price', 'price_night', 's_city', 'starrating',\n",
       "       'rating2_ta', 'rating2_ta_reviewcount', 'accommodationtype',\n",
       "       'guestreviewsrating', 'scarce_room', 'hotel_id', 'offer', 'offer_cat',\n",
       "       'year', 'month', 'weekend', 'holiday'],\n",
       "      dtype='object')"
      ]
     },
     "execution_count": 5,
     "metadata": {},
     "output_type": "execute_result"
    }
   ],
   "source": [
    "raw_df.columns"
   ]
  },
  {
   "cell_type": "code",
   "execution_count": 6,
   "id": "d5fed3e7",
   "metadata": {},
   "outputs": [
    {
     "data": {
      "text/plain": [
       "0         1\n",
       "1         1\n",
       "2         1\n",
       "3         1\n",
       "4         1\n",
       "         ..\n",
       "149961    1\n",
       "149962    1\n",
       "149963    1\n",
       "149964    1\n",
       "149965    1\n",
       "Name: nnights, Length: 149966, dtype: int64"
      ]
     },
     "execution_count": 6,
     "metadata": {},
     "output_type": "execute_result"
    }
   ],
   "source": [
    "# Goal: find number of nights per accomodation type\n",
    "# Create a new variable equal to 1 for each observation\n",
    "raw_df[\"nnights\"] = 1\n",
    "raw_df.nnights"
   ]
  },
  {
   "cell_type": "code",
   "execution_count": 7,
   "id": "d14c1182",
   "metadata": {},
   "outputs": [],
   "source": [
    "# Second option of creating new varible; also assign to new object \"df\"\n",
    "df = raw_df.assign(nnights=1)"
   ]
  },
  {
   "cell_type": "code",
   "execution_count": 8,
   "id": "d6f2562b",
   "metadata": {},
   "outputs": [],
   "source": [
    "# We don't need raw_df anymore; delete\n",
    "del raw_df"
   ]
  },
  {
   "cell_type": "code",
   "execution_count": 9,
   "id": "31ec80dd",
   "metadata": {},
   "outputs": [
    {
     "data": {
      "text/plain": [
       "0         _ACCOM_TYPE@Hotel\n",
       "1         _ACCOM_TYPE@Hotel\n",
       "2         _ACCOM_TYPE@Hotel\n",
       "3         _ACCOM_TYPE@Hotel\n",
       "4         _ACCOM_TYPE@Hotel\n",
       "                ...        \n",
       "149961    _ACCOM_TYPE@Hotel\n",
       "149962    _ACCOM_TYPE@Hotel\n",
       "149963    _ACCOM_TYPE@Hotel\n",
       "149964    _ACCOM_TYPE@Hotel\n",
       "149965    _ACCOM_TYPE@Hotel\n",
       "Name: accommodationtype, Length: 149966, dtype: object"
      ]
     },
     "execution_count": 9,
     "metadata": {},
     "output_type": "execute_result"
    }
   ],
   "source": [
    "# Looking at accomodationtype variable: seems dirty. let's clean it.\n",
    "df.accommodationtype"
   ]
  },
  {
   "cell_type": "code",
   "execution_count": 10,
   "id": "b27a718d",
   "metadata": {},
   "outputs": [
    {
     "data": {
      "text/plain": [
       "0         [_ACCOM_TYPE, Hotel]\n",
       "1         [_ACCOM_TYPE, Hotel]\n",
       "2         [_ACCOM_TYPE, Hotel]\n",
       "3         [_ACCOM_TYPE, Hotel]\n",
       "4         [_ACCOM_TYPE, Hotel]\n",
       "                  ...         \n",
       "149961    [_ACCOM_TYPE, Hotel]\n",
       "149962    [_ACCOM_TYPE, Hotel]\n",
       "149963    [_ACCOM_TYPE, Hotel]\n",
       "149964    [_ACCOM_TYPE, Hotel]\n",
       "149965    [_ACCOM_TYPE, Hotel]\n",
       "Name: accommodationtype, Length: 149966, dtype: object"
      ]
     },
     "execution_count": 10,
     "metadata": {},
     "output_type": "execute_result"
    }
   ],
   "source": [
    "# We want to split strings at @ sign\n",
    "df.accommodationtype.str.split(\"@\")"
   ]
  },
  {
   "cell_type": "code",
   "execution_count": 11,
   "id": "3b0b631d",
   "metadata": {},
   "outputs": [
    {
     "data": {
      "text/plain": [
       "0         Hotel\n",
       "1         Hotel\n",
       "2         Hotel\n",
       "3         Hotel\n",
       "4         Hotel\n",
       "          ...  \n",
       "149961    Hotel\n",
       "149962    Hotel\n",
       "149963    Hotel\n",
       "149964    Hotel\n",
       "149965    Hotel\n",
       "Name: accommodationtype, Length: 149966, dtype: object"
      ]
     },
     "execution_count": 11,
     "metadata": {},
     "output_type": "execute_result"
    }
   ],
   "source": [
    "# Grab the second element in each observation\n",
    "df.accommodationtype.str.split(\"@\").str[1]"
   ]
  },
  {
   "cell_type": "code",
   "execution_count": 12,
   "id": "f9f17c3a",
   "metadata": {},
   "outputs": [],
   "source": [
    "# Now we want to assign it to our df\n",
    "df[\"acc_type\"] = df.accommodationtype.str.split(\"@\").str[1]"
   ]
  },
  {
   "cell_type": "code",
   "execution_count": 13,
   "id": "cfb851b4",
   "metadata": {},
   "outputs": [
    {
     "data": {
      "text/plain": [
       "acc_type\n",
       "Hotel                  102234\n",
       "Apartment               17113\n",
       "Guest House             10080\n",
       "Bed and breakfast        6395\n",
       "Hostel                   6232\n",
       "Apart-hotel              3693\n",
       "Vacation home Condo      1576\n",
       "Pension                  1085\n",
       "Inn                      1020\n",
       "Country House              89\n",
       "Palace                     68\n",
       "                           65\n",
       "Villa                      64\n",
       "Resort                     60\n",
       "Caravan Park               60\n",
       "House boat                 31\n",
       "Pousada                    28\n",
       "Motel                      25\n",
       "Cabin / Lodge              14\n",
       "Cottage                    13\n",
       "Chalet                     11\n",
       "Castle                      5\n",
       "All inclusive               5\n",
       "Name: count, dtype: int64"
      ]
     },
     "execution_count": 13,
     "metadata": {},
     "output_type": "execute_result"
    }
   ],
   "source": [
    "# Finally we can check nr of nights per acc type\n",
    "df[\"acc_type\"].value_counts()"
   ]
  },
  {
   "cell_type": "code",
   "execution_count": 43,
   "id": "2aad5f98",
   "metadata": {},
   "outputs": [],
   "source": [
    "# Replace the missing category with something meaningful\n",
    "df.acc_type.replace(\"\", \"Unknown\", inplace=True)"
   ]
  },
  {
   "cell_type": "code",
   "execution_count": 15,
   "id": "464f2ee4",
   "metadata": {},
   "outputs": [
    {
     "data": {
      "text/plain": [
       "acc_type\n",
       "Hotel                  102234\n",
       "Apartment               17113\n",
       "Guest House             10080\n",
       "BnB                      6395\n",
       "Hostel                   6232\n",
       "Apart-hotel              3693\n",
       "Vacation home Condo      1576\n",
       "Pension                  1085\n",
       "Inn                      1020\n",
       "Country House              89\n",
       "Palace                     68\n",
       "                           65\n",
       "Villa                      64\n",
       "Resort                     60\n",
       "Caravan Park               60\n",
       "House boat                 31\n",
       "Pousada                    28\n",
       "Motel                      25\n",
       "Cabin / Lodge              14\n",
       "Cottage                    13\n",
       "Chalet                     11\n",
       "Castle                      5\n",
       "All inclusive               5\n",
       "Name: count, dtype: int64"
      ]
     },
     "execution_count": 15,
     "metadata": {},
     "output_type": "execute_result"
    }
   ],
   "source": [
    "df.acc_type.value_counts()"
   ]
  },
  {
   "cell_type": "markdown",
   "id": "5d730c96",
   "metadata": {},
   "source": [
    "### Convert string to numeric columns\n",
    "- Correct *guestreviewsrating*\n",
    "- Check w the `dtypes` property\n",
    "- Convert to numeric"
   ]
  },
  {
   "cell_type": "code",
   "execution_count": 16,
   "id": "4c112a91",
   "metadata": {},
   "outputs": [
    {
     "data": {
      "text/plain": [
       "0    4.3 /5\n",
       "1    4.3 /5\n",
       "2    4.3 /5\n",
       "3    4.3 /5\n",
       "4    4.3 /5\n",
       "Name: guestreviewsrating, dtype: object"
      ]
     },
     "execution_count": 16,
     "metadata": {},
     "output_type": "execute_result"
    }
   ],
   "source": [
    "# Let's check out the variable\n",
    "df.guestreviewsrating.head()"
   ]
  },
  {
   "cell_type": "code",
   "execution_count": 17,
   "id": "4ad949fb",
   "metadata": {},
   "outputs": [
    {
     "data": {
      "text/plain": [
       "guestreviewsrating\n",
       "1.1 /5       10\n",
       "1.3 /5       41\n",
       "1.2 /5       48\n",
       "1.6 /5       54\n",
       "1.5 /5       91\n",
       "1.8 /5      112\n",
       "1.7 /5      143\n",
       "2.4 /5      472\n",
       "1 /5        679\n",
       "2.2 /5      976\n",
       "2 /5        976\n",
       "4.9 /5     1157\n",
       "2.9 /5     1213\n",
       "2.5 /5     1557\n",
       "2.7 /5     2337\n",
       "5 /5       2646\n",
       "4.8 /5     3095\n",
       "3.4 /5     3727\n",
       "4.6 /5     4417\n",
       "3 /5       4838\n",
       "3.2 /5     6112\n",
       "3.9 /5     8853\n",
       "4.4 /5     9079\n",
       "3.5 /5    11145\n",
       "4.1 /5    11190\n",
       "4.3 /5    11268\n",
       "4.5 /5    14952\n",
       "3.7 /5    15031\n",
       "4 /5      23160\n",
       "Name: count, dtype: int64"
      ]
     },
     "execution_count": 17,
     "metadata": {},
     "output_type": "execute_result"
    }
   ],
   "source": [
    "df.guestreviewsrating.value_counts(ascending=True)"
   ]
  },
  {
   "cell_type": "code",
   "execution_count": 18,
   "id": "3aa523a2",
   "metadata": {},
   "outputs": [],
   "source": [
    "# Clear structure: separate at /\n",
    "df[\"ratings\"] = df[\"guestreviewsrating\"].str.split(\"/\").str[0].str.strip()"
   ]
  },
  {
   "cell_type": "code",
   "execution_count": 19,
   "id": "c15a7272",
   "metadata": {},
   "outputs": [
    {
     "data": {
      "text/plain": [
       "0    4.3\n",
       "1    4.3\n",
       "2    4.3\n",
       "3    4.3\n",
       "4    4.3\n",
       "Name: ratings, dtype: object"
      ]
     },
     "execution_count": 19,
     "metadata": {},
     "output_type": "execute_result"
    }
   ],
   "source": [
    "df.ratings.head()"
   ]
  },
  {
   "cell_type": "code",
   "execution_count": 20,
   "id": "879d239b",
   "metadata": {},
   "outputs": [
    {
     "data": {
      "text/plain": [
       "dtype('O')"
      ]
     },
     "execution_count": 20,
     "metadata": {},
     "output_type": "execute_result"
    }
   ],
   "source": [
    "# Whats' the data type of our newly created column?\n",
    "df.ratings.dtype"
   ]
  },
  {
   "cell_type": "code",
   "execution_count": 21,
   "id": "1784792c",
   "metadata": {},
   "outputs": [],
   "source": [
    "# Not good. It's not numeric.\n",
    "# Let's convert to some numeric data format.\n",
    "df[\"ratings\"] = df[\"ratings\"].astype(float)"
   ]
  },
  {
   "cell_type": "code",
   "execution_count": 22,
   "id": "bb06b1d7",
   "metadata": {},
   "outputs": [
    {
     "data": {
      "text/plain": [
       "dtype('float64')"
      ]
     },
     "execution_count": 22,
     "metadata": {},
     "output_type": "execute_result"
    }
   ],
   "source": [
    "df.ratings.dtype"
   ]
  },
  {
   "cell_type": "code",
   "execution_count": 23,
   "id": "96c6a4ac",
   "metadata": {},
   "outputs": [
    {
     "data": {
      "text/plain": [
       "3.9072614956342058"
      ]
     },
     "execution_count": 23,
     "metadata": {},
     "output_type": "execute_result"
    }
   ],
   "source": [
    "df.ratings.mean()"
   ]
  },
  {
   "cell_type": "code",
   "execution_count": 24,
   "id": "8b3b3f79",
   "metadata": {},
   "outputs": [
    {
     "data": {
      "text/plain": [
       "<AxesSubplot:>"
      ]
     },
     "execution_count": 24,
     "metadata": {},
     "output_type": "execute_result"
    },
    {
     "data": {
      "image/png": "[encoded data removed]",
      "text/plain": [
       "<Figure size 432x288 with 1 Axes>"
      ]
     },
     "metadata": {
      "needs_background": "light"
     },
     "output_type": "display_data"
    }
   ],
   "source": [
    "df.ratings.hist()"
   ]
  },
  {
   "cell_type": "markdown",
   "id": "4f6c0b8c",
   "metadata": {},
   "source": [
    "## Task:\n",
    "Create numeric variables for `center1distance` and `center2distance`."
   ]
  },
  {
   "cell_type": "code",
   "execution_count": 25,
   "id": "a8d4d343",
   "metadata": {},
   "outputs": [
    {
     "data": {
      "text/plain": [
       "0    3.1 miles\n",
       "1    3.1 miles\n",
       "2    3.1 miles\n",
       "3    3.1 miles\n",
       "4    3.1 miles\n",
       "Name: center1distance, dtype: object"
      ]
     },
     "execution_count": 25,
     "metadata": {},
     "output_type": "execute_result"
    }
   ],
   "source": [
    "df[\"center1distance\"].head() # Maybe good idea to separate at whitespace \" \"."
   ]
  },
  {
   "cell_type": "code",
   "execution_count": 26,
   "id": "99d980ab",
   "metadata": {},
   "outputs": [
    {
     "data": {
      "text/plain": [
       "0         [3.1, miles]\n",
       "1         [3.1, miles]\n",
       "2         [3.1, miles]\n",
       "3         [3.1, miles]\n",
       "4         [3.1, miles]\n",
       "              ...     \n",
       "149961    [1.1, miles]\n",
       "149962    [1.1, miles]\n",
       "149963    [1.1, miles]\n",
       "149964    [1.1, miles]\n",
       "149965    [1.1, miles]\n",
       "Name: center1distance, Length: 149966, dtype: object"
      ]
     },
     "execution_count": 26,
     "metadata": {},
     "output_type": "execute_result"
    }
   ],
   "source": [
    "df[\"center1distance\"].str.split(\" \")"
   ]
  },
  {
   "cell_type": "code",
   "execution_count": 27,
   "id": "28e313f1",
   "metadata": {},
   "outputs": [],
   "source": [
    "df[\"distance_miles\"] = df[\"center1distance\"].str.split(\" \").str[0].astype(float)"
   ]
  },
  {
   "cell_type": "code",
   "execution_count": 28,
   "id": "27bdd9a6",
   "metadata": {},
   "outputs": [
    {
     "data": {
      "text/plain": [
       "0         3.1\n",
       "1         3.1\n",
       "2         3.1\n",
       "3         3.1\n",
       "4         3.1\n",
       "         ... \n",
       "149961    1.1\n",
       "149962    1.1\n",
       "149963    1.1\n",
       "149964    1.1\n",
       "149965    1.1\n",
       "Name: distance_miles, Length: 149966, dtype: float64"
      ]
     },
     "execution_count": 28,
     "metadata": {},
     "output_type": "execute_result"
    }
   ],
   "source": [
    "df.distance_miles"
   ]
  },
  {
   "cell_type": "code",
   "execution_count": 29,
   "id": "057c4a30",
   "metadata": {},
   "outputs": [
    {
     "data": {
      "text/plain": [
       "2.839012176093248"
      ]
     },
     "execution_count": 29,
     "metadata": {},
     "output_type": "execute_result"
    }
   ],
   "source": [
    "df.distance_miles.mean()"
   ]
  },
  {
   "cell_type": "code",
   "execution_count": 30,
   "id": "30df1f13",
   "metadata": {},
   "outputs": [
    {
     "data": {
      "text/plain": [
       "<AxesSubplot:>"
      ]
     },
     "execution_count": 30,
     "metadata": {},
     "output_type": "execute_result"
    },
    {
     "data": {
      "image/png": "[encoded data removed]",
      "text/plain": [
       "<Figure size 432x288 with 1 Axes>"
      ]
     },
     "metadata": {
      "needs_background": "light"
     },
     "output_type": "display_data"
    }
   ],
   "source": [
    "df.distance_miles.hist(bins=20)"
   ]
  },
  {
   "cell_type": "code",
   "execution_count": 31,
   "id": "79090f53",
   "metadata": {},
   "outputs": [
    {
     "data": {
      "text/plain": [
       "Index(['addresscountryname', 'city_actual', 'rating_reviewcount',\n",
       "       'center1distance', 'center1label', 'center2distance', 'center2label',\n",
       "       'neighbourhood', 'price', 'price_night', 's_city', 'starrating',\n",
       "       'rating2_ta', 'rating2_ta_reviewcount', 'accommodationtype',\n",
       "       'guestreviewsrating', 'scarce_room', 'hotel_id', 'offer', 'offer_cat',\n",
       "       'year', 'month', 'weekend', 'holiday', 'nnights', 'acc_type', 'ratings',\n",
       "       'distance_miles'],\n",
       "      dtype='object')"
      ]
     },
     "execution_count": 31,
     "metadata": {},
     "output_type": "execute_result"
    }
   ],
   "source": [
    "df.columns"
   ]
  },
  {
   "cell_type": "code",
   "execution_count": 32,
   "id": "2e4186d0",
   "metadata": {},
   "outputs": [
    {
     "data": {
      "text/html": [
       "<div>\n",
       "<style scoped>\n",
       "    .dataframe tbody tr th:only-of-type {\n",
       "        vertical-align: middle;\n",
       "    }\n",
       "\n",
       "    .dataframe tbody tr th {\n",
       "        vertical-align: top;\n",
       "    }\n",
       "\n",
       "    .dataframe thead th {\n",
       "        text-align: right;\n",
       "    }\n",
       "</style>\n",
       "<table border=\"1\" class=\"dataframe\">\n",
       "  <thead>\n",
       "    <tr style=\"text-align: right;\">\n",
       "      <th></th>\n",
       "      <th>rating_reviewcount</th>\n",
       "      <th>starrating</th>\n",
       "      <th>rating2_ta</th>\n",
       "      <th>rating2_ta_reviewcount</th>\n",
       "      <th>guestreviewsrating</th>\n",
       "      <th>ratings</th>\n",
       "    </tr>\n",
       "  </thead>\n",
       "  <tbody>\n",
       "    <tr>\n",
       "      <th>0</th>\n",
       "      <td>1030.0</td>\n",
       "      <td>4.0</td>\n",
       "      <td>4.0</td>\n",
       "      <td>1115.0</td>\n",
       "      <td>4.3 /5</td>\n",
       "      <td>4.3</td>\n",
       "    </tr>\n",
       "    <tr>\n",
       "      <th>1</th>\n",
       "      <td>1030.0</td>\n",
       "      <td>4.0</td>\n",
       "      <td>4.0</td>\n",
       "      <td>1115.0</td>\n",
       "      <td>4.3 /5</td>\n",
       "      <td>4.3</td>\n",
       "    </tr>\n",
       "    <tr>\n",
       "      <th>2</th>\n",
       "      <td>1030.0</td>\n",
       "      <td>4.0</td>\n",
       "      <td>4.0</td>\n",
       "      <td>1115.0</td>\n",
       "      <td>4.3 /5</td>\n",
       "      <td>4.3</td>\n",
       "    </tr>\n",
       "    <tr>\n",
       "      <th>3</th>\n",
       "      <td>1030.0</td>\n",
       "      <td>4.0</td>\n",
       "      <td>4.0</td>\n",
       "      <td>1115.0</td>\n",
       "      <td>4.3 /5</td>\n",
       "      <td>4.3</td>\n",
       "    </tr>\n",
       "    <tr>\n",
       "      <th>4</th>\n",
       "      <td>1030.0</td>\n",
       "      <td>4.0</td>\n",
       "      <td>4.0</td>\n",
       "      <td>1115.0</td>\n",
       "      <td>4.3 /5</td>\n",
       "      <td>4.3</td>\n",
       "    </tr>\n",
       "    <tr>\n",
       "      <th>...</th>\n",
       "      <td>...</td>\n",
       "      <td>...</td>\n",
       "      <td>...</td>\n",
       "      <td>...</td>\n",
       "      <td>...</td>\n",
       "      <td>...</td>\n",
       "    </tr>\n",
       "    <tr>\n",
       "      <th>149961</th>\n",
       "      <td>48.0</td>\n",
       "      <td>4.0</td>\n",
       "      <td>4.5</td>\n",
       "      <td>86.0</td>\n",
       "      <td>4.5 /5</td>\n",
       "      <td>4.5</td>\n",
       "    </tr>\n",
       "    <tr>\n",
       "      <th>149962</th>\n",
       "      <td>48.0</td>\n",
       "      <td>4.0</td>\n",
       "      <td>4.5</td>\n",
       "      <td>86.0</td>\n",
       "      <td>4.5 /5</td>\n",
       "      <td>4.5</td>\n",
       "    </tr>\n",
       "    <tr>\n",
       "      <th>149963</th>\n",
       "      <td>48.0</td>\n",
       "      <td>4.0</td>\n",
       "      <td>4.5</td>\n",
       "      <td>86.0</td>\n",
       "      <td>4.5 /5</td>\n",
       "      <td>4.5</td>\n",
       "    </tr>\n",
       "    <tr>\n",
       "      <th>149964</th>\n",
       "      <td>48.0</td>\n",
       "      <td>4.0</td>\n",
       "      <td>4.5</td>\n",
       "      <td>86.0</td>\n",
       "      <td>4.5 /5</td>\n",
       "      <td>4.5</td>\n",
       "    </tr>\n",
       "    <tr>\n",
       "      <th>149965</th>\n",
       "      <td>48.0</td>\n",
       "      <td>4.0</td>\n",
       "      <td>4.5</td>\n",
       "      <td>86.0</td>\n",
       "      <td>4.5 /5</td>\n",
       "      <td>4.5</td>\n",
       "    </tr>\n",
       "  </tbody>\n",
       "</table>\n",
       "<p>149966 rows × 6 columns</p>\n",
       "</div>"
      ],
      "text/plain": [
       "        rating_reviewcount  starrating  rating2_ta  rating2_ta_reviewcount  \\\n",
       "0                   1030.0         4.0         4.0                  1115.0   \n",
       "1                   1030.0         4.0         4.0                  1115.0   \n",
       "2                   1030.0         4.0         4.0                  1115.0   \n",
       "3                   1030.0         4.0         4.0                  1115.0   \n",
       "4                   1030.0         4.0         4.0                  1115.0   \n",
       "...                    ...         ...         ...                     ...   \n",
       "149961                48.0         4.0         4.5                    86.0   \n",
       "149962                48.0         4.0         4.5                    86.0   \n",
       "149963                48.0         4.0         4.5                    86.0   \n",
       "149964                48.0         4.0         4.5                    86.0   \n",
       "149965                48.0         4.0         4.5                    86.0   \n",
       "\n",
       "       guestreviewsrating  ratings  \n",
       "0                  4.3 /5      4.3  \n",
       "1                  4.3 /5      4.3  \n",
       "2                  4.3 /5      4.3  \n",
       "3                  4.3 /5      4.3  \n",
       "4                  4.3 /5      4.3  \n",
       "...                   ...      ...  \n",
       "149961             4.5 /5      4.5  \n",
       "149962             4.5 /5      4.5  \n",
       "149963             4.5 /5      4.5  \n",
       "149964             4.5 /5      4.5  \n",
       "149965             4.5 /5      4.5  \n",
       "\n",
       "[149966 rows x 6 columns]"
      ]
     },
     "execution_count": 32,
     "metadata": {},
     "output_type": "execute_result"
    }
   ],
   "source": [
    "# Check out all the ratings variables\n",
    "# using the filter()\n",
    "df.filter(regex='rating')"
   ]
  },
  {
   "cell_type": "code",
   "execution_count": 33,
   "id": "bba393ee",
   "metadata": {},
   "outputs": [],
   "source": [
    "# Let's rename a few of those\n",
    "df.rename(columns={'rating_reviewcount': 'rating_count',\n",
    "                  'rating2_ta': 'ratingta'}, inplace=True)"
   ]
  },
  {
   "cell_type": "code",
   "execution_count": 34,
   "id": "499fe862",
   "metadata": {},
   "outputs": [],
   "source": [
    "# equivalently\n",
    "df = df.rename(columns={'rating_reviewcount': 'rating_count',\n",
    "                  'rating2_ta': 'ratingta'})"
   ]
  },
  {
   "cell_type": "markdown",
   "id": "b17b955a",
   "metadata": {},
   "source": [
    "## Task: Renaming\n",
    "Rename the following:\n",
    "\n",
    "1. `ratings2_ta_reviewcount` to `ratingta_count`\n",
    "2. `addresscountryname` to `country`\n",
    "3. `starrating` to `stars`\n",
    "4. `s_city` to `city`"
   ]
  },
  {
   "cell_type": "code",
   "execution_count": 38,
   "id": "f2e736f3",
   "metadata": {},
   "outputs": [],
   "source": [
    "df = df.rename(columns={'rating2_ta_reviewcount': 'ratingta_count',\n",
    "                       'addresscountryname': 'country',\n",
    "                       'starrating': 'stars',\n",
    "                       's_city': 'city'})"
   ]
  },
  {
   "cell_type": "code",
   "execution_count": 39,
   "id": "79bfe007",
   "metadata": {},
   "outputs": [
    {
     "data": {
      "text/plain": [
       "Index(['country', 'city_actual', 'rating_count', 'center1distance',\n",
       "       'center1label', 'center2distance', 'center2label', 'neighbourhood',\n",
       "       'price', 'price_night', 'city', 'stars', 'ratingta', 'ratingta_count',\n",
       "       'accommodationtype', 'guestreviewsrating', 'scarce_room', 'hotel_id',\n",
       "       'offer', 'offer_cat', 'year', 'month', 'weekend', 'holiday', 'nnights',\n",
       "       'acc_type', 'ratings', 'distance_miles'],\n",
       "      dtype='object')"
      ]
     },
     "execution_count": 39,
     "metadata": {},
     "output_type": "execute_result"
    }
   ],
   "source": [
    "df.columns"
   ]
  },
  {
   "cell_type": "code",
   "execution_count": 44,
   "id": "16280c08",
   "metadata": {},
   "outputs": [
    {
     "data": {
      "text/plain": [
       "acc_type\n",
       "Hotel                  102234\n",
       "Apartment               17113\n",
       "Guest House             10080\n",
       "BnB                      6395\n",
       "Hostel                   6232\n",
       "Apart-hotel              3693\n",
       "Vacation home Condo      1576\n",
       "Pension                  1085\n",
       "Inn                      1020\n",
       "Country House              89\n",
       "Palace                     68\n",
       "Unknown                    65\n",
       "Villa                      64\n",
       "Resort                     60\n",
       "Caravan Park               60\n",
       "House boat                 31\n",
       "Pousada                    28\n",
       "Motel                      25\n",
       "Cabin / Lodge              14\n",
       "Cottage                    13\n",
       "Chalet                     11\n",
       "Castle                      5\n",
       "All inclusive               5\n",
       "Name: count, dtype: int64"
      ]
     },
     "execution_count": 44,
     "metadata": {},
     "output_type": "execute_result"
    }
   ],
   "source": [
    "df.acc_type.value_counts()"
   ]
  },
  {
   "cell_type": "code",
   "execution_count": 46,
   "id": "889ea1cc",
   "metadata": {},
   "outputs": [
    {
     "data": {
      "text/html": [
       "<div>\n",
       "<style scoped>\n",
       "    .dataframe tbody tr th:only-of-type {\n",
       "        vertical-align: middle;\n",
       "    }\n",
       "\n",
       "    .dataframe tbody tr th {\n",
       "        vertical-align: top;\n",
       "    }\n",
       "\n",
       "    .dataframe thead th {\n",
       "        text-align: right;\n",
       "    }\n",
       "</style>\n",
       "<table border=\"1\" class=\"dataframe\">\n",
       "  <thead>\n",
       "    <tr style=\"text-align: right;\">\n",
       "      <th></th>\n",
       "      <th>country</th>\n",
       "      <th>city_actual</th>\n",
       "      <th>rating_count</th>\n",
       "      <th>center1distance</th>\n",
       "      <th>center1label</th>\n",
       "      <th>center2distance</th>\n",
       "      <th>center2label</th>\n",
       "      <th>neighbourhood</th>\n",
       "      <th>price</th>\n",
       "      <th>price_night</th>\n",
       "      <th>...</th>\n",
       "      <th>offer</th>\n",
       "      <th>offer_cat</th>\n",
       "      <th>year</th>\n",
       "      <th>month</th>\n",
       "      <th>weekend</th>\n",
       "      <th>holiday</th>\n",
       "      <th>nnights</th>\n",
       "      <th>acc_type</th>\n",
       "      <th>ratings</th>\n",
       "      <th>distance_miles</th>\n",
       "    </tr>\n",
       "  </thead>\n",
       "  <tbody>\n",
       "    <tr>\n",
       "      <th>0</th>\n",
       "      <td>Netherlands</td>\n",
       "      <td>Amsterdam</td>\n",
       "      <td>1030.0</td>\n",
       "      <td>3.1 miles</td>\n",
       "      <td>City centre</td>\n",
       "      <td>3.6 miles</td>\n",
       "      <td>Montelbaanstoren</td>\n",
       "      <td>Amsterdam</td>\n",
       "      <td>172</td>\n",
       "      <td>price for 1 night</td>\n",
       "      <td>...</td>\n",
       "      <td>0</td>\n",
       "      <td>0% no offer</td>\n",
       "      <td>2017</td>\n",
       "      <td>11</td>\n",
       "      <td>1</td>\n",
       "      <td>0</td>\n",
       "      <td>1</td>\n",
       "      <td>Hotel</td>\n",
       "      <td>4.3</td>\n",
       "      <td>3.1</td>\n",
       "    </tr>\n",
       "    <tr>\n",
       "      <th>1</th>\n",
       "      <td>Netherlands</td>\n",
       "      <td>Amsterdam</td>\n",
       "      <td>1030.0</td>\n",
       "      <td>3.1 miles</td>\n",
       "      <td>City centre</td>\n",
       "      <td>3.6 miles</td>\n",
       "      <td>Montelbaanstoren</td>\n",
       "      <td>Amsterdam</td>\n",
       "      <td>122</td>\n",
       "      <td>price for 1 night</td>\n",
       "      <td>...</td>\n",
       "      <td>1</td>\n",
       "      <td>15-50% offer</td>\n",
       "      <td>2018</td>\n",
       "      <td>1</td>\n",
       "      <td>1</td>\n",
       "      <td>0</td>\n",
       "      <td>1</td>\n",
       "      <td>Hotel</td>\n",
       "      <td>4.3</td>\n",
       "      <td>3.1</td>\n",
       "    </tr>\n",
       "    <tr>\n",
       "      <th>2</th>\n",
       "      <td>Netherlands</td>\n",
       "      <td>Amsterdam</td>\n",
       "      <td>1030.0</td>\n",
       "      <td>3.1 miles</td>\n",
       "      <td>City centre</td>\n",
       "      <td>3.6 miles</td>\n",
       "      <td>Montelbaanstoren</td>\n",
       "      <td>Amsterdam</td>\n",
       "      <td>122</td>\n",
       "      <td>price for 1 night</td>\n",
       "      <td>...</td>\n",
       "      <td>1</td>\n",
       "      <td>15-50% offer</td>\n",
       "      <td>2017</td>\n",
       "      <td>12</td>\n",
       "      <td>0</td>\n",
       "      <td>1</td>\n",
       "      <td>1</td>\n",
       "      <td>Hotel</td>\n",
       "      <td>4.3</td>\n",
       "      <td>3.1</td>\n",
       "    </tr>\n",
       "    <tr>\n",
       "      <th>3</th>\n",
       "      <td>Netherlands</td>\n",
       "      <td>Amsterdam</td>\n",
       "      <td>1030.0</td>\n",
       "      <td>3.1 miles</td>\n",
       "      <td>City centre</td>\n",
       "      <td>3.6 miles</td>\n",
       "      <td>Montelbaanstoren</td>\n",
       "      <td>Amsterdam</td>\n",
       "      <td>552</td>\n",
       "      <td>price for 4 nights</td>\n",
       "      <td>...</td>\n",
       "      <td>1</td>\n",
       "      <td>1-15% offer</td>\n",
       "      <td>2017</td>\n",
       "      <td>12</td>\n",
       "      <td>0</td>\n",
       "      <td>1</td>\n",
       "      <td>1</td>\n",
       "      <td>Hotel</td>\n",
       "      <td>4.3</td>\n",
       "      <td>3.1</td>\n",
       "    </tr>\n",
       "    <tr>\n",
       "      <th>4</th>\n",
       "      <td>Netherlands</td>\n",
       "      <td>Amsterdam</td>\n",
       "      <td>1030.0</td>\n",
       "      <td>3.1 miles</td>\n",
       "      <td>City centre</td>\n",
       "      <td>3.6 miles</td>\n",
       "      <td>Montelbaanstoren</td>\n",
       "      <td>Amsterdam</td>\n",
       "      <td>122</td>\n",
       "      <td>price for 1 night</td>\n",
       "      <td>...</td>\n",
       "      <td>1</td>\n",
       "      <td>15-50% offer</td>\n",
       "      <td>2018</td>\n",
       "      <td>2</td>\n",
       "      <td>1</td>\n",
       "      <td>0</td>\n",
       "      <td>1</td>\n",
       "      <td>Hotel</td>\n",
       "      <td>4.3</td>\n",
       "      <td>3.1</td>\n",
       "    </tr>\n",
       "  </tbody>\n",
       "</table>\n",
       "<p>5 rows × 28 columns</p>\n",
       "</div>"
      ],
      "text/plain": [
       "       country city_actual  rating_count center1distance center1label  \\\n",
       "0  Netherlands   Amsterdam        1030.0       3.1 miles  City centre   \n",
       "1  Netherlands   Amsterdam        1030.0       3.1 miles  City centre   \n",
       "2  Netherlands   Amsterdam        1030.0       3.1 miles  City centre   \n",
       "3  Netherlands   Amsterdam        1030.0       3.1 miles  City centre   \n",
       "4  Netherlands   Amsterdam        1030.0       3.1 miles  City centre   \n",
       "\n",
       "  center2distance      center2label neighbourhood  price         price_night  \\\n",
       "0       3.6 miles  Montelbaanstoren     Amsterdam    172   price for 1 night   \n",
       "1       3.6 miles  Montelbaanstoren     Amsterdam    122   price for 1 night   \n",
       "2       3.6 miles  Montelbaanstoren     Amsterdam    122   price for 1 night   \n",
       "3       3.6 miles  Montelbaanstoren     Amsterdam    552  price for 4 nights   \n",
       "4       3.6 miles  Montelbaanstoren     Amsterdam    122   price for 1 night   \n",
       "\n",
       "   ... offer     offer_cat  year  month weekend holiday  nnights  acc_type  \\\n",
       "0  ...     0   0% no offer  2017     11       1       0        1     Hotel   \n",
       "1  ...     1  15-50% offer  2018      1       1       0        1     Hotel   \n",
       "2  ...     1  15-50% offer  2017     12       0       1        1     Hotel   \n",
       "3  ...     1   1-15% offer  2017     12       0       1        1     Hotel   \n",
       "4  ...     1  15-50% offer  2018      2       1       0        1     Hotel   \n",
       "\n",
       "   ratings distance_miles  \n",
       "0      4.3            3.1  \n",
       "1      4.3            3.1  \n",
       "2      4.3            3.1  \n",
       "3      4.3            3.1  \n",
       "4      4.3            3.1  \n",
       "\n",
       "[5 rows x 28 columns]"
      ]
     },
     "execution_count": 46,
     "metadata": {},
     "output_type": "execute_result"
    }
   ],
   "source": [
    "# Just look at acc_type == \"Hotels\"\n",
    "df.loc[df[\"acc_type\"] == 'Hotel'].head()"
   ]
  },
  {
   "cell_type": "code",
   "execution_count": 48,
   "id": "bb97cabf",
   "metadata": {},
   "outputs": [
    {
     "data": {
      "text/plain": [
       "10587"
      ]
     },
     "execution_count": 48,
     "metadata": {},
     "output_type": "execute_result"
    }
   ],
   "source": [
    "# Check if we have missing values in the \"ratings\" column\n",
    "df[\"ratings\"].isnull().sum()"
   ]
  },
  {
   "cell_type": "code",
   "execution_count": 51,
   "id": "5b828cea",
   "metadata": {},
   "outputs": [
    {
     "data": {
      "text/plain": [
       "country\n",
       "Austria            449\n",
       "Belarus             65\n",
       "Belgium             75\n",
       "Bulgaria            80\n",
       "Cameroon             0\n",
       "Croatia             66\n",
       "Cyprus               0\n",
       "Czech Republic     158\n",
       "Denmark             15\n",
       "Egypt                1\n",
       "Estonia              8\n",
       "Finland             43\n",
       "France             322\n",
       "Germany            114\n",
       "Greece             155\n",
       "Hungary             82\n",
       "Ireland             85\n",
       "Italy             3046\n",
       "Latvia              60\n",
       "Lithuania           57\n",
       "Malta               99\n",
       "Netherlands         48\n",
       "Poland             914\n",
       "Portugal           182\n",
       "Romania             83\n",
       "Russia            2112\n",
       "Serbia              51\n",
       "Slovakia            71\n",
       "Spain              358\n",
       "Sweden              41\n",
       "Turkey            1023\n",
       "Ukraine            156\n",
       "United Kingdom     568\n",
       "Name: ratings, dtype: int64"
      ]
     },
     "execution_count": 51,
     "metadata": {},
     "output_type": "execute_result"
    }
   ],
   "source": [
    "# Check missing values by country\n",
    "df[\"ratings\"].isnull().groupby(df.country).sum()"
   ]
  },
  {
   "cell_type": "code",
   "execution_count": 52,
   "id": "45bf770b",
   "metadata": {},
   "outputs": [
    {
     "data": {
      "text/html": [
       "<div>\n",
       "<style scoped>\n",
       "    .dataframe tbody tr th:only-of-type {\n",
       "        vertical-align: middle;\n",
       "    }\n",
       "\n",
       "    .dataframe tbody tr th {\n",
       "        vertical-align: top;\n",
       "    }\n",
       "\n",
       "    .dataframe thead th {\n",
       "        text-align: right;\n",
       "    }\n",
       "</style>\n",
       "<table border=\"1\" class=\"dataframe\">\n",
       "  <thead>\n",
       "    <tr style=\"text-align: right;\">\n",
       "      <th></th>\n",
       "      <th>country</th>\n",
       "      <th>city_actual</th>\n",
       "      <th>rating_count</th>\n",
       "      <th>center1distance</th>\n",
       "      <th>center1label</th>\n",
       "      <th>center2distance</th>\n",
       "      <th>center2label</th>\n",
       "      <th>neighbourhood</th>\n",
       "      <th>price</th>\n",
       "      <th>price_night</th>\n",
       "      <th>...</th>\n",
       "      <th>offer</th>\n",
       "      <th>offer_cat</th>\n",
       "      <th>year</th>\n",
       "      <th>month</th>\n",
       "      <th>weekend</th>\n",
       "      <th>holiday</th>\n",
       "      <th>nnights</th>\n",
       "      <th>acc_type</th>\n",
       "      <th>ratings</th>\n",
       "      <th>distance_miles</th>\n",
       "    </tr>\n",
       "  </thead>\n",
       "  <tbody>\n",
       "    <tr>\n",
       "      <th>414</th>\n",
       "      <td>Netherlands</td>\n",
       "      <td>Amsterdam</td>\n",
       "      <td>NaN</td>\n",
       "      <td>2.4 miles</td>\n",
       "      <td>City centre</td>\n",
       "      <td>3.0 miles</td>\n",
       "      <td>Montelbaanstoren</td>\n",
       "      <td>Amsterdam West</td>\n",
       "      <td>175</td>\n",
       "      <td>price for 1 night</td>\n",
       "      <td>...</td>\n",
       "      <td>1</td>\n",
       "      <td>15-50% offer</td>\n",
       "      <td>2018</td>\n",
       "      <td>6</td>\n",
       "      <td>1</td>\n",
       "      <td>0</td>\n",
       "      <td>1</td>\n",
       "      <td>Hotel</td>\n",
       "      <td>NaN</td>\n",
       "      <td>2.4</td>\n",
       "    </tr>\n",
       "    <tr>\n",
       "      <th>415</th>\n",
       "      <td>Netherlands</td>\n",
       "      <td>Amsterdam</td>\n",
       "      <td>NaN</td>\n",
       "      <td>2.4 miles</td>\n",
       "      <td>City centre</td>\n",
       "      <td>3.0 miles</td>\n",
       "      <td>Montelbaanstoren</td>\n",
       "      <td>Amsterdam West</td>\n",
       "      <td>221</td>\n",
       "      <td>price for 1 night</td>\n",
       "      <td>...</td>\n",
       "      <td>1</td>\n",
       "      <td>15-50% offer</td>\n",
       "      <td>2018</td>\n",
       "      <td>2</td>\n",
       "      <td>1</td>\n",
       "      <td>0</td>\n",
       "      <td>1</td>\n",
       "      <td>Hotel</td>\n",
       "      <td>NaN</td>\n",
       "      <td>2.4</td>\n",
       "    </tr>\n",
       "    <tr>\n",
       "      <th>416</th>\n",
       "      <td>Netherlands</td>\n",
       "      <td>Amsterdam</td>\n",
       "      <td>NaN</td>\n",
       "      <td>2.4 miles</td>\n",
       "      <td>City centre</td>\n",
       "      <td>3.0 miles</td>\n",
       "      <td>Montelbaanstoren</td>\n",
       "      <td>Amsterdam West</td>\n",
       "      <td>249</td>\n",
       "      <td>price for 1 night</td>\n",
       "      <td>...</td>\n",
       "      <td>1</td>\n",
       "      <td>15-50% offer</td>\n",
       "      <td>2018</td>\n",
       "      <td>4</td>\n",
       "      <td>1</td>\n",
       "      <td>0</td>\n",
       "      <td>1</td>\n",
       "      <td>Hotel</td>\n",
       "      <td>NaN</td>\n",
       "      <td>2.4</td>\n",
       "    </tr>\n",
       "    <tr>\n",
       "      <th>542</th>\n",
       "      <td>Netherlands</td>\n",
       "      <td>Amsterdam</td>\n",
       "      <td>NaN</td>\n",
       "      <td>4.7 miles</td>\n",
       "      <td>City centre</td>\n",
       "      <td>5.1 miles</td>\n",
       "      <td>Montelbaanstoren</td>\n",
       "      <td>Amsterdam West</td>\n",
       "      <td>1496</td>\n",
       "      <td>price for 4 nights</td>\n",
       "      <td>...</td>\n",
       "      <td>0</td>\n",
       "      <td>0% no offer</td>\n",
       "      <td>2017</td>\n",
       "      <td>12</td>\n",
       "      <td>0</td>\n",
       "      <td>1</td>\n",
       "      <td>1</td>\n",
       "      <td>Apartment</td>\n",
       "      <td>NaN</td>\n",
       "      <td>4.7</td>\n",
       "    </tr>\n",
       "    <tr>\n",
       "      <th>1059</th>\n",
       "      <td>Netherlands</td>\n",
       "      <td>Amsterdam</td>\n",
       "      <td>NaN</td>\n",
       "      <td>0.7 miles</td>\n",
       "      <td>City centre</td>\n",
       "      <td>0.2 miles</td>\n",
       "      <td>Montelbaanstoren</td>\n",
       "      <td>Dam Square - Central Station</td>\n",
       "      <td>232</td>\n",
       "      <td>price for 1 night</td>\n",
       "      <td>...</td>\n",
       "      <td>0</td>\n",
       "      <td>0% no offer</td>\n",
       "      <td>2018</td>\n",
       "      <td>6</td>\n",
       "      <td>1</td>\n",
       "      <td>0</td>\n",
       "      <td>1</td>\n",
       "      <td>Hotel</td>\n",
       "      <td>NaN</td>\n",
       "      <td>0.7</td>\n",
       "    </tr>\n",
       "    <tr>\n",
       "      <th>...</th>\n",
       "      <td>...</td>\n",
       "      <td>...</td>\n",
       "      <td>...</td>\n",
       "      <td>...</td>\n",
       "      <td>...</td>\n",
       "      <td>...</td>\n",
       "      <td>...</td>\n",
       "      <td>...</td>\n",
       "      <td>...</td>\n",
       "      <td>...</td>\n",
       "      <td>...</td>\n",
       "      <td>...</td>\n",
       "      <td>...</td>\n",
       "      <td>...</td>\n",
       "      <td>...</td>\n",
       "      <td>...</td>\n",
       "      <td>...</td>\n",
       "      <td>...</td>\n",
       "      <td>...</td>\n",
       "      <td>...</td>\n",
       "      <td>...</td>\n",
       "    </tr>\n",
       "    <tr>\n",
       "      <th>149947</th>\n",
       "      <td>Croatia</td>\n",
       "      <td>Zagreb</td>\n",
       "      <td>NaN</td>\n",
       "      <td>4.0 miles</td>\n",
       "      <td>City centre</td>\n",
       "      <td>4.0 miles</td>\n",
       "      <td>Zagreb City Museum</td>\n",
       "      <td>Zagreb</td>\n",
       "      <td>77</td>\n",
       "      <td>price for 1 night</td>\n",
       "      <td>...</td>\n",
       "      <td>0</td>\n",
       "      <td>0% no offer</td>\n",
       "      <td>2018</td>\n",
       "      <td>5</td>\n",
       "      <td>1</td>\n",
       "      <td>0</td>\n",
       "      <td>1</td>\n",
       "      <td>Apartment</td>\n",
       "      <td>NaN</td>\n",
       "      <td>4.0</td>\n",
       "    </tr>\n",
       "    <tr>\n",
       "      <th>149948</th>\n",
       "      <td>Croatia</td>\n",
       "      <td>Zagreb</td>\n",
       "      <td>NaN</td>\n",
       "      <td>4.0 miles</td>\n",
       "      <td>City centre</td>\n",
       "      <td>4.0 miles</td>\n",
       "      <td>Zagreb City Museum</td>\n",
       "      <td>Zagreb</td>\n",
       "      <td>311</td>\n",
       "      <td>price for 4 nights</td>\n",
       "      <td>...</td>\n",
       "      <td>0</td>\n",
       "      <td>0% no offer</td>\n",
       "      <td>2017</td>\n",
       "      <td>12</td>\n",
       "      <td>0</td>\n",
       "      <td>1</td>\n",
       "      <td>1</td>\n",
       "      <td>Apartment</td>\n",
       "      <td>NaN</td>\n",
       "      <td>4.0</td>\n",
       "    </tr>\n",
       "    <tr>\n",
       "      <th>149949</th>\n",
       "      <td>Croatia</td>\n",
       "      <td>Zagreb</td>\n",
       "      <td>NaN</td>\n",
       "      <td>4.0 miles</td>\n",
       "      <td>City centre</td>\n",
       "      <td>4.0 miles</td>\n",
       "      <td>Zagreb City Museum</td>\n",
       "      <td>Zagreb</td>\n",
       "      <td>77</td>\n",
       "      <td>price for 1 night</td>\n",
       "      <td>...</td>\n",
       "      <td>0</td>\n",
       "      <td>0% no offer</td>\n",
       "      <td>2017</td>\n",
       "      <td>12</td>\n",
       "      <td>0</td>\n",
       "      <td>1</td>\n",
       "      <td>1</td>\n",
       "      <td>Apartment</td>\n",
       "      <td>NaN</td>\n",
       "      <td>4.0</td>\n",
       "    </tr>\n",
       "    <tr>\n",
       "      <th>149950</th>\n",
       "      <td>Croatia</td>\n",
       "      <td>Zagreb</td>\n",
       "      <td>NaN</td>\n",
       "      <td>4.0 miles</td>\n",
       "      <td>City centre</td>\n",
       "      <td>4.0 miles</td>\n",
       "      <td>Zagreb City Museum</td>\n",
       "      <td>Zagreb</td>\n",
       "      <td>77</td>\n",
       "      <td>price for 1 night</td>\n",
       "      <td>...</td>\n",
       "      <td>0</td>\n",
       "      <td>0% no offer</td>\n",
       "      <td>2017</td>\n",
       "      <td>11</td>\n",
       "      <td>0</td>\n",
       "      <td>0</td>\n",
       "      <td>1</td>\n",
       "      <td>Apartment</td>\n",
       "      <td>NaN</td>\n",
       "      <td>4.0</td>\n",
       "    </tr>\n",
       "    <tr>\n",
       "      <th>149951</th>\n",
       "      <td>Croatia</td>\n",
       "      <td>Zagreb</td>\n",
       "      <td>NaN</td>\n",
       "      <td>4.0 miles</td>\n",
       "      <td>City centre</td>\n",
       "      <td>4.0 miles</td>\n",
       "      <td>Zagreb City Museum</td>\n",
       "      <td>Zagreb</td>\n",
       "      <td>77</td>\n",
       "      <td>price for 1 night</td>\n",
       "      <td>...</td>\n",
       "      <td>0</td>\n",
       "      <td>0% no offer</td>\n",
       "      <td>2018</td>\n",
       "      <td>4</td>\n",
       "      <td>1</td>\n",
       "      <td>0</td>\n",
       "      <td>1</td>\n",
       "      <td>Apartment</td>\n",
       "      <td>NaN</td>\n",
       "      <td>4.0</td>\n",
       "    </tr>\n",
       "  </tbody>\n",
       "</table>\n",
       "<p>10587 rows × 28 columns</p>\n",
       "</div>"
      ],
      "text/plain": [
       "            country city_actual  rating_count center1distance center1label  \\\n",
       "414     Netherlands   Amsterdam           NaN       2.4 miles  City centre   \n",
       "415     Netherlands   Amsterdam           NaN       2.4 miles  City centre   \n",
       "416     Netherlands   Amsterdam           NaN       2.4 miles  City centre   \n",
       "542     Netherlands   Amsterdam           NaN       4.7 miles  City centre   \n",
       "1059    Netherlands   Amsterdam           NaN       0.7 miles  City centre   \n",
       "...             ...         ...           ...             ...          ...   \n",
       "149947      Croatia      Zagreb           NaN       4.0 miles  City centre   \n",
       "149948      Croatia      Zagreb           NaN       4.0 miles  City centre   \n",
       "149949      Croatia      Zagreb           NaN       4.0 miles  City centre   \n",
       "149950      Croatia      Zagreb           NaN       4.0 miles  City centre   \n",
       "149951      Croatia      Zagreb           NaN       4.0 miles  City centre   \n",
       "\n",
       "       center2distance        center2label                 neighbourhood  \\\n",
       "414          3.0 miles    Montelbaanstoren                Amsterdam West   \n",
       "415          3.0 miles    Montelbaanstoren                Amsterdam West   \n",
       "416          3.0 miles    Montelbaanstoren                Amsterdam West   \n",
       "542          5.1 miles    Montelbaanstoren                Amsterdam West   \n",
       "1059         0.2 miles    Montelbaanstoren  Dam Square - Central Station   \n",
       "...                ...                 ...                           ...   \n",
       "149947       4.0 miles  Zagreb City Museum                        Zagreb   \n",
       "149948       4.0 miles  Zagreb City Museum                        Zagreb   \n",
       "149949       4.0 miles  Zagreb City Museum                        Zagreb   \n",
       "149950       4.0 miles  Zagreb City Museum                        Zagreb   \n",
       "149951       4.0 miles  Zagreb City Museum                        Zagreb   \n",
       "\n",
       "        price         price_night  ... offer     offer_cat  year  month  \\\n",
       "414       175   price for 1 night  ...     1  15-50% offer  2018      6   \n",
       "415       221   price for 1 night  ...     1  15-50% offer  2018      2   \n",
       "416       249   price for 1 night  ...     1  15-50% offer  2018      4   \n",
       "542      1496  price for 4 nights  ...     0   0% no offer  2017     12   \n",
       "1059      232   price for 1 night  ...     0   0% no offer  2018      6   \n",
       "...       ...                 ...  ...   ...           ...   ...    ...   \n",
       "149947     77   price for 1 night  ...     0   0% no offer  2018      5   \n",
       "149948    311  price for 4 nights  ...     0   0% no offer  2017     12   \n",
       "149949     77   price for 1 night  ...     0   0% no offer  2017     12   \n",
       "149950     77   price for 1 night  ...     0   0% no offer  2017     11   \n",
       "149951     77   price for 1 night  ...     0   0% no offer  2018      4   \n",
       "\n",
       "       weekend holiday  nnights   acc_type  ratings distance_miles  \n",
       "414          1       0        1      Hotel      NaN            2.4  \n",
       "415          1       0        1      Hotel      NaN            2.4  \n",
       "416          1       0        1      Hotel      NaN            2.4  \n",
       "542          0       1        1  Apartment      NaN            4.7  \n",
       "1059         1       0        1      Hotel      NaN            0.7  \n",
       "...        ...     ...      ...        ...      ...            ...  \n",
       "149947       1       0        1  Apartment      NaN            4.0  \n",
       "149948       0       1        1  Apartment      NaN            4.0  \n",
       "149949       0       1        1  Apartment      NaN            4.0  \n",
       "149950       0       0        1  Apartment      NaN            4.0  \n",
       "149951       1       0        1  Apartment      NaN            4.0  \n",
       "\n",
       "[10587 rows x 28 columns]"
      ]
     },
     "execution_count": 52,
     "metadata": {},
     "output_type": "execute_result"
    }
   ],
   "source": [
    "# Check out data for which ratings is missing\n",
    "df.loc[df['ratings'].isnull()]"
   ]
  },
  {
   "cell_type": "code",
   "execution_count": 53,
   "id": "ef0ac798",
   "metadata": {},
   "outputs": [],
   "source": [
    "# Often we want to drop missing observations for key variables\n",
    "# Two ways:\n",
    "# 1.\n",
    "#df = df.loc[df[\"ratings\"].notnull()]\n",
    "\n",
    "# 2.\n",
    "df = df.dropna(subset=[\"ratings\"])"
   ]
  },
  {
   "cell_type": "code",
   "execution_count": 54,
   "id": "d5a0d91b",
   "metadata": {},
   "outputs": [
    {
     "name": "stdout",
     "output_type": "stream",
     "text": [
      "Now there are 0 observations missing.\n"
     ]
    }
   ],
   "source": [
    "# Did it work?\n",
    "print(f'Now there are {df[\"ratings\"].isnull().sum()} observations missing.')"
   ]
  },
  {
   "cell_type": "markdown",
   "id": "50bea265",
   "metadata": {},
   "source": [
    "## Wrongly documented observations\n",
    "For the `stars` column, there are values form 0-5. Minimum should be 1 and not 0!"
   ]
  },
  {
   "cell_type": "code",
   "execution_count": 55,
   "id": "ad0e444e",
   "metadata": {},
   "outputs": [
    {
     "data": {
      "text/plain": [
       "stars\n",
       "3.0    41692\n",
       "4.0    38583\n",
       "0.0    22451\n",
       "2.0    13360\n",
       "5.0     8346\n",
       "3.5     7797\n",
       "2.5     2940\n",
       "1.0     2383\n",
       "4.5     1661\n",
       "1.5      166\n",
       "Name: count, dtype: int64"
      ]
     },
     "execution_count": 55,
     "metadata": {},
     "output_type": "execute_result"
    }
   ],
   "source": [
    "# Check out distribution of star ratings\n",
    "df.stars.value_counts()"
   ]
  },
  {
   "cell_type": "code",
   "execution_count": 58,
   "id": "39ffa8c4",
   "metadata": {},
   "outputs": [
    {
     "name": "stderr",
     "output_type": "stream",
     "text": [
      "C:\\Users\\uwohak\\AppData\\Local\\Temp/ipykernel_9300/3925616978.py:2: SettingWithCopyWarning: \n",
      "A value is trying to be set on a copy of a slice from a DataFrame.\n",
      "Try using .loc[row_indexer,col_indexer] = value instead\n",
      "\n",
      "See the caveats in the documentation: https://pandas.pydata.org/pandas-docs/stable/user_guide/indexing.html#returning-a-view-versus-a-copy\n",
      "  df[\"stars\"] = np.where(df[\"stars\"] == 0.0, 1.0, df[\"stars\"])\n"
     ]
    }
   ],
   "source": [
    "# Now want to replace the 0.0s with 1.0s using np.where()\n",
    "df[\"stars\"] = np.where(df[\"stars\"] == 0.0, 1.0, df[\"stars\"])"
   ]
  },
  {
   "cell_type": "code",
   "execution_count": 59,
   "id": "e60ae876",
   "metadata": {},
   "outputs": [
    {
     "data": {
      "text/plain": [
       "stars\n",
       "3.0    41692\n",
       "4.0    38583\n",
       "1.0    24834\n",
       "2.0    13360\n",
       "5.0     8346\n",
       "3.5     7797\n",
       "2.5     2940\n",
       "4.5     1661\n",
       "1.5      166\n",
       "Name: count, dtype: int64"
      ]
     },
     "execution_count": 59,
     "metadata": {},
     "output_type": "execute_result"
    }
   ],
   "source": [
    "df.stars.value_counts()"
   ]
  },
  {
   "cell_type": "code",
   "execution_count": 62,
   "id": "05d284a2",
   "metadata": {},
   "outputs": [
    {
     "name": "stdout",
     "output_type": "stream",
     "text": [
      "We have 1761 duplicates in terms of all variables.\n"
     ]
    }
   ],
   "source": [
    "# Check for duplicates\n",
    "print(f'We have {df.duplicated().sum()} duplicates in terms of all variables.')"
   ]
  },
  {
   "cell_type": "code",
   "execution_count": 64,
   "id": "93647b08",
   "metadata": {},
   "outputs": [],
   "source": [
    "# Don't really need duplicated variables (in terms of all variables)\n",
    "df = df.drop_duplicates()"
   ]
  },
  {
   "cell_type": "code",
   "execution_count": 65,
   "id": "45b7a57b",
   "metadata": {},
   "outputs": [
    {
     "data": {
      "text/plain": [
       "(137618, 28)"
      ]
     },
     "execution_count": 65,
     "metadata": {},
     "output_type": "execute_result"
    }
   ],
   "source": [
    "df.shape # nr rows and cols"
   ]
  },
  {
   "cell_type": "code",
   "execution_count": 66,
   "id": "68d9deaa",
   "metadata": {},
   "outputs": [
    {
     "name": "stdout",
     "output_type": "stream",
     "text": [
      "We now have 137618 observations left.\n"
     ]
    }
   ],
   "source": [
    "# How many observations do we have left?\n",
    "print(f'We now have {df.shape[0]} observations left.')"
   ]
  },
  {
   "cell_type": "markdown",
   "id": "ea839ec8",
   "metadata": {},
   "source": [
    "## Task\n",
    "We are interested in the following data:\n",
    "1. Get hotels from Vienna only\n",
    "2. only in 2017, November\n",
    "3. Hotels types with more than (or equal to) 3 stars\n",
    "4. drop observations with price > 1000EUR\n",
    "\n",
    "Create a DataFrame `df_vienna` that only included information specified above."
   ]
  },
  {
   "cell_type": "code",
   "execution_count": 67,
   "id": "9df5a8e8",
   "metadata": {},
   "outputs": [],
   "source": [
    "# We can use .loc[] to filter out the observations we need\n",
    "df_vienna = df.loc[df.city == \"Vienna\"]"
   ]
  },
  {
   "cell_type": "code",
   "execution_count": 81,
   "id": "9f2dde05",
   "metadata": {},
   "outputs": [
    {
     "name": "stdout",
     "output_type": "stream",
     "text": [
      "Variables city and city_actual are identical for 118380 observations.\n"
     ]
    }
   ],
   "source": [
    "# But wait, there are are two city variables; are they different?\n",
    "# Let's count how often they are the same.\n",
    "print(f'Variables city and city_actual are identical for {(df.city == df.city_actual).sum()} observations.')"
   ]
  },
  {
   "cell_type": "code",
   "execution_count": 79,
   "id": "2859464e",
   "metadata": {},
   "outputs": [
    {
     "data": {
      "text/html": [
       "<div>\n",
       "<style scoped>\n",
       "    .dataframe tbody tr th:only-of-type {\n",
       "        vertical-align: middle;\n",
       "    }\n",
       "\n",
       "    .dataframe tbody tr th {\n",
       "        vertical-align: top;\n",
       "    }\n",
       "\n",
       "    .dataframe thead th {\n",
       "        text-align: right;\n",
       "    }\n",
       "</style>\n",
       "<table border=\"1\" class=\"dataframe\">\n",
       "  <thead>\n",
       "    <tr style=\"text-align: right;\">\n",
       "      <th></th>\n",
       "      <th>city</th>\n",
       "      <th>city_actual</th>\n",
       "    </tr>\n",
       "  </thead>\n",
       "  <tbody>\n",
       "    <tr>\n",
       "      <th>561</th>\n",
       "      <td>Amsterdam</td>\n",
       "      <td>Badhoevedorp</td>\n",
       "    </tr>\n",
       "    <tr>\n",
       "      <th>562</th>\n",
       "      <td>Amsterdam</td>\n",
       "      <td>Badhoevedorp</td>\n",
       "    </tr>\n",
       "    <tr>\n",
       "      <th>563</th>\n",
       "      <td>Amsterdam</td>\n",
       "      <td>Badhoevedorp</td>\n",
       "    </tr>\n",
       "    <tr>\n",
       "      <th>564</th>\n",
       "      <td>Amsterdam</td>\n",
       "      <td>Badhoevedorp</td>\n",
       "    </tr>\n",
       "    <tr>\n",
       "      <th>565</th>\n",
       "      <td>Amsterdam</td>\n",
       "      <td>Badhoevedorp</td>\n",
       "    </tr>\n",
       "    <tr>\n",
       "      <th>...</th>\n",
       "      <td>...</td>\n",
       "      <td>...</td>\n",
       "    </tr>\n",
       "    <tr>\n",
       "      <th>148958</th>\n",
       "      <td>Warsaw</td>\n",
       "      <td>Raszyn</td>\n",
       "    </tr>\n",
       "    <tr>\n",
       "      <th>148959</th>\n",
       "      <td>Warsaw</td>\n",
       "      <td>Raszyn</td>\n",
       "    </tr>\n",
       "    <tr>\n",
       "      <th>148960</th>\n",
       "      <td>Warsaw</td>\n",
       "      <td>Raszyn</td>\n",
       "    </tr>\n",
       "    <tr>\n",
       "      <th>148961</th>\n",
       "      <td>Warsaw</td>\n",
       "      <td>Raszyn</td>\n",
       "    </tr>\n",
       "    <tr>\n",
       "      <th>148962</th>\n",
       "      <td>Warsaw</td>\n",
       "      <td>Raszyn</td>\n",
       "    </tr>\n",
       "  </tbody>\n",
       "</table>\n",
       "<p>19238 rows × 2 columns</p>\n",
       "</div>"
      ],
      "text/plain": [
       "             city   city_actual\n",
       "561     Amsterdam  Badhoevedorp\n",
       "562     Amsterdam  Badhoevedorp\n",
       "563     Amsterdam  Badhoevedorp\n",
       "564     Amsterdam  Badhoevedorp\n",
       "565     Amsterdam  Badhoevedorp\n",
       "...           ...           ...\n",
       "148958     Warsaw        Raszyn\n",
       "148959     Warsaw        Raszyn\n",
       "148960     Warsaw        Raszyn\n",
       "148961     Warsaw        Raszyn\n",
       "148962     Warsaw        Raszyn\n",
       "\n",
       "[19238 rows x 2 columns]"
      ]
     },
     "execution_count": 79,
     "metadata": {},
     "output_type": "execute_result"
    }
   ],
   "source": [
    "# Let's investigate further. What value does city and city_actual have when they are different?\n",
    "df[[\"city\", \"city_actual\"]].loc[df.city != df.city_actual] # city_actual seems to be more granular information."
   ]
  },
  {
   "cell_type": "code",
   "execution_count": 82,
   "id": "9420099c",
   "metadata": {},
   "outputs": [],
   "source": [
    "# Back to the task: only Vienna hotels in 2017 November\n",
    "# First option:\n",
    "# df_vienna = df_vienna.loc[df_vienna.year == 2017]\n",
    "# df_vienna = df_vienna.loc[df_vienna.month == 11]\n",
    "\n",
    "# Second option: compound logical filtering\n",
    "df_vienna = df_vienna.loc[(df_vienna.year == 2017) & (df_vienna.month == 11)]\n",
    "\n",
    "# the \"and\" logical condition is \"lazy evaluation\". Google to find out more!"
   ]
  },
  {
   "cell_type": "code",
   "execution_count": 83,
   "id": "3f553000",
   "metadata": {},
   "outputs": [],
   "source": [
    "# Filter out hotels with price > 1000EUR\n",
    "df_vienna = df_vienna.loc[df_vienna.price <= 1000]"
   ]
  },
  {
   "cell_type": "code",
   "execution_count": 86,
   "id": "985e3ee1",
   "metadata": {},
   "outputs": [
    {
     "data": {
      "text/html": [
       "<div>\n",
       "<style scoped>\n",
       "    .dataframe tbody tr th:only-of-type {\n",
       "        vertical-align: middle;\n",
       "    }\n",
       "\n",
       "    .dataframe tbody tr th {\n",
       "        vertical-align: top;\n",
       "    }\n",
       "\n",
       "    .dataframe thead th {\n",
       "        text-align: right;\n",
       "    }\n",
       "</style>\n",
       "<table border=\"1\" class=\"dataframe\">\n",
       "  <thead>\n",
       "    <tr style=\"text-align: right;\">\n",
       "      <th></th>\n",
       "      <th>country</th>\n",
       "      <th>city_actual</th>\n",
       "      <th>rating_count</th>\n",
       "      <th>center1distance</th>\n",
       "      <th>center1label</th>\n",
       "      <th>center2distance</th>\n",
       "      <th>center2label</th>\n",
       "      <th>neighbourhood</th>\n",
       "      <th>price</th>\n",
       "      <th>price_night</th>\n",
       "      <th>...</th>\n",
       "      <th>offer</th>\n",
       "      <th>offer_cat</th>\n",
       "      <th>year</th>\n",
       "      <th>month</th>\n",
       "      <th>weekend</th>\n",
       "      <th>holiday</th>\n",
       "      <th>nnights</th>\n",
       "      <th>acc_type</th>\n",
       "      <th>ratings</th>\n",
       "      <th>distance_miles</th>\n",
       "    </tr>\n",
       "  </thead>\n",
       "  <tbody>\n",
       "    <tr>\n",
       "      <th>142343</th>\n",
       "      <td>Austria</td>\n",
       "      <td>Vienna</td>\n",
       "      <td>36.0</td>\n",
       "      <td>2.7 miles</td>\n",
       "      <td>City centre</td>\n",
       "      <td>4.4 miles</td>\n",
       "      <td>Donauturm</td>\n",
       "      <td>17. Hernals</td>\n",
       "      <td>81</td>\n",
       "      <td>price for 1 night</td>\n",
       "      <td>...</td>\n",
       "      <td>1</td>\n",
       "      <td>15-50% offer</td>\n",
       "      <td>2017</td>\n",
       "      <td>11</td>\n",
       "      <td>0</td>\n",
       "      <td>0</td>\n",
       "      <td>1</td>\n",
       "      <td>Apartment</td>\n",
       "      <td>4.4</td>\n",
       "      <td>2.7</td>\n",
       "    </tr>\n",
       "    <tr>\n",
       "      <th>142345</th>\n",
       "      <td>Austria</td>\n",
       "      <td>Vienna</td>\n",
       "      <td>36.0</td>\n",
       "      <td>2.7 miles</td>\n",
       "      <td>City centre</td>\n",
       "      <td>4.4 miles</td>\n",
       "      <td>Donauturm</td>\n",
       "      <td>17. Hernals</td>\n",
       "      <td>103</td>\n",
       "      <td>price for 1 night</td>\n",
       "      <td>...</td>\n",
       "      <td>0</td>\n",
       "      <td>0% no offer</td>\n",
       "      <td>2017</td>\n",
       "      <td>11</td>\n",
       "      <td>1</td>\n",
       "      <td>0</td>\n",
       "      <td>1</td>\n",
       "      <td>Apartment</td>\n",
       "      <td>4.4</td>\n",
       "      <td>2.7</td>\n",
       "    </tr>\n",
       "    <tr>\n",
       "      <th>142356</th>\n",
       "      <td>Austria</td>\n",
       "      <td>Vienna</td>\n",
       "      <td>189.0</td>\n",
       "      <td>1.7 miles</td>\n",
       "      <td>City centre</td>\n",
       "      <td>3.8 miles</td>\n",
       "      <td>Donauturm</td>\n",
       "      <td>17. Hernals</td>\n",
       "      <td>81</td>\n",
       "      <td>price for 1 night</td>\n",
       "      <td>...</td>\n",
       "      <td>1</td>\n",
       "      <td>1-15% offer</td>\n",
       "      <td>2017</td>\n",
       "      <td>11</td>\n",
       "      <td>0</td>\n",
       "      <td>0</td>\n",
       "      <td>1</td>\n",
       "      <td>Hotel</td>\n",
       "      <td>3.9</td>\n",
       "      <td>1.7</td>\n",
       "    </tr>\n",
       "    <tr>\n",
       "      <th>142364</th>\n",
       "      <td>Austria</td>\n",
       "      <td>Vienna</td>\n",
       "      <td>189.0</td>\n",
       "      <td>1.7 miles</td>\n",
       "      <td>City centre</td>\n",
       "      <td>3.8 miles</td>\n",
       "      <td>Donauturm</td>\n",
       "      <td>17. Hernals</td>\n",
       "      <td>107</td>\n",
       "      <td>price for 1 night</td>\n",
       "      <td>...</td>\n",
       "      <td>0</td>\n",
       "      <td>0% no offer</td>\n",
       "      <td>2017</td>\n",
       "      <td>11</td>\n",
       "      <td>1</td>\n",
       "      <td>0</td>\n",
       "      <td>1</td>\n",
       "      <td>Hotel</td>\n",
       "      <td>3.9</td>\n",
       "      <td>1.7</td>\n",
       "    </tr>\n",
       "    <tr>\n",
       "      <th>142368</th>\n",
       "      <td>Austria</td>\n",
       "      <td>Vienna</td>\n",
       "      <td>8.0</td>\n",
       "      <td>2.4 miles</td>\n",
       "      <td>City centre</td>\n",
       "      <td>4.5 miles</td>\n",
       "      <td>Donauturm</td>\n",
       "      <td>17. Hernals</td>\n",
       "      <td>180</td>\n",
       "      <td>price for 1 night</td>\n",
       "      <td>...</td>\n",
       "      <td>0</td>\n",
       "      <td>0% no offer</td>\n",
       "      <td>2017</td>\n",
       "      <td>11</td>\n",
       "      <td>1</td>\n",
       "      <td>0</td>\n",
       "      <td>1</td>\n",
       "      <td>Apartment</td>\n",
       "      <td>4.0</td>\n",
       "      <td>2.4</td>\n",
       "    </tr>\n",
       "  </tbody>\n",
       "</table>\n",
       "<p>5 rows × 28 columns</p>\n",
       "</div>"
      ],
      "text/plain": [
       "        country city_actual  rating_count center1distance center1label  \\\n",
       "142343  Austria      Vienna          36.0       2.7 miles  City centre   \n",
       "142345  Austria      Vienna          36.0       2.7 miles  City centre   \n",
       "142356  Austria      Vienna         189.0       1.7 miles  City centre   \n",
       "142364  Austria      Vienna         189.0       1.7 miles  City centre   \n",
       "142368  Austria      Vienna           8.0       2.4 miles  City centre   \n",
       "\n",
       "       center2distance center2label neighbourhood  price        price_night  \\\n",
       "142343       4.4 miles    Donauturm   17. Hernals     81  price for 1 night   \n",
       "142345       4.4 miles    Donauturm   17. Hernals    103  price for 1 night   \n",
       "142356       3.8 miles    Donauturm   17. Hernals     81  price for 1 night   \n",
       "142364       3.8 miles    Donauturm   17. Hernals    107  price for 1 night   \n",
       "142368       4.5 miles    Donauturm   17. Hernals    180  price for 1 night   \n",
       "\n",
       "        ... offer     offer_cat  year  month weekend holiday  nnights  \\\n",
       "142343  ...     1  15-50% offer  2017     11       0       0        1   \n",
       "142345  ...     0   0% no offer  2017     11       1       0        1   \n",
       "142356  ...     1   1-15% offer  2017     11       0       0        1   \n",
       "142364  ...     0   0% no offer  2017     11       1       0        1   \n",
       "142368  ...     0   0% no offer  2017     11       1       0        1   \n",
       "\n",
       "         acc_type  ratings distance_miles  \n",
       "142343  Apartment      4.4            2.7  \n",
       "142345  Apartment      4.4            2.7  \n",
       "142356      Hotel      3.9            1.7  \n",
       "142364      Hotel      3.9            1.7  \n",
       "142368  Apartment      4.0            2.4  \n",
       "\n",
       "[5 rows x 28 columns]"
      ]
     },
     "execution_count": 86,
     "metadata": {},
     "output_type": "execute_result"
    }
   ],
   "source": [
    "df_vienna.head()"
   ]
  },
  {
   "cell_type": "code",
   "execution_count": null,
   "id": "ac10d154",
   "metadata": {},
   "outputs": [],
   "source": [
    "# Yay, finished!"
   ]
  }
 ],
 "metadata": {
  "kernelspec": {
   "display_name": "Python 3 (ipykernel)",
   "language": "python",
   "name": "python3"
  },
  "language_info": {
   "codemirror_mode": {
    "name": "ipython",
    "version": 3
   },
   "file_extension": ".py",
   "mimetype": "text/x-python",
   "name": "python",
   "nbconvert_exporter": "python",
   "pygments_lexer": "ipython3",
   "version": "3.8.5"
  }
 },
 "nbformat": 4,
 "nbformat_minor": 5
}
