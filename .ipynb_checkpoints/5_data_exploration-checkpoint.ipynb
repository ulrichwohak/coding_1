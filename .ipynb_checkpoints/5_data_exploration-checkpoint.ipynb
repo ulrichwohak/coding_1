{
 "cells": [
  {
   "cell_type": "markdown",
   "id": "16b59bf6",
   "metadata": {},
   "source": [
    "# Data exploration"
   ]
  },
  {
   "cell_type": "code",
   "execution_count": 1,
   "id": "fa80e9bc",
   "metadata": {},
   "outputs": [],
   "source": [
    "import numpy as np\n",
    "import pandas as pd\n",
    "import matplotlib.pyplot as plt\n",
    "\n",
    "%matplotlib inline"
   ]
  },
  {
   "cell_type": "code",
   "execution_count": 2,
   "id": "57a45017",
   "metadata": {},
   "outputs": [],
   "source": [
    "# Load data\n",
    "bpp_original = pd.read_csv(\"https://osf.io/yhbr5/download\", encoding=\"latin-1\")"
   ]
  },
  {
   "cell_type": "code",
   "execution_count": 3,
   "id": "20c7060d",
   "metadata": {},
   "outputs": [
    {
     "data": {
      "text/html": [
       "<div>\n",
       "<style scoped>\n",
       "    .dataframe tbody tr th:only-of-type {\n",
       "        vertical-align: middle;\n",
       "    }\n",
       "\n",
       "    .dataframe tbody tr th {\n",
       "        vertical-align: top;\n",
       "    }\n",
       "\n",
       "    .dataframe thead th {\n",
       "        text-align: right;\n",
       "    }\n",
       "</style>\n",
       "<table border=\"1\" class=\"dataframe\">\n",
       "  <thead>\n",
       "    <tr style=\"text-align: right;\">\n",
       "      <th></th>\n",
       "      <th>COUNTRY</th>\n",
       "      <th>retailer</th>\n",
       "      <th>retailer_s</th>\n",
       "      <th>date</th>\n",
       "      <th>day</th>\n",
       "      <th>month</th>\n",
       "      <th>year</th>\n",
       "      <th>id</th>\n",
       "      <th>price</th>\n",
       "      <th>price_online</th>\n",
       "      <th>...</th>\n",
       "      <th>DEVICEID</th>\n",
       "      <th>TIME</th>\n",
       "      <th>ZIPCODE</th>\n",
       "      <th>PHOTO</th>\n",
       "      <th>OTHERSKUITEM</th>\n",
       "      <th>COMMENTS</th>\n",
       "      <th>PRICETYPE</th>\n",
       "      <th>CODE</th>\n",
       "      <th>sale_online</th>\n",
       "      <th>country_s</th>\n",
       "    </tr>\n",
       "  </thead>\n",
       "  <tbody>\n",
       "    <tr>\n",
       "      <th>0</th>\n",
       "      <td>ARGENTINA</td>\n",
       "      <td>1</td>\n",
       "      <td>ARGENTINA_1</td>\n",
       "      <td>2015-03-19</td>\n",
       "      <td>19.0</td>\n",
       "      <td>3.0</td>\n",
       "      <td>2015.0</td>\n",
       "      <td>201209030113</td>\n",
       "      <td>429.0</td>\n",
       "      <td>429.0</td>\n",
       "      <td>...</td>\n",
       "      <td>891df49fb1b12aa0</td>\n",
       "      <td>21:03</td>\n",
       "      <td>8300</td>\n",
       "      <td>20150319_210351.jpg</td>\n",
       "      <td>NaN</td>\n",
       "      <td>NaN</td>\n",
       "      <td>NaN</td>\n",
       "      <td>124816.0</td>\n",
       "      <td>NaN</td>\n",
       "      <td>Argentina</td>\n",
       "    </tr>\n",
       "    <tr>\n",
       "      <th>1</th>\n",
       "      <td>ARGENTINA</td>\n",
       "      <td>1</td>\n",
       "      <td>ARGENTINA_1</td>\n",
       "      <td>2015-03-19</td>\n",
       "      <td>19.0</td>\n",
       "      <td>3.0</td>\n",
       "      <td>2015.0</td>\n",
       "      <td>4710268235965</td>\n",
       "      <td>189.0</td>\n",
       "      <td>189.0</td>\n",
       "      <td>...</td>\n",
       "      <td>891df49fb1b12aa0</td>\n",
       "      <td>21:26</td>\n",
       "      <td>8300</td>\n",
       "      <td>20150319_212653.jpg</td>\n",
       "      <td>NaN</td>\n",
       "      <td>NaN</td>\n",
       "      <td>NaN</td>\n",
       "      <td>124816.0</td>\n",
       "      <td>NaN</td>\n",
       "      <td>Argentina</td>\n",
       "    </tr>\n",
       "    <tr>\n",
       "      <th>2</th>\n",
       "      <td>ARGENTINA</td>\n",
       "      <td>1</td>\n",
       "      <td>ARGENTINA_1</td>\n",
       "      <td>2015-03-19</td>\n",
       "      <td>19.0</td>\n",
       "      <td>3.0</td>\n",
       "      <td>2015.0</td>\n",
       "      <td>4905524916874</td>\n",
       "      <td>6999.0</td>\n",
       "      <td>6999.0</td>\n",
       "      <td>...</td>\n",
       "      <td>891df49fb1b12aa0</td>\n",
       "      <td>21:19</td>\n",
       "      <td>8300</td>\n",
       "      <td>20150319_211929.jpg</td>\n",
       "      <td>NaN</td>\n",
       "      <td>NaN</td>\n",
       "      <td>NaN</td>\n",
       "      <td>124816.0</td>\n",
       "      <td>NaN</td>\n",
       "      <td>Argentina</td>\n",
       "    </tr>\n",
       "    <tr>\n",
       "      <th>3</th>\n",
       "      <td>ARGENTINA</td>\n",
       "      <td>1</td>\n",
       "      <td>ARGENTINA_1</td>\n",
       "      <td>2015-03-19</td>\n",
       "      <td>19.0</td>\n",
       "      <td>3.0</td>\n",
       "      <td>2015.0</td>\n",
       "      <td>4905524925784</td>\n",
       "      <td>1999.0</td>\n",
       "      <td>2099.0</td>\n",
       "      <td>...</td>\n",
       "      <td>891df49fb1b12aa0</td>\n",
       "      <td>21:08</td>\n",
       "      <td>8300</td>\n",
       "      <td>20150319_210847.jpg</td>\n",
       "      <td>NaN</td>\n",
       "      <td>NaN</td>\n",
       "      <td>NaN</td>\n",
       "      <td>124816.0</td>\n",
       "      <td>NaN</td>\n",
       "      <td>Argentina</td>\n",
       "    </tr>\n",
       "    <tr>\n",
       "      <th>4</th>\n",
       "      <td>ARGENTINA</td>\n",
       "      <td>1</td>\n",
       "      <td>ARGENTINA_1</td>\n",
       "      <td>2015-03-19</td>\n",
       "      <td>19.0</td>\n",
       "      <td>3.0</td>\n",
       "      <td>2015.0</td>\n",
       "      <td>4905524931310</td>\n",
       "      <td>2899.0</td>\n",
       "      <td>2899.0</td>\n",
       "      <td>...</td>\n",
       "      <td>891df49fb1b12aa0</td>\n",
       "      <td>21:06</td>\n",
       "      <td>8300</td>\n",
       "      <td>20150319_210627.jpg</td>\n",
       "      <td>NaN</td>\n",
       "      <td>NaN</td>\n",
       "      <td>NaN</td>\n",
       "      <td>124816.0</td>\n",
       "      <td>NaN</td>\n",
       "      <td>Argentina</td>\n",
       "    </tr>\n",
       "  </tbody>\n",
       "</table>\n",
       "<p>5 rows × 21 columns</p>\n",
       "</div>"
      ],
      "text/plain": [
       "     COUNTRY  retailer   retailer_s        date   day  month    year  \\\n",
       "0  ARGENTINA         1  ARGENTINA_1  2015-03-19  19.0    3.0  2015.0   \n",
       "1  ARGENTINA         1  ARGENTINA_1  2015-03-19  19.0    3.0  2015.0   \n",
       "2  ARGENTINA         1  ARGENTINA_1  2015-03-19  19.0    3.0  2015.0   \n",
       "3  ARGENTINA         1  ARGENTINA_1  2015-03-19  19.0    3.0  2015.0   \n",
       "4  ARGENTINA         1  ARGENTINA_1  2015-03-19  19.0    3.0  2015.0   \n",
       "\n",
       "              id   price  price_online  ...          DEVICEID   TIME ZIPCODE  \\\n",
       "0   201209030113   429.0         429.0  ...  891df49fb1b12aa0  21:03    8300   \n",
       "1  4710268235965   189.0         189.0  ...  891df49fb1b12aa0  21:26    8300   \n",
       "2  4905524916874  6999.0        6999.0  ...  891df49fb1b12aa0  21:19    8300   \n",
       "3  4905524925784  1999.0        2099.0  ...  891df49fb1b12aa0  21:08    8300   \n",
       "4  4905524931310  2899.0        2899.0  ...  891df49fb1b12aa0  21:06    8300   \n",
       "\n",
       "                 PHOTO OTHERSKUITEM COMMENTS PRICETYPE      CODE  sale_online  \\\n",
       "0  20150319_210351.jpg          NaN      NaN       NaN  124816.0          NaN   \n",
       "1  20150319_212653.jpg          NaN      NaN       NaN  124816.0          NaN   \n",
       "2  20150319_211929.jpg          NaN      NaN       NaN  124816.0          NaN   \n",
       "3  20150319_210847.jpg          NaN      NaN       NaN  124816.0          NaN   \n",
       "4  20150319_210627.jpg          NaN      NaN       NaN  124816.0          NaN   \n",
       "\n",
       "   country_s  \n",
       "0  Argentina  \n",
       "1  Argentina  \n",
       "2  Argentina  \n",
       "3  Argentina  \n",
       "4  Argentina  \n",
       "\n",
       "[5 rows x 21 columns]"
      ]
     },
     "execution_count": 3,
     "metadata": {},
     "output_type": "execute_result"
    }
   ],
   "source": [
    "bpp_original.head()"
   ]
  },
  {
   "cell_type": "code",
   "execution_count": 4,
   "id": "52f09cfe",
   "metadata": {},
   "outputs": [],
   "source": [
    "# Create variable equal to price offline vs price online\n",
    "bpp_original[\"p_diff\"] = bpp_original[\"price_online\"] - bpp_original[\"price\"]"
   ]
  },
  {
   "cell_type": "markdown",
   "id": "22955fa2",
   "metadata": {},
   "source": [
    "### Descriptive statistics"
   ]
  },
  {
   "cell_type": "code",
   "execution_count": 5,
   "id": "0e4f2d52",
   "metadata": {},
   "outputs": [
    {
     "data": {
      "text/html": [
       "<div>\n",
       "<style scoped>\n",
       "    .dataframe tbody tr th:only-of-type {\n",
       "        vertical-align: middle;\n",
       "    }\n",
       "\n",
       "    .dataframe tbody tr th {\n",
       "        vertical-align: top;\n",
       "    }\n",
       "\n",
       "    .dataframe thead th {\n",
       "        text-align: right;\n",
       "    }\n",
       "</style>\n",
       "<table border=\"1\" class=\"dataframe\">\n",
       "  <thead>\n",
       "    <tr style=\"text-align: right;\">\n",
       "      <th></th>\n",
       "      <th>retailer</th>\n",
       "      <th>day</th>\n",
       "      <th>month</th>\n",
       "      <th>year</th>\n",
       "      <th>price</th>\n",
       "      <th>price_online</th>\n",
       "      <th>imputed</th>\n",
       "      <th>CODE</th>\n",
       "      <th>sale_online</th>\n",
       "      <th>p_diff</th>\n",
       "    </tr>\n",
       "  </thead>\n",
       "  <tbody>\n",
       "    <tr>\n",
       "      <th>count</th>\n",
       "      <td>45253.000000</td>\n",
       "      <td>44928.000000</td>\n",
       "      <td>44928.000000</td>\n",
       "      <td>44928.000000</td>\n",
       "      <td>4.525300e+04</td>\n",
       "      <td>45253.000000</td>\n",
       "      <td>22414.0</td>\n",
       "      <td>42233.000000</td>\n",
       "      <td>4144.0</td>\n",
       "      <td>4.525300e+04</td>\n",
       "    </tr>\n",
       "    <tr>\n",
       "      <th>mean</th>\n",
       "      <td>34.087751</td>\n",
       "      <td>15.743523</td>\n",
       "      <td>5.301126</td>\n",
       "      <td>2015.079817</td>\n",
       "      <td>1.737368e+04</td>\n",
       "      <td>353.416684</td>\n",
       "      <td>1.0</td>\n",
       "      <td>181441.070253</td>\n",
       "      <td>1.0</td>\n",
       "      <td>-1.702027e+04</td>\n",
       "    </tr>\n",
       "    <tr>\n",
       "      <th>std</th>\n",
       "      <td>19.149542</td>\n",
       "      <td>8.440930</td>\n",
       "      <td>3.440339</td>\n",
       "      <td>1.035976</td>\n",
       "      <td>2.671665e+06</td>\n",
       "      <td>5269.492998</td>\n",
       "      <td>0.0</td>\n",
       "      <td>158106.823327</td>\n",
       "      <td>0.0</td>\n",
       "      <td>2.671661e+06</td>\n",
       "    </tr>\n",
       "    <tr>\n",
       "      <th>min</th>\n",
       "      <td>1.000000</td>\n",
       "      <td>1.000000</td>\n",
       "      <td>1.000000</td>\n",
       "      <td>2000.000000</td>\n",
       "      <td>0.000000e+00</td>\n",
       "      <td>0.030000</td>\n",
       "      <td>1.0</td>\n",
       "      <td>112190.000000</td>\n",
       "      <td>1.0</td>\n",
       "      <td>-5.534910e+08</td>\n",
       "    </tr>\n",
       "    <tr>\n",
       "      <th>25%</th>\n",
       "      <td>16.000000</td>\n",
       "      <td>9.000000</td>\n",
       "      <td>3.000000</td>\n",
       "      <td>2015.000000</td>\n",
       "      <td>7.000000e+00</td>\n",
       "      <td>6.990000</td>\n",
       "      <td>1.0</td>\n",
       "      <td>124816.000000</td>\n",
       "      <td>1.0</td>\n",
       "      <td>0.000000e+00</td>\n",
       "    </tr>\n",
       "    <tr>\n",
       "      <th>50%</th>\n",
       "      <td>37.000000</td>\n",
       "      <td>16.000000</td>\n",
       "      <td>5.000000</td>\n",
       "      <td>2015.000000</td>\n",
       "      <td>1.999000e+01</td>\n",
       "      <td>19.990000</td>\n",
       "      <td>1.0</td>\n",
       "      <td>124816.000000</td>\n",
       "      <td>1.0</td>\n",
       "      <td>0.000000e+00</td>\n",
       "    </tr>\n",
       "    <tr>\n",
       "      <th>75%</th>\n",
       "      <td>50.000000</td>\n",
       "      <td>23.000000</td>\n",
       "      <td>8.000000</td>\n",
       "      <td>2015.000000</td>\n",
       "      <td>5.799000e+01</td>\n",
       "      <td>56.990000</td>\n",
       "      <td>1.0</td>\n",
       "      <td>124816.000000</td>\n",
       "      <td>1.0</td>\n",
       "      <td>0.000000e+00</td>\n",
       "    </tr>\n",
       "    <tr>\n",
       "      <th>max</th>\n",
       "      <td>62.000000</td>\n",
       "      <td>31.000000</td>\n",
       "      <td>12.000000</td>\n",
       "      <td>2016.000000</td>\n",
       "      <td>5.534910e+08</td>\n",
       "      <td>261690.000000</td>\n",
       "      <td>1.0</td>\n",
       "      <td>856681.000000</td>\n",
       "      <td>1.0</td>\n",
       "      <td>2.330700e+05</td>\n",
       "    </tr>\n",
       "  </tbody>\n",
       "</table>\n",
       "</div>"
      ],
      "text/plain": [
       "           retailer           day         month          year         price  \\\n",
       "count  45253.000000  44928.000000  44928.000000  44928.000000  4.525300e+04   \n",
       "mean      34.087751     15.743523      5.301126   2015.079817  1.737368e+04   \n",
       "std       19.149542      8.440930      3.440339      1.035976  2.671665e+06   \n",
       "min        1.000000      1.000000      1.000000   2000.000000  0.000000e+00   \n",
       "25%       16.000000      9.000000      3.000000   2015.000000  7.000000e+00   \n",
       "50%       37.000000     16.000000      5.000000   2015.000000  1.999000e+01   \n",
       "75%       50.000000     23.000000      8.000000   2015.000000  5.799000e+01   \n",
       "max       62.000000     31.000000     12.000000   2016.000000  5.534910e+08   \n",
       "\n",
       "        price_online  imputed           CODE  sale_online        p_diff  \n",
       "count   45253.000000  22414.0   42233.000000       4144.0  4.525300e+04  \n",
       "mean      353.416684      1.0  181441.070253          1.0 -1.702027e+04  \n",
       "std      5269.492998      0.0  158106.823327          0.0  2.671661e+06  \n",
       "min         0.030000      1.0  112190.000000          1.0 -5.534910e+08  \n",
       "25%         6.990000      1.0  124816.000000          1.0  0.000000e+00  \n",
       "50%        19.990000      1.0  124816.000000          1.0  0.000000e+00  \n",
       "75%        56.990000      1.0  124816.000000          1.0  0.000000e+00  \n",
       "max    261690.000000      1.0  856681.000000          1.0  2.330700e+05  "
      ]
     },
     "execution_count": 5,
     "metadata": {},
     "output_type": "execute_result"
    }
   ],
   "source": [
    "bpp_original.describe()"
   ]
  },
  {
   "cell_type": "code",
   "execution_count": 6,
   "id": "f32d191e",
   "metadata": {},
   "outputs": [
    {
     "data": {
      "text/html": [
       "<div>\n",
       "<style scoped>\n",
       "    .dataframe tbody tr th:only-of-type {\n",
       "        vertical-align: middle;\n",
       "    }\n",
       "\n",
       "    .dataframe tbody tr th {\n",
       "        vertical-align: top;\n",
       "    }\n",
       "\n",
       "    .dataframe thead th {\n",
       "        text-align: right;\n",
       "    }\n",
       "</style>\n",
       "<table border=\"1\" class=\"dataframe\">\n",
       "  <thead>\n",
       "    <tr style=\"text-align: right;\">\n",
       "      <th></th>\n",
       "      <th>price</th>\n",
       "      <th>price_online</th>\n",
       "      <th>p_diff</th>\n",
       "    </tr>\n",
       "  </thead>\n",
       "  <tbody>\n",
       "    <tr>\n",
       "      <th>count</th>\n",
       "      <td>4.525300e+04</td>\n",
       "      <td>45253.000000</td>\n",
       "      <td>4.525300e+04</td>\n",
       "    </tr>\n",
       "    <tr>\n",
       "      <th>mean</th>\n",
       "      <td>1.737368e+04</td>\n",
       "      <td>353.416684</td>\n",
       "      <td>-1.702027e+04</td>\n",
       "    </tr>\n",
       "    <tr>\n",
       "      <th>std</th>\n",
       "      <td>2.671665e+06</td>\n",
       "      <td>5269.492998</td>\n",
       "      <td>2.671661e+06</td>\n",
       "    </tr>\n",
       "    <tr>\n",
       "      <th>min</th>\n",
       "      <td>0.000000e+00</td>\n",
       "      <td>0.030000</td>\n",
       "      <td>-5.534910e+08</td>\n",
       "    </tr>\n",
       "    <tr>\n",
       "      <th>25%</th>\n",
       "      <td>7.000000e+00</td>\n",
       "      <td>6.990000</td>\n",
       "      <td>0.000000e+00</td>\n",
       "    </tr>\n",
       "    <tr>\n",
       "      <th>50%</th>\n",
       "      <td>1.999000e+01</td>\n",
       "      <td>19.990000</td>\n",
       "      <td>0.000000e+00</td>\n",
       "    </tr>\n",
       "    <tr>\n",
       "      <th>75%</th>\n",
       "      <td>5.799000e+01</td>\n",
       "      <td>56.990000</td>\n",
       "      <td>0.000000e+00</td>\n",
       "    </tr>\n",
       "    <tr>\n",
       "      <th>max</th>\n",
       "      <td>5.534910e+08</td>\n",
       "      <td>261690.000000</td>\n",
       "      <td>2.330700e+05</td>\n",
       "    </tr>\n",
       "  </tbody>\n",
       "</table>\n",
       "</div>"
      ],
      "text/plain": [
       "              price   price_online        p_diff\n",
       "count  4.525300e+04   45253.000000  4.525300e+04\n",
       "mean   1.737368e+04     353.416684 -1.702027e+04\n",
       "std    2.671665e+06    5269.492998  2.671661e+06\n",
       "min    0.000000e+00       0.030000 -5.534910e+08\n",
       "25%    7.000000e+00       6.990000  0.000000e+00\n",
       "50%    1.999000e+01      19.990000  0.000000e+00\n",
       "75%    5.799000e+01      56.990000  0.000000e+00\n",
       "max    5.534910e+08  261690.000000  2.330700e+05"
      ]
     },
     "execution_count": 6,
     "metadata": {},
     "output_type": "execute_result"
    }
   ],
   "source": [
    "# Compare key variables\n",
    "bpp_original.filter([\"price\", \"price_online\", \"p_diff\"]).describe()"
   ]
  },
  {
   "cell_type": "code",
   "execution_count": 7,
   "id": "0def1eb1",
   "metadata": {},
   "outputs": [
    {
     "data": {
      "text/html": [
       "<div>\n",
       "<style scoped>\n",
       "    .dataframe tbody tr th:only-of-type {\n",
       "        vertical-align: middle;\n",
       "    }\n",
       "\n",
       "    .dataframe tbody tr th {\n",
       "        vertical-align: top;\n",
       "    }\n",
       "\n",
       "    .dataframe thead th {\n",
       "        text-align: right;\n",
       "    }\n",
       "</style>\n",
       "<table border=\"1\" class=\"dataframe\">\n",
       "  <thead>\n",
       "    <tr style=\"text-align: right;\">\n",
       "      <th></th>\n",
       "      <th>mean_price_diff</th>\n",
       "      <th>median_price_diff</th>\n",
       "    </tr>\n",
       "    <tr>\n",
       "      <th>COUNTRY</th>\n",
       "      <th></th>\n",
       "      <th></th>\n",
       "    </tr>\n",
       "  </thead>\n",
       "  <tbody>\n",
       "    <tr>\n",
       "      <th>ARGENTINA</th>\n",
       "      <td>-30399.085151</td>\n",
       "      <td>0.0</td>\n",
       "    </tr>\n",
       "    <tr>\n",
       "      <th>AUSTRALIA</th>\n",
       "      <td>-0.464439</td>\n",
       "      <td>0.0</td>\n",
       "    </tr>\n",
       "    <tr>\n",
       "      <th>BRAZIL</th>\n",
       "      <td>-37.924121</td>\n",
       "      <td>0.0</td>\n",
       "    </tr>\n",
       "    <tr>\n",
       "      <th>CANADA</th>\n",
       "      <td>0.588671</td>\n",
       "      <td>0.0</td>\n",
       "    </tr>\n",
       "    <tr>\n",
       "      <th>CHINA</th>\n",
       "      <td>-0.832808</td>\n",
       "      <td>0.0</td>\n",
       "    </tr>\n",
       "    <tr>\n",
       "      <th>GERMANY</th>\n",
       "      <td>4.577242</td>\n",
       "      <td>0.0</td>\n",
       "    </tr>\n",
       "    <tr>\n",
       "      <th>JAPAN</th>\n",
       "      <td>-586.881969</td>\n",
       "      <td>0.0</td>\n",
       "    </tr>\n",
       "    <tr>\n",
       "      <th>SOUTHAFRICA</th>\n",
       "      <td>-125.700372</td>\n",
       "      <td>0.0</td>\n",
       "    </tr>\n",
       "    <tr>\n",
       "      <th>UK</th>\n",
       "      <td>-0.067043</td>\n",
       "      <td>0.0</td>\n",
       "    </tr>\n",
       "    <tr>\n",
       "      <th>USA</th>\n",
       "      <td>-31950.531931</td>\n",
       "      <td>0.0</td>\n",
       "    </tr>\n",
       "  </tbody>\n",
       "</table>\n",
       "</div>"
      ],
      "text/plain": [
       "             mean_price_diff  median_price_diff\n",
       "COUNTRY                                        \n",
       "ARGENTINA      -30399.085151                0.0\n",
       "AUSTRALIA          -0.464439                0.0\n",
       "BRAZIL            -37.924121                0.0\n",
       "CANADA              0.588671                0.0\n",
       "CHINA              -0.832808                0.0\n",
       "GERMANY             4.577242                0.0\n",
       "JAPAN            -586.881969                0.0\n",
       "SOUTHAFRICA      -125.700372                0.0\n",
       "UK                 -0.067043                0.0\n",
       "USA            -31950.531931                0.0"
      ]
     },
     "execution_count": 7,
     "metadata": {},
     "output_type": "execute_result"
    }
   ],
   "source": [
    "# Check mean and median by country\n",
    "bpp_original.groupby(\"COUNTRY\").agg(\n",
    "    mean_price_diff=(\"p_diff\", \"mean\"), median_price_diff=(\"p_diff\", \"median\")\n",
    ")"
   ]
  },
  {
   "cell_type": "code",
   "execution_count": 8,
   "id": "ba37c584",
   "metadata": {},
   "outputs": [
    {
     "data": {
      "text/plain": [
       "COUNTRY      variable    \n",
       "ARGENTINA    price            4053\n",
       "             p_diff           4053\n",
       "             price_online     4053\n",
       "AUSTRALIA    p_diff           4190\n",
       "             price            4190\n",
       "             price_online     4190\n",
       "BRAZIL       p_diff           2077\n",
       "             price_online     2077\n",
       "             price            2077\n",
       "CANADA       price            4422\n",
       "             price_online     4422\n",
       "             p_diff           4422\n",
       "CHINA        p_diff            520\n",
       "             price_online      520\n",
       "             price             520\n",
       "GERMANY      price_online     1795\n",
       "             price            1795\n",
       "             p_diff           1795\n",
       "JAPAN        price_online     2296\n",
       "             p_diff           2296\n",
       "             price            2296\n",
       "SOUTHAFRICA  price            3306\n",
       "             price_online     3306\n",
       "             p_diff           3306\n",
       "UK           price_online     2401\n",
       "             price            2401\n",
       "             p_diff           2401\n",
       "USA          price_online    20193\n",
       "             price           20193\n",
       "             p_diff          20193\n",
       "Name: count, dtype: int64"
      ]
     },
     "execution_count": 8,
     "metadata": {},
     "output_type": "execute_result"
    }
   ],
   "source": [
    "# Lets say we are interested in the prices as well for each countries.\n",
    "# Need to reshape our data first\n",
    "bpp_original.melt(\n",
    "        id_vars=[\"COUNTRY\"], value_vars=[\"price\", \"price_online\", \"p_diff\"]\n",
    "    ).groupby(\"COUNTRY\").variable.value_counts()"
   ]
  },
  {
   "cell_type": "code",
   "execution_count": 9,
   "id": "9fbf68eb",
   "metadata": {},
   "outputs": [
    {
     "data": {
      "text/html": [
       "<div>\n",
       "<style scoped>\n",
       "    .dataframe tbody tr th:only-of-type {\n",
       "        vertical-align: middle;\n",
       "    }\n",
       "\n",
       "    .dataframe tbody tr th {\n",
       "        vertical-align: top;\n",
       "    }\n",
       "\n",
       "    .dataframe thead th {\n",
       "        text-align: right;\n",
       "    }\n",
       "</style>\n",
       "<table border=\"1\" class=\"dataframe\">\n",
       "  <thead>\n",
       "    <tr style=\"text-align: right;\">\n",
       "      <th></th>\n",
       "      <th></th>\n",
       "      <th>Mean</th>\n",
       "      <th>Median</th>\n",
       "    </tr>\n",
       "    <tr>\n",
       "      <th>COUNTRY</th>\n",
       "      <th>variable</th>\n",
       "      <th></th>\n",
       "      <th></th>\n",
       "    </tr>\n",
       "  </thead>\n",
       "  <tbody>\n",
       "    <tr>\n",
       "      <th rowspan=\"3\" valign=\"top\">ARGENTINA</th>\n",
       "      <th>p_diff</th>\n",
       "      <td>-30399.085151</td>\n",
       "      <td>0.00</td>\n",
       "    </tr>\n",
       "    <tr>\n",
       "      <th>price</th>\n",
       "      <td>31061.999723</td>\n",
       "      <td>54.95</td>\n",
       "    </tr>\n",
       "    <tr>\n",
       "      <th>price_online</th>\n",
       "      <td>662.914572</td>\n",
       "      <td>55.00</td>\n",
       "    </tr>\n",
       "    <tr>\n",
       "      <th rowspan=\"3\" valign=\"top\">AUSTRALIA</th>\n",
       "      <th>p_diff</th>\n",
       "      <td>-0.464439</td>\n",
       "      <td>0.00</td>\n",
       "    </tr>\n",
       "    <tr>\n",
       "      <th>price</th>\n",
       "      <td>22.126683</td>\n",
       "      <td>7.99</td>\n",
       "    </tr>\n",
       "    <tr>\n",
       "      <th>price_online</th>\n",
       "      <td>21.662243</td>\n",
       "      <td>8.00</td>\n",
       "    </tr>\n",
       "    <tr>\n",
       "      <th rowspan=\"3\" valign=\"top\">BRAZIL</th>\n",
       "      <th>p_diff</th>\n",
       "      <td>-37.924121</td>\n",
       "      <td>0.00</td>\n",
       "    </tr>\n",
       "    <tr>\n",
       "      <th>price</th>\n",
       "      <td>338.507332</td>\n",
       "      <td>69.90</td>\n",
       "    </tr>\n",
       "    <tr>\n",
       "      <th>price_online</th>\n",
       "      <td>300.583211</td>\n",
       "      <td>67.90</td>\n",
       "    </tr>\n",
       "    <tr>\n",
       "      <th rowspan=\"3\" valign=\"top\">CANADA</th>\n",
       "      <th>p_diff</th>\n",
       "      <td>0.588671</td>\n",
       "      <td>0.00</td>\n",
       "    </tr>\n",
       "    <tr>\n",
       "      <th>price</th>\n",
       "      <td>35.799147</td>\n",
       "      <td>17.98</td>\n",
       "    </tr>\n",
       "    <tr>\n",
       "      <th>price_online</th>\n",
       "      <td>36.387818</td>\n",
       "      <td>17.99</td>\n",
       "    </tr>\n",
       "    <tr>\n",
       "      <th rowspan=\"3\" valign=\"top\">CHINA</th>\n",
       "      <th>p_diff</th>\n",
       "      <td>-0.832808</td>\n",
       "      <td>0.00</td>\n",
       "    </tr>\n",
       "    <tr>\n",
       "      <th>price</th>\n",
       "      <td>141.923942</td>\n",
       "      <td>43.85</td>\n",
       "    </tr>\n",
       "    <tr>\n",
       "      <th>price_online</th>\n",
       "      <td>141.091135</td>\n",
       "      <td>43.90</td>\n",
       "    </tr>\n",
       "    <tr>\n",
       "      <th rowspan=\"3\" valign=\"top\">GERMANY</th>\n",
       "      <th>p_diff</th>\n",
       "      <td>4.577242</td>\n",
       "      <td>0.00</td>\n",
       "    </tr>\n",
       "    <tr>\n",
       "      <th>price</th>\n",
       "      <td>31.831955</td>\n",
       "      <td>14.99</td>\n",
       "    </tr>\n",
       "    <tr>\n",
       "      <th>price_online</th>\n",
       "      <td>36.409198</td>\n",
       "      <td>15.99</td>\n",
       "    </tr>\n",
       "    <tr>\n",
       "      <th rowspan=\"3\" valign=\"top\">JAPAN</th>\n",
       "      <th>p_diff</th>\n",
       "      <td>-586.881969</td>\n",
       "      <td>0.00</td>\n",
       "    </tr>\n",
       "    <tr>\n",
       "      <th>price</th>\n",
       "      <td>5508.326655</td>\n",
       "      <td>1180.00</td>\n",
       "    </tr>\n",
       "    <tr>\n",
       "      <th>price_online</th>\n",
       "      <td>4921.444686</td>\n",
       "      <td>973.00</td>\n",
       "    </tr>\n",
       "    <tr>\n",
       "      <th rowspan=\"3\" valign=\"top\">SOUTHAFRICA</th>\n",
       "      <th>p_diff</th>\n",
       "      <td>-125.700372</td>\n",
       "      <td>0.00</td>\n",
       "    </tr>\n",
       "    <tr>\n",
       "      <th>price</th>\n",
       "      <td>208.401621</td>\n",
       "      <td>39.99</td>\n",
       "    </tr>\n",
       "    <tr>\n",
       "      <th>price_online</th>\n",
       "      <td>82.701249</td>\n",
       "      <td>39.99</td>\n",
       "    </tr>\n",
       "    <tr>\n",
       "      <th rowspan=\"3\" valign=\"top\">UK</th>\n",
       "      <th>p_diff</th>\n",
       "      <td>-0.067043</td>\n",
       "      <td>0.00</td>\n",
       "    </tr>\n",
       "    <tr>\n",
       "      <th>price</th>\n",
       "      <td>7.841262</td>\n",
       "      <td>2.00</td>\n",
       "    </tr>\n",
       "    <tr>\n",
       "      <th>price_online</th>\n",
       "      <td>7.774219</td>\n",
       "      <td>2.00</td>\n",
       "    </tr>\n",
       "    <tr>\n",
       "      <th rowspan=\"3\" valign=\"top\">USA</th>\n",
       "      <th>p_diff</th>\n",
       "      <td>-31950.531931</td>\n",
       "      <td>0.00</td>\n",
       "    </tr>\n",
       "    <tr>\n",
       "      <th>price</th>\n",
       "      <td>31985.195144</td>\n",
       "      <td>14.99</td>\n",
       "    </tr>\n",
       "    <tr>\n",
       "      <th>price_online</th>\n",
       "      <td>34.663213</td>\n",
       "      <td>14.99</td>\n",
       "    </tr>\n",
       "  </tbody>\n",
       "</table>\n",
       "</div>"
      ],
      "text/plain": [
       "                                  Mean   Median\n",
       "COUNTRY     variable                           \n",
       "ARGENTINA   p_diff       -30399.085151     0.00\n",
       "            price         31061.999723    54.95\n",
       "            price_online    662.914572    55.00\n",
       "AUSTRALIA   p_diff           -0.464439     0.00\n",
       "            price            22.126683     7.99\n",
       "            price_online     21.662243     8.00\n",
       "BRAZIL      p_diff          -37.924121     0.00\n",
       "            price           338.507332    69.90\n",
       "            price_online    300.583211    67.90\n",
       "CANADA      p_diff            0.588671     0.00\n",
       "            price            35.799147    17.98\n",
       "            price_online     36.387818    17.99\n",
       "CHINA       p_diff           -0.832808     0.00\n",
       "            price           141.923942    43.85\n",
       "            price_online    141.091135    43.90\n",
       "GERMANY     p_diff            4.577242     0.00\n",
       "            price            31.831955    14.99\n",
       "            price_online     36.409198    15.99\n",
       "JAPAN       p_diff         -586.881969     0.00\n",
       "            price          5508.326655  1180.00\n",
       "            price_online   4921.444686   973.00\n",
       "SOUTHAFRICA p_diff         -125.700372     0.00\n",
       "            price           208.401621    39.99\n",
       "            price_online     82.701249    39.99\n",
       "UK          p_diff           -0.067043     0.00\n",
       "            price             7.841262     2.00\n",
       "            price_online      7.774219     2.00\n",
       "USA         p_diff       -31950.531931     0.00\n",
       "            price         31985.195144    14.99\n",
       "            price_online     34.663213    14.99"
      ]
     },
     "execution_count": 9,
     "metadata": {},
     "output_type": "execute_result"
    }
   ],
   "source": [
    "(\n",
    "    bpp_original.melt(\n",
    "        id_vars=[\"COUNTRY\"], value_vars=[\"price\", \"price_online\", \"p_diff\"]\n",
    "    )\n",
    "    .groupby([\"COUNTRY\", \"variable\"])\n",
    "    .agg(Mean=(\"value\", \"mean\"), Median=(\"value\", \"median\"))\n",
    ")"
   ]
  },
  {
   "cell_type": "markdown",
   "id": "f960cc45",
   "metadata": {},
   "source": [
    "## Task 1\n",
    "Filter the data to 2016 and check price difference the mean and median for each country"
   ]
  },
  {
   "cell_type": "code",
   "execution_count": null,
   "id": "808f7338",
   "metadata": {},
   "outputs": [],
   "source": []
  },
  {
   "cell_type": "code",
   "execution_count": 10,
   "id": "02a42b06",
   "metadata": {},
   "outputs": [
    {
     "data": {
      "text/html": [
       "<div>\n",
       "<style scoped>\n",
       "    .dataframe tbody tr th:only-of-type {\n",
       "        vertical-align: middle;\n",
       "    }\n",
       "\n",
       "    .dataframe tbody tr th {\n",
       "        vertical-align: top;\n",
       "    }\n",
       "\n",
       "    .dataframe thead th {\n",
       "        text-align: right;\n",
       "    }\n",
       "</style>\n",
       "<table border=\"1\" class=\"dataframe\">\n",
       "  <thead>\n",
       "    <tr style=\"text-align: right;\">\n",
       "      <th></th>\n",
       "      <th>mean_price_diff</th>\n",
       "      <th>median_price_diff</th>\n",
       "      <th>range_price_diff</th>\n",
       "    </tr>\n",
       "    <tr>\n",
       "      <th>COUNTRY</th>\n",
       "      <th></th>\n",
       "      <th></th>\n",
       "      <th></th>\n",
       "    </tr>\n",
       "  </thead>\n",
       "  <tbody>\n",
       "    <tr>\n",
       "      <th>ARGENTINA</th>\n",
       "      <td>-30399.085151</td>\n",
       "      <td>0.0</td>\n",
       "      <td>1.111358e+08</td>\n",
       "    </tr>\n",
       "    <tr>\n",
       "      <th>AUSTRALIA</th>\n",
       "      <td>-0.464439</td>\n",
       "      <td>0.0</td>\n",
       "      <td>1.438310e+03</td>\n",
       "    </tr>\n",
       "    <tr>\n",
       "      <th>BRAZIL</th>\n",
       "      <td>-37.924121</td>\n",
       "      <td>0.0</td>\n",
       "      <td>3.429000e+03</td>\n",
       "    </tr>\n",
       "    <tr>\n",
       "      <th>CANADA</th>\n",
       "      <td>0.588671</td>\n",
       "      <td>0.0</td>\n",
       "      <td>5.250200e+02</td>\n",
       "    </tr>\n",
       "    <tr>\n",
       "      <th>CHINA</th>\n",
       "      <td>-0.832808</td>\n",
       "      <td>0.0</td>\n",
       "      <td>6.110900e+02</td>\n",
       "    </tr>\n",
       "    <tr>\n",
       "      <th>GERMANY</th>\n",
       "      <td>4.577242</td>\n",
       "      <td>0.0</td>\n",
       "      <td>1.098310e+03</td>\n",
       "    </tr>\n",
       "    <tr>\n",
       "      <th>JAPAN</th>\n",
       "      <td>-586.881969</td>\n",
       "      <td>0.0</td>\n",
       "      <td>4.155930e+05</td>\n",
       "    </tr>\n",
       "    <tr>\n",
       "      <th>SOUTHAFRICA</th>\n",
       "      <td>-125.700372</td>\n",
       "      <td>0.0</td>\n",
       "      <td>2.075375e+05</td>\n",
       "    </tr>\n",
       "    <tr>\n",
       "      <th>UK</th>\n",
       "      <td>-0.067043</td>\n",
       "      <td>0.0</td>\n",
       "      <td>5.446000e+01</td>\n",
       "    </tr>\n",
       "    <tr>\n",
       "      <th>USA</th>\n",
       "      <td>-31950.531931</td>\n",
       "      <td>0.0</td>\n",
       "      <td>5.534914e+08</td>\n",
       "    </tr>\n",
       "  </tbody>\n",
       "</table>\n",
       "</div>"
      ],
      "text/plain": [
       "             mean_price_diff  median_price_diff  range_price_diff\n",
       "COUNTRY                                                          \n",
       "ARGENTINA      -30399.085151                0.0      1.111358e+08\n",
       "AUSTRALIA          -0.464439                0.0      1.438310e+03\n",
       "BRAZIL            -37.924121                0.0      3.429000e+03\n",
       "CANADA              0.588671                0.0      5.250200e+02\n",
       "CHINA              -0.832808                0.0      6.110900e+02\n",
       "GERMANY             4.577242                0.0      1.098310e+03\n",
       "JAPAN            -586.881969                0.0      4.155930e+05\n",
       "SOUTHAFRICA      -125.700372                0.0      2.075375e+05\n",
       "UK                 -0.067043                0.0      5.446000e+01\n",
       "USA            -31950.531931                0.0      5.534914e+08"
      ]
     },
     "execution_count": 10,
     "metadata": {},
     "output_type": "execute_result"
    }
   ],
   "source": [
    "# We can check out the range (min - max) by a user-defined function\n",
    "def range_function(x):\n",
    "    return x.max() - x.min()\n",
    "\n",
    "\n",
    "bpp_original.groupby(\"COUNTRY\").agg(\n",
    "    mean_price_diff=(\"p_diff\", \"mean\"),\n",
    "    median_price_diff=(\"p_diff\", \"median\"),\n",
    "    range_price_diff=(\"p_diff\", range_function),\n",
    ")"
   ]
  },
  {
   "cell_type": "code",
   "execution_count": 11,
   "id": "47cbe0fb",
   "metadata": {},
   "outputs": [
    {
     "data": {
      "text/plain": [
       "<AxesSubplot:>"
      ]
     },
     "execution_count": 11,
     "metadata": {},
     "output_type": "execute_result"
    },
    {
     "data": {
      "image/png": "[encoded data removed]",
      "text/plain": [
       "<Figure size 432x288 with 1 Axes>"
      ]
     },
     "metadata": {
      "needs_background": "light"
     },
     "output_type": "display_data"
    }
   ],
   "source": [
    "bpp_original.price.hist()"
   ]
  },
  {
   "cell_type": "code",
   "execution_count": 12,
   "id": "9f17d391",
   "metadata": {},
   "outputs": [],
   "source": [
    "# Does not look reasonable; need to check data\n",
    "bpp = (\n",
    "    bpp_original.loc[bpp_original[\"sale_online\"].isnull()]\n",
    "    .loc[bpp_original[\"price\"].notnull()]\n",
    "    .loc[bpp_original[\"price_online\"].notnull()]\n",
    "    .loc[bpp_original[\"PRICETYPE\"] == \"Regular Price\"]\n",
    ")\n",
    "\n"
   ]
  },
  {
   "cell_type": "code",
   "execution_count": 13,
   "id": "48cac699",
   "metadata": {},
   "outputs": [
    {
     "data": {
      "text/html": [
       "<div>\n",
       "<style scoped>\n",
       "    .dataframe tbody tr th:only-of-type {\n",
       "        vertical-align: middle;\n",
       "    }\n",
       "\n",
       "    .dataframe tbody tr th {\n",
       "        vertical-align: top;\n",
       "    }\n",
       "\n",
       "    .dataframe thead th {\n",
       "        text-align: right;\n",
       "    }\n",
       "</style>\n",
       "<table border=\"1\" class=\"dataframe\">\n",
       "  <thead>\n",
       "    <tr style=\"text-align: right;\">\n",
       "      <th></th>\n",
       "      <th>price</th>\n",
       "      <th>price_online</th>\n",
       "      <th>p_diff</th>\n",
       "    </tr>\n",
       "  </thead>\n",
       "  <tbody>\n",
       "    <tr>\n",
       "      <th>count</th>\n",
       "      <td>8.169000e+03</td>\n",
       "      <td>8169.00000</td>\n",
       "      <td>8.169000e+03</td>\n",
       "    </tr>\n",
       "    <tr>\n",
       "      <th>mean</th>\n",
       "      <td>7.650828e+03</td>\n",
       "      <td>133.36461</td>\n",
       "      <td>-7.517463e+03</td>\n",
       "    </tr>\n",
       "    <tr>\n",
       "      <th>std</th>\n",
       "      <td>6.641562e+05</td>\n",
       "      <td>495.47564</td>\n",
       "      <td>6.641574e+05</td>\n",
       "    </tr>\n",
       "    <tr>\n",
       "      <th>min</th>\n",
       "      <td>2.500000e-01</td>\n",
       "      <td>0.25000</td>\n",
       "      <td>-6.002112e+07</td>\n",
       "    </tr>\n",
       "    <tr>\n",
       "      <th>25%</th>\n",
       "      <td>5.990000e+00</td>\n",
       "      <td>5.99000</td>\n",
       "      <td>-1.000000e-01</td>\n",
       "    </tr>\n",
       "    <tr>\n",
       "      <th>50%</th>\n",
       "      <td>1.499000e+01</td>\n",
       "      <td>14.99000</td>\n",
       "      <td>0.000000e+00</td>\n",
       "    </tr>\n",
       "    <tr>\n",
       "      <th>75%</th>\n",
       "      <td>4.399000e+01</td>\n",
       "      <td>44.95000</td>\n",
       "      <td>0.000000e+00</td>\n",
       "    </tr>\n",
       "    <tr>\n",
       "      <th>max</th>\n",
       "      <td>6.002113e+07</td>\n",
       "      <td>6362.00000</td>\n",
       "      <td>9.200100e+02</td>\n",
       "    </tr>\n",
       "  </tbody>\n",
       "</table>\n",
       "</div>"
      ],
      "text/plain": [
       "              price  price_online        p_diff\n",
       "count  8.169000e+03    8169.00000  8.169000e+03\n",
       "mean   7.650828e+03     133.36461 -7.517463e+03\n",
       "std    6.641562e+05     495.47564  6.641574e+05\n",
       "min    2.500000e-01       0.25000 -6.002112e+07\n",
       "25%    5.990000e+00       5.99000 -1.000000e-01\n",
       "50%    1.499000e+01      14.99000  0.000000e+00\n",
       "75%    4.399000e+01      44.95000  0.000000e+00\n",
       "max    6.002113e+07    6362.00000  9.200100e+02"
      ]
     },
     "execution_count": 13,
     "metadata": {},
     "output_type": "execute_result"
    }
   ],
   "source": [
    "# Create new df with variables of interest\n",
    "bpp.filter([\"price\", \"price_online\", \"p_diff\"]).describe()"
   ]
  },
  {
   "cell_type": "code",
   "execution_count": 14,
   "id": "d54aa927",
   "metadata": {},
   "outputs": [],
   "source": [
    "# Drop obvious mistakes: prices > 1000. \n",
    "bpp = bpp.loc[bpp[\"price\"] < 1000] # Is this really a mistake?"
   ]
  },
  {
   "cell_type": "code",
   "execution_count": 15,
   "id": "003542ca",
   "metadata": {},
   "outputs": [
    {
     "data": {
      "text/plain": [
       "Text(0, 0.5, 'Count')"
      ]
     },
     "execution_count": 15,
     "metadata": {},
     "output_type": "execute_result"
    },
    {
     "data": {
      "image/png": "[encoded data removed]",
      "text/plain": [
       "<Figure size 432x288 with 1 Axes>"
      ]
     },
     "metadata": {
      "needs_background": "light"
     },
     "output_type": "display_data"
    }
   ],
   "source": [
    "# Plot again\n",
    "bpp.price.hist(bins=50) # Play with number of bins\n",
    "plt.title(\"Histogram of prices\")\n",
    "plt.xlabel(\"Prices\")\n",
    "plt.ylabel(\"Count\")"
   ]
  },
  {
   "cell_type": "code",
   "execution_count": 16,
   "id": "690b3d72",
   "metadata": {},
   "outputs": [
    {
     "data": {
      "text/plain": [
       "Text(0.5, 0, 'Prices')"
      ]
     },
     "execution_count": 16,
     "metadata": {},
     "output_type": "execute_result"
    },
    {
     "data": {
      "image/png": "[encoded data removed]",
      "text/plain": [
       "<Figure size 432x288 with 1 Axes>"
      ]
     },
     "metadata": {
      "needs_background": "light"
     },
     "output_type": "display_data"
    }
   ],
   "source": [
    "# Relative frequency\n",
    "bpp.price.hist(bins=50, density=True) # Play with number of bins\n",
    "plt.title(\"Histogram of prices\")\n",
    "plt.xlabel(\"Prices\")"
   ]
  },
  {
   "cell_type": "markdown",
   "id": "00490f59",
   "metadata": {},
   "source": [
    "## Task 2\n",
    "Create histogram and density plots for price differences!"
   ]
  },
  {
   "cell_type": "code",
   "execution_count": 20,
   "id": "a6910f10",
   "metadata": {},
   "outputs": [
    {
     "data": {
      "text/plain": [
       "Text(0.5, 0, 'Prices (online)')"
      ]
     },
     "execution_count": 20,
     "metadata": {},
     "output_type": "execute_result"
    },
    {
     "data": {
      "image/png": "[encoded data removed]",
      "text/plain": [
       "<Figure size 432x288 with 1 Axes>"
      ]
     },
     "metadata": {
      "needs_background": "light"
     },
     "output_type": "display_data"
    }
   ],
   "source": [
    "# Histogram\n",
    "bpp.price_online.hist(bins=100) # Play with number of bins\n",
    "plt.title(\"Histogram of prices\")\n",
    "plt.xlabel(\"Prices (online)\")"
   ]
  },
  {
   "cell_type": "code",
   "execution_count": 24,
   "id": "c53a45be",
   "metadata": {},
   "outputs": [
    {
     "data": {
      "text/plain": [
       "Text(0.5, 0, 'Prices (online)')"
      ]
     },
     "execution_count": 24,
     "metadata": {},
     "output_type": "execute_result"
    },
    {
     "data": {
      "image/png": "[encoded data removed]",
      "text/plain": [
       "<Figure size 432x288 with 1 Axes>"
      ]
     },
     "metadata": {
      "needs_background": "light"
     },
     "output_type": "display_data"
    }
   ],
   "source": [
    "# Histogram\n",
    "bpp.price_online.hist(bins=100, density=True) # Play with number of bins\n",
    "plt.title(\"Histogram of prices\")\n",
    "plt.xlabel(\"Prices (online)\")"
   ]
  },
  {
   "cell_type": "code",
   "execution_count": 25,
   "id": "132a40eb",
   "metadata": {},
   "outputs": [],
   "source": [
    "from scipy import stats"
   ]
  },
  {
   "cell_type": "code",
   "execution_count": 26,
   "id": "deea3cc6",
   "metadata": {},
   "outputs": [
    {
     "data": {
      "text/plain": [
       "TtestResult(statistic=-1.3135807936650183, pvalue=0.18902550071796193, df=7892)"
      ]
     },
     "execution_count": 26,
     "metadata": {},
     "output_type": "execute_result"
    }
   ],
   "source": [
    "stats.ttest_1samp(bpp[\"p_diff\"], 0)"
   ]
  },
  {
   "cell_type": "code",
   "execution_count": 27,
   "id": "cf5b1516",
   "metadata": {},
   "outputs": [
    {
     "data": {
      "text/plain": [
       "TtestResult(statistic=-1.3135807936650183, pvalue=0.905487249641019, df=7892)"
      ]
     },
     "execution_count": 27,
     "metadata": {},
     "output_type": "execute_result"
    }
   ],
   "source": [
    "stats.ttest_1samp(bpp[\"p_diff\"], 0, alternative=\"greater\")"
   ]
  },
  {
   "cell_type": "code",
   "execution_count": 28,
   "id": "20b7eb6d",
   "metadata": {},
   "outputs": [
    {
     "data": {
      "text/plain": [
       "TtestResult(statistic=-1.3135807936650183, pvalue=0.09451275035898096, df=7892)"
      ]
     },
     "execution_count": 28,
     "metadata": {},
     "output_type": "execute_result"
    }
   ],
   "source": [
    "stats.ttest_1samp(bpp[\"p_diff\"], 0, alternative=\"less\")"
   ]
  },
  {
   "cell_type": "code",
   "execution_count": 30,
   "id": "d339f0a7",
   "metadata": {},
   "outputs": [
    {
     "data": {
      "text/plain": [
       "<matplotlib.collections.PathCollection at 0x1f8c74926d0>"
      ]
     },
     "execution_count": 30,
     "metadata": {},
     "output_type": "execute_result"
    },
    {
     "data": {
      "image/png": "[encoded data removed]",
      "text/plain": [
       "<Figure size 432x288 with 1 Axes>"
      ]
     },
     "metadata": {
      "needs_background": "light"
     },
     "output_type": "display_data"
    }
   ],
   "source": [
    "# Association between variables\n",
    "x = bpp.price_online.to_numpy()\n",
    "y = bpp.price.to_numpy()\n",
    "\n",
    "plt.scatter(x, y)"
   ]
  },
  {
   "cell_type": "code",
   "execution_count": 32,
   "id": "1eb2b162",
   "metadata": {},
   "outputs": [
    {
     "data": {
      "text/plain": [
       "[<matplotlib.lines.Line2D at 0x1f8c772ed00>]"
      ]
     },
     "execution_count": 32,
     "metadata": {},
     "output_type": "execute_result"
    },
    {
     "data": {
      "image/png": "[encoded data removed]",
      "text/plain": [
       "<Figure size 432x288 with 1 Axes>"
      ]
     },
     "metadata": {
      "needs_background": "light"
     },
     "output_type": "display_data"
    }
   ],
   "source": [
    "x = bpp.price_online.to_numpy()\n",
    "y = bpp.price.to_numpy()\n",
    "\n",
    "plt.scatter(x, y)\n",
    "\n",
    "\n",
    "m, b = np.polyfit(x, y, 1)\n",
    "plt.plot(x, m*x + b, color='k')\n"
   ]
  },
  {
   "cell_type": "code",
   "execution_count": 33,
   "id": "46d13510",
   "metadata": {},
   "outputs": [
    {
     "data": {
      "text/html": [
       "<div>\n",
       "<style scoped>\n",
       "    .dataframe tbody tr th:only-of-type {\n",
       "        vertical-align: middle;\n",
       "    }\n",
       "\n",
       "    .dataframe tbody tr th {\n",
       "        vertical-align: top;\n",
       "    }\n",
       "\n",
       "    .dataframe thead th {\n",
       "        text-align: right;\n",
       "    }\n",
       "</style>\n",
       "<table border=\"1\" class=\"dataframe\">\n",
       "  <thead>\n",
       "    <tr style=\"text-align: right;\">\n",
       "      <th></th>\n",
       "      <th>price</th>\n",
       "      <th>price_online</th>\n",
       "    </tr>\n",
       "  </thead>\n",
       "  <tbody>\n",
       "    <tr>\n",
       "      <th>price</th>\n",
       "      <td>18352.002061</td>\n",
       "      <td>17993.494181</td>\n",
       "    </tr>\n",
       "    <tr>\n",
       "      <th>price_online</th>\n",
       "      <td>17993.494181</td>\n",
       "      <td>18040.666718</td>\n",
       "    </tr>\n",
       "  </tbody>\n",
       "</table>\n",
       "</div>"
      ],
      "text/plain": [
       "                     price  price_online\n",
       "price         18352.002061  17993.494181\n",
       "price_online  17993.494181  18040.666718"
      ]
     },
     "execution_count": 33,
     "metadata": {},
     "output_type": "execute_result"
    }
   ],
   "source": [
    "# Correlation and covariance\n",
    "\n",
    "\n",
    "bpp.filter([\"price\", \"price_online\"]).cov()\n",
    "\n"
   ]
  },
  {
   "cell_type": "code",
   "execution_count": 34,
   "id": "78078195",
   "metadata": {},
   "outputs": [
    {
     "data": {
      "text/html": [
       "<div>\n",
       "<style scoped>\n",
       "    .dataframe tbody tr th:only-of-type {\n",
       "        vertical-align: middle;\n",
       "    }\n",
       "\n",
       "    .dataframe tbody tr th {\n",
       "        vertical-align: top;\n",
       "    }\n",
       "\n",
       "    .dataframe thead th {\n",
       "        text-align: right;\n",
       "    }\n",
       "</style>\n",
       "<table border=\"1\" class=\"dataframe\">\n",
       "  <thead>\n",
       "    <tr style=\"text-align: right;\">\n",
       "      <th></th>\n",
       "      <th>price</th>\n",
       "      <th>price_online</th>\n",
       "    </tr>\n",
       "  </thead>\n",
       "  <tbody>\n",
       "    <tr>\n",
       "      <th>price</th>\n",
       "      <td>1.000000</td>\n",
       "      <td>0.988889</td>\n",
       "    </tr>\n",
       "    <tr>\n",
       "      <th>price_online</th>\n",
       "      <td>0.988889</td>\n",
       "      <td>1.000000</td>\n",
       "    </tr>\n",
       "  </tbody>\n",
       "</table>\n",
       "</div>"
      ],
      "text/plain": [
       "                 price  price_online\n",
       "price         1.000000      0.988889\n",
       "price_online  0.988889      1.000000"
      ]
     },
     "execution_count": 34,
     "metadata": {},
     "output_type": "execute_result"
    }
   ],
   "source": [
    "bpp.filter([\"price\", \"price_online\"]).corr()"
   ]
  },
  {
   "cell_type": "code",
   "execution_count": 36,
   "id": "6caa9770",
   "metadata": {},
   "outputs": [
    {
     "data": {
      "text/html": [
       "<div>\n",
       "<style scoped>\n",
       "    .dataframe tbody tr th:only-of-type {\n",
       "        vertical-align: middle;\n",
       "    }\n",
       "\n",
       "    .dataframe tbody tr th {\n",
       "        vertical-align: top;\n",
       "    }\n",
       "\n",
       "    .dataframe thead th {\n",
       "        text-align: right;\n",
       "    }\n",
       "</style>\n",
       "<table border=\"1\" class=\"dataframe\">\n",
       "  <thead>\n",
       "    <tr style=\"text-align: right;\">\n",
       "      <th></th>\n",
       "      <th>COUNTRY</th>\n",
       "      <th>correlation</th>\n",
       "    </tr>\n",
       "  </thead>\n",
       "  <tbody>\n",
       "    <tr>\n",
       "      <th>0</th>\n",
       "      <td>BRAZIL</td>\n",
       "      <td>0.965225</td>\n",
       "    </tr>\n",
       "    <tr>\n",
       "      <th>1</th>\n",
       "      <td>CHINA</td>\n",
       "      <td>0.903165</td>\n",
       "    </tr>\n",
       "    <tr>\n",
       "      <th>2</th>\n",
       "      <td>GERMANY</td>\n",
       "      <td>0.444990</td>\n",
       "    </tr>\n",
       "    <tr>\n",
       "      <th>3</th>\n",
       "      <td>JAPAN</td>\n",
       "      <td>0.990857</td>\n",
       "    </tr>\n",
       "    <tr>\n",
       "      <th>4</th>\n",
       "      <td>SOUTHAFRICA</td>\n",
       "      <td>0.974192</td>\n",
       "    </tr>\n",
       "    <tr>\n",
       "      <th>5</th>\n",
       "      <td>USA</td>\n",
       "      <td>0.984573</td>\n",
       "    </tr>\n",
       "  </tbody>\n",
       "</table>\n",
       "</div>"
      ],
      "text/plain": [
       "       COUNTRY  correlation\n",
       "0       BRAZIL     0.965225\n",
       "1        CHINA     0.903165\n",
       "2      GERMANY     0.444990\n",
       "3        JAPAN     0.990857\n",
       "4  SOUTHAFRICA     0.974192\n",
       "5          USA     0.984573"
      ]
     },
     "execution_count": 36,
     "metadata": {},
     "output_type": "execute_result"
    }
   ],
   "source": [
    "corr_table = (\n",
    "    bpp.groupby(\"COUNTRY\")[\"price\"]\n",
    "    .corr(bpp[\"price_online\"])\n",
    "    .rename(\"correlation\")\n",
    "    .reset_index()\n",
    ")\n",
    "\n",
    "corr_table"
   ]
  },
  {
   "cell_type": "code",
   "execution_count": 37,
   "id": "8916b8df",
   "metadata": {},
   "outputs": [
    {
     "data": {
      "text/html": [
       "<div>\n",
       "<style scoped>\n",
       "    .dataframe tbody tr th:only-of-type {\n",
       "        vertical-align: middle;\n",
       "    }\n",
       "\n",
       "    .dataframe tbody tr th {\n",
       "        vertical-align: top;\n",
       "    }\n",
       "\n",
       "    .dataframe thead th {\n",
       "        text-align: right;\n",
       "    }\n",
       "</style>\n",
       "<table border=\"1\" class=\"dataframe\">\n",
       "  <thead>\n",
       "    <tr style=\"text-align: right;\">\n",
       "      <th></th>\n",
       "      <th>year</th>\n",
       "      <th>COUNTRY</th>\n",
       "      <th>correlation</th>\n",
       "    </tr>\n",
       "  </thead>\n",
       "  <tbody>\n",
       "    <tr>\n",
       "      <th>0</th>\n",
       "      <td>2015.0</td>\n",
       "      <td>BRAZIL</td>\n",
       "      <td>0.813101</td>\n",
       "    </tr>\n",
       "    <tr>\n",
       "      <th>1</th>\n",
       "      <td>2015.0</td>\n",
       "      <td>GERMANY</td>\n",
       "      <td>0.177105</td>\n",
       "    </tr>\n",
       "    <tr>\n",
       "      <th>2</th>\n",
       "      <td>2015.0</td>\n",
       "      <td>JAPAN</td>\n",
       "      <td>0.867502</td>\n",
       "    </tr>\n",
       "    <tr>\n",
       "      <th>3</th>\n",
       "      <td>2015.0</td>\n",
       "      <td>SOUTHAFRICA</td>\n",
       "      <td>0.998470</td>\n",
       "    </tr>\n",
       "    <tr>\n",
       "      <th>4</th>\n",
       "      <td>2015.0</td>\n",
       "      <td>USA</td>\n",
       "      <td>0.978825</td>\n",
       "    </tr>\n",
       "    <tr>\n",
       "      <th>5</th>\n",
       "      <td>2016.0</td>\n",
       "      <td>BRAZIL</td>\n",
       "      <td>0.999120</td>\n",
       "    </tr>\n",
       "    <tr>\n",
       "      <th>6</th>\n",
       "      <td>2016.0</td>\n",
       "      <td>CHINA</td>\n",
       "      <td>0.903165</td>\n",
       "    </tr>\n",
       "    <tr>\n",
       "      <th>7</th>\n",
       "      <td>2016.0</td>\n",
       "      <td>GERMANY</td>\n",
       "      <td>0.994315</td>\n",
       "    </tr>\n",
       "    <tr>\n",
       "      <th>8</th>\n",
       "      <td>2016.0</td>\n",
       "      <td>JAPAN</td>\n",
       "      <td>0.996807</td>\n",
       "    </tr>\n",
       "    <tr>\n",
       "      <th>9</th>\n",
       "      <td>2016.0</td>\n",
       "      <td>SOUTHAFRICA</td>\n",
       "      <td>0.974105</td>\n",
       "    </tr>\n",
       "    <tr>\n",
       "      <th>10</th>\n",
       "      <td>2016.0</td>\n",
       "      <td>USA</td>\n",
       "      <td>0.988741</td>\n",
       "    </tr>\n",
       "  </tbody>\n",
       "</table>\n",
       "</div>"
      ],
      "text/plain": [
       "      year      COUNTRY  correlation\n",
       "0   2015.0       BRAZIL     0.813101\n",
       "1   2015.0      GERMANY     0.177105\n",
       "2   2015.0        JAPAN     0.867502\n",
       "3   2015.0  SOUTHAFRICA     0.998470\n",
       "4   2015.0          USA     0.978825\n",
       "5   2016.0       BRAZIL     0.999120\n",
       "6   2016.0        CHINA     0.903165\n",
       "7   2016.0      GERMANY     0.994315\n",
       "8   2016.0        JAPAN     0.996807\n",
       "9   2016.0  SOUTHAFRICA     0.974105\n",
       "10  2016.0          USA     0.988741"
      ]
     },
     "execution_count": 37,
     "metadata": {},
     "output_type": "execute_result"
    }
   ],
   "source": [
    "corr_table2 = (\n",
    "    bpp.groupby([\"year\", \"COUNTRY\"])[\"price\"]\n",
    "    .corr(bpp[\"price_online\"])\n",
    "    .rename(\"correlation\")\n",
    "    .reset_index()\n",
    ")\n",
    "\n",
    "corr_table2"
   ]
  }
 ],
 "metadata": {
  "kernelspec": {
   "display_name": "Python 3 (ipykernel)",
   "language": "python",
   "name": "python3"
  },
  "language_info": {
   "codemirror_mode": {
    "name": "ipython",
    "version": 3
   },
   "file_extension": ".py",
   "mimetype": "text/x-python",
   "name": "python",
   "nbconvert_exporter": "python",
   "pygments_lexer": "ipython3",
   "version": "3.8.5"
  }
 },
 "nbformat": 4,
 "nbformat_minor": 5
}
