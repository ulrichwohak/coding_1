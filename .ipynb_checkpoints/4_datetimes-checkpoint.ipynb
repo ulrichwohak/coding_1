{
 "cells": [
  {
   "cell_type": "code",
   "execution_count": 1,
   "id": "3b24389b",
   "metadata": {},
   "outputs": [],
   "source": [
    "# Check out native Python functionality\n",
    "import datetime"
   ]
  },
  {
   "cell_type": "code",
   "execution_count": 2,
   "id": "6e8f9f86",
   "metadata": {},
   "outputs": [],
   "source": [
    "D = datetime.date(2022, 9, 1)\n",
    "T = datetime.time(12, 0, 0) # noon\n",
    "DT = datetime.datetime(2022, 9, 1, 12, 0, 0)"
   ]
  },
  {
   "cell_type": "code",
   "execution_count": 3,
   "id": "160fb8a0",
   "metadata": {},
   "outputs": [
    {
     "name": "stdout",
     "output_type": "stream",
     "text": [
      "D: 2022-09-01\n",
      "T: 12:00:00\n",
      "DT: 2022-09-01 12:00:00\n"
     ]
    }
   ],
   "source": [
    "print('D:', D)\n",
    "print('T:', T)\n",
    "print('DT:', DT)"
   ]
  },
  {
   "cell_type": "code",
   "execution_count": 4,
   "id": "1bf8f946",
   "metadata": {},
   "outputs": [
    {
     "name": "stdout",
     "output_type": "stream",
     "text": [
      "Type of D: <class 'datetime.date'>\n",
      "Type of T: <class 'datetime.time'>\n",
      "Type of DT: <class 'datetime.datetime'>\n"
     ]
    }
   ],
   "source": [
    "print('Type of D:', type(D))\n",
    "print('Type of T:', type(T))\n",
    "print('Type of DT:', type(DT))"
   ]
  },
  {
   "cell_type": "code",
   "execution_count": 5,
   "id": "98a0422c",
   "metadata": {},
   "outputs": [
    {
     "name": "stdout",
     "output_type": "stream",
     "text": [
      "2023-10-02 15:47:08.261976\n"
     ]
    }
   ],
   "source": [
    "# We can also get the current datetime\n",
    "current_datetime = datetime.datetime.now()\n",
    "print(current_datetime)"
   ]
  },
  {
   "cell_type": "code",
   "execution_count": 6,
   "id": "498afe99",
   "metadata": {},
   "outputs": [
    {
     "name": "stdout",
     "output_type": "stream",
     "text": [
      "2023\n",
      "10\n",
      "2\n",
      "15\n",
      "47\n",
      "8\n"
     ]
    }
   ],
   "source": [
    "# Some usefuls properties\n",
    "print(current_datetime.year)\n",
    "print(current_datetime.month)\n",
    "print(current_datetime.day)\n",
    "print(current_datetime.hour)\n",
    "print(current_datetime.minute)\n",
    "print(current_datetime.second)"
   ]
  },
  {
   "cell_type": "code",
   "execution_count": 7,
   "id": "ff24bbea",
   "metadata": {},
   "outputs": [
    {
     "name": "stdout",
     "output_type": "stream",
     "text": [
      "0\n"
     ]
    }
   ],
   "source": [
    "# Which weekday is it?\n",
    "print(current_datetime.weekday())"
   ]
  },
  {
   "cell_type": "code",
   "execution_count": 8,
   "id": "fbb08583",
   "metadata": {},
   "outputs": [],
   "source": [
    "# Arithmetic operations make sense datetime objects\n",
    "datetime_old = datetime.datetime(1990, 8, 20)\n",
    "datetime_now = datetime.datetime.now()"
   ]
  },
  {
   "cell_type": "code",
   "execution_count": 12,
   "id": "4f1e2c60",
   "metadata": {},
   "outputs": [
    {
     "name": "stdout",
     "output_type": "stream",
     "text": [
      "12096\n",
      "<class 'datetime.timedelta'>\n"
     ]
    }
   ],
   "source": [
    "# How many days have passed since the instructor's birthday?\n",
    "dt = datetime_now - datetime_old\n",
    "print(dt.days)\n",
    "print(type(dt))"
   ]
  },
  {
   "cell_type": "code",
   "execution_count": 13,
   "id": "4fd81e5d",
   "metadata": {},
   "outputs": [],
   "source": [
    "# Check out the time library\n",
    "import time"
   ]
  },
  {
   "cell_type": "code",
   "execution_count": 14,
   "id": "71f07f3f",
   "metadata": {},
   "outputs": [
    {
     "name": "stdout",
     "output_type": "stream",
     "text": [
      "1696254910.8269293\n"
     ]
    }
   ],
   "source": [
    "print(time.time()) # This tells us how many seconds have passed since 1 January 1970"
   ]
  },
  {
   "cell_type": "code",
   "execution_count": 15,
   "id": "2f1d85b2",
   "metadata": {},
   "outputs": [
    {
     "name": "stdout",
     "output_type": "stream",
     "text": [
      "1696255022.729842\n",
      "1696255024.7398732\n",
      "1696255026.7431326\n",
      "1696255028.745327\n",
      "1696255030.7530088\n"
     ]
    }
   ],
   "source": [
    "# Lets check out sleep()\n",
    "n = 0\n",
    "\n",
    "while n < 5:\n",
    "    print(time.time())\n",
    "    time.sleep(2)\n",
    "    n += 1"
   ]
  },
  {
   "cell_type": "code",
   "execution_count": 18,
   "id": "c4df953b",
   "metadata": {},
   "outputs": [],
   "source": [
    "# Pandas datetime objects\n",
    "import pandas as pd"
   ]
  },
  {
   "cell_type": "code",
   "execution_count": 19,
   "id": "4a2b6348",
   "metadata": {},
   "outputs": [],
   "source": [
    "# Let's some date data\n",
    "df = pd.DataFrame({'year': [2022, 2022, 2021],\n",
    "                  'months': [12, 11, 9],\n",
    "                  'day': [15, 14, 9],\n",
    "                  'hour': [23, 20, 9],\n",
    "                  'data': ['a', 'b', 'c']}\n",
    "                 )"
   ]
  },
  {
   "cell_type": "code",
   "execution_count": 20,
   "id": "fa2a5d06",
   "metadata": {},
   "outputs": [
    {
     "data": {
      "text/html": [
       "<div>\n",
       "<style scoped>\n",
       "    .dataframe tbody tr th:only-of-type {\n",
       "        vertical-align: middle;\n",
       "    }\n",
       "\n",
       "    .dataframe tbody tr th {\n",
       "        vertical-align: top;\n",
       "    }\n",
       "\n",
       "    .dataframe thead th {\n",
       "        text-align: right;\n",
       "    }\n",
       "</style>\n",
       "<table border=\"1\" class=\"dataframe\">\n",
       "  <thead>\n",
       "    <tr style=\"text-align: right;\">\n",
       "      <th></th>\n",
       "      <th>year</th>\n",
       "      <th>months</th>\n",
       "      <th>day</th>\n",
       "      <th>hour</th>\n",
       "      <th>data</th>\n",
       "    </tr>\n",
       "  </thead>\n",
       "  <tbody>\n",
       "    <tr>\n",
       "      <th>0</th>\n",
       "      <td>2022</td>\n",
       "      <td>12</td>\n",
       "      <td>15</td>\n",
       "      <td>23</td>\n",
       "      <td>a</td>\n",
       "    </tr>\n",
       "    <tr>\n",
       "      <th>1</th>\n",
       "      <td>2022</td>\n",
       "      <td>11</td>\n",
       "      <td>14</td>\n",
       "      <td>20</td>\n",
       "      <td>b</td>\n",
       "    </tr>\n",
       "    <tr>\n",
       "      <th>2</th>\n",
       "      <td>2021</td>\n",
       "      <td>9</td>\n",
       "      <td>9</td>\n",
       "      <td>9</td>\n",
       "      <td>c</td>\n",
       "    </tr>\n",
       "  </tbody>\n",
       "</table>\n",
       "</div>"
      ],
      "text/plain": [
       "   year  months  day  hour data\n",
       "0  2022      12   15    23    a\n",
       "1  2022      11   14    20    b\n",
       "2  2021       9    9     9    c"
      ]
     },
     "execution_count": 20,
     "metadata": {},
     "output_type": "execute_result"
    }
   ],
   "source": [
    "df.head()"
   ]
  },
  {
   "cell_type": "code",
   "execution_count": 22,
   "id": "4d8f826d",
   "metadata": {},
   "outputs": [],
   "source": [
    "# We want to convert the temporal information to a proper data type\n",
    "df['date'] = pd.to_datetime(df[['year', 'months', 'day', 'hour']])"
   ]
  },
  {
   "cell_type": "code",
   "execution_count": 23,
   "id": "50d3c91a",
   "metadata": {},
   "outputs": [
    {
     "data": {
      "text/plain": [
       "0   2022-12-15 23:00:00\n",
       "1   2022-11-14 20:00:00\n",
       "2   2021-09-09 09:00:00\n",
       "Name: date, dtype: datetime64[ns]"
      ]
     },
     "execution_count": 23,
     "metadata": {},
     "output_type": "execute_result"
    }
   ],
   "source": [
    "df['date']"
   ]
  }
 ],
 "metadata": {
  "kernelspec": {
   "display_name": "Python 3 (ipykernel)",
   "language": "python",
   "name": "python3"
  },
  "language_info": {
   "codemirror_mode": {
    "name": "ipython",
    "version": 3
   },
   "file_extension": ".py",
   "mimetype": "text/x-python",
   "name": "python",
   "nbconvert_exporter": "python",
   "pygments_lexer": "ipython3",
   "version": "3.8.5"
  }
 },
 "nbformat": 4,
 "nbformat_minor": 5
}
